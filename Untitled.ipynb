{
 "cells": [
  {
   "cell_type": "code",
   "execution_count": 4,
   "id": "09cc026a",
   "metadata": {},
   "outputs": [],
   "source": [
    "import pandas as pd"
   ]
  },
  {
   "cell_type": "code",
   "execution_count": null,
   "id": "7b0f3eaf",
   "metadata": {},
   "outputs": [],
   "source": []
  },
  {
   "cell_type": "code",
   "execution_count": 5,
   "id": "50083be7",
   "metadata": {},
   "outputs": [],
   "source": [
    "company_names = pd.read_csv(\"sp500.csv\")\n",
    "company_names.rename(columns = {\"cleanedname\":\"Name\"}, inplace = True)"
   ]
  },
  {
   "cell_type": "code",
   "execution_count": 6,
   "id": "4094d628",
   "metadata": {},
   "outputs": [
    {
     "data": {
      "text/html": [
       "<div>\n",
       "<style scoped>\n",
       "    .dataframe tbody tr th:only-of-type {\n",
       "        vertical-align: middle;\n",
       "    }\n",
       "\n",
       "    .dataframe tbody tr th {\n",
       "        vertical-align: top;\n",
       "    }\n",
       "\n",
       "    .dataframe thead th {\n",
       "        text-align: right;\n",
       "    }\n",
       "</style>\n",
       "<table border=\"1\" class=\"dataframe\">\n",
       "  <thead>\n",
       "    <tr style=\"text-align: right;\">\n",
       "      <th></th>\n",
       "      <th>Symbol</th>\n",
       "      <th>Name</th>\n",
       "      <th>Sector</th>\n",
       "    </tr>\n",
       "  </thead>\n",
       "  <tbody>\n",
       "    <tr>\n",
       "      <th>0</th>\n",
       "      <td>MMM</td>\n",
       "      <td>3M</td>\n",
       "      <td>Industrials</td>\n",
       "    </tr>\n",
       "    <tr>\n",
       "      <th>1</th>\n",
       "      <td>AOS</td>\n",
       "      <td>A. O. Smith</td>\n",
       "      <td>Industrials</td>\n",
       "    </tr>\n",
       "    <tr>\n",
       "      <th>2</th>\n",
       "      <td>ABT</td>\n",
       "      <td>Abbott Laboratories</td>\n",
       "      <td>Health Care</td>\n",
       "    </tr>\n",
       "    <tr>\n",
       "      <th>3</th>\n",
       "      <td>ABBV</td>\n",
       "      <td>AbbVie</td>\n",
       "      <td>Health Care</td>\n",
       "    </tr>\n",
       "    <tr>\n",
       "      <th>4</th>\n",
       "      <td>ABMD</td>\n",
       "      <td>Abiomed</td>\n",
       "      <td>Health Care</td>\n",
       "    </tr>\n",
       "    <tr>\n",
       "      <th>...</th>\n",
       "      <td>...</td>\n",
       "      <td>...</td>\n",
       "      <td>...</td>\n",
       "    </tr>\n",
       "    <tr>\n",
       "      <th>500</th>\n",
       "      <td>YUM</td>\n",
       "      <td>Yum! Brands</td>\n",
       "      <td>Consumer Discretionary</td>\n",
       "    </tr>\n",
       "    <tr>\n",
       "      <th>501</th>\n",
       "      <td>ZBRA</td>\n",
       "      <td>Zebra Technologies</td>\n",
       "      <td>Information Technology</td>\n",
       "    </tr>\n",
       "    <tr>\n",
       "      <th>502</th>\n",
       "      <td>ZBH</td>\n",
       "      <td>Zimmer Biomet</td>\n",
       "      <td>Health Care</td>\n",
       "    </tr>\n",
       "    <tr>\n",
       "      <th>503</th>\n",
       "      <td>ZION</td>\n",
       "      <td>Zions Bancorp</td>\n",
       "      <td>Financials</td>\n",
       "    </tr>\n",
       "    <tr>\n",
       "      <th>504</th>\n",
       "      <td>ZTS</td>\n",
       "      <td>Zoetis</td>\n",
       "      <td>Health Care</td>\n",
       "    </tr>\n",
       "  </tbody>\n",
       "</table>\n",
       "<p>505 rows × 3 columns</p>\n",
       "</div>"
      ],
      "text/plain": [
       "    Symbol                 Name                  Sector\n",
       "0      MMM                   3M             Industrials\n",
       "1      AOS          A. O. Smith             Industrials\n",
       "2      ABT  Abbott Laboratories             Health Care\n",
       "3     ABBV               AbbVie             Health Care\n",
       "4     ABMD              Abiomed             Health Care\n",
       "..     ...                  ...                     ...\n",
       "500    YUM          Yum! Brands  Consumer Discretionary\n",
       "501   ZBRA   Zebra Technologies  Information Technology\n",
       "502    ZBH        Zimmer Biomet             Health Care\n",
       "503   ZION        Zions Bancorp              Financials\n",
       "504    ZTS               Zoetis             Health Care\n",
       "\n",
       "[505 rows x 3 columns]"
      ]
     },
     "execution_count": 6,
     "metadata": {},
     "output_type": "execute_result"
    }
   ],
   "source": [
    "company_names"
   ]
  },
  {
   "cell_type": "code",
   "execution_count": null,
   "id": "a71b32f9",
   "metadata": {},
   "outputs": [],
   "source": []
  },
  {
   "cell_type": "code",
   "execution_count": 19,
   "id": "5504c730",
   "metadata": {
    "scrolled": true
   },
   "outputs": [
    {
     "name": "stdout",
     "output_type": "stream",
     "text": [
      "[{'company_name': '3M Company', 'esg_id': 16, 'exchange_symbol': 'NYSE', 'stock_symbol': 'MMM', 'disclaimer': 'ESG Enterprise\\'s ESG Rating data (\"Scores\") are all based on public information and provided for informational purposes only. No member of ESG Enterprise or related parties make any prediction, warranty or representation whatsoever, expressly or impliedly, either as to the suitability of our Scores for any particular purposes or the validity of any derivative analysis or conclusion based on the Scores.', 'goals': [{'timestamp': '2022-11-14T00:00:00Z', 'score': 5.0, 'sasb': 'Physical Impacts of Climate Change - SASB', 'sdg': 'Sustainable Cities & Communities - U.N. SDG'}, {'timestamp': '2022-11-14T00:00:00Z', 'score': 15.0, 'sasb': 'Business Ethics - SASB', 'sdg': 'Climate Action - U.N. SDG'}, {'timestamp': '2022-11-14T00:00:00Z', 'score': 5.0, 'sasb': 'Business Ethics - SASB', 'sdg': 'Responsible Consumption & Production - U.N. SDG'}, {'timestamp': '2022-11-14T00:00:00Z', 'score': 3.0, 'sasb': 'Data Security - SASB', 'sdg': 'Responsible Consumption & Production - U.N. SDG'}, {'timestamp': '2022-11-14T00:00:00Z', 'score': 3.0, 'sasb': 'Data Security - SASB', 'sdg': 'Responsible Consumption & Production - U.N. SDG'}, {'timestamp': '2022-11-14T00:00:00Z', 'score': 5.0, 'sasb': 'Physical Impacts of Climate Change - SASB', 'sdg': 'Sustainable Cities & Communities - U.N. SDG'}, {'timestamp': '2022-11-14T00:00:00Z', 'score': 15.0, 'sasb': 'Business Ethics - SASB', 'sdg': 'Climate Action - U.N. SDG'}, {'timestamp': '2022-11-14T00:00:00Z', 'score': 5.0, 'sasb': 'Business Ethics - SASB', 'sdg': 'Responsible Consumption & Production - U.N. SDG'}, {'timestamp': '2022-11-14T00:00:00Z', 'score': 3.0, 'sasb': 'Data Security - SASB', 'sdg': 'Responsible Consumption & Production - U.N. SDG'}, {'timestamp': '2022-11-14T00:00:00Z', 'score': 3.0, 'sasb': 'Data Security - SASB', 'sdg': 'Responsible Consumption & Production - U.N. SDG'}, {'timestamp': '2022-11-14T00:00:00Z', 'score': 5.0, 'sasb': 'Physical Impacts of Climate Change - SASB', 'sdg': 'Sustainable Cities & Communities - U.N. SDG'}, {'timestamp': '2022-11-14T00:00:00Z', 'score': 15.0, 'sasb': 'Business Ethics - SASB', 'sdg': 'Climate Action - U.N. SDG'}, {'timestamp': '2022-11-14T00:00:00Z', 'score': 5.0, 'sasb': 'Business Ethics - SASB', 'sdg': 'Responsible Consumption & Production - U.N. SDG'}, {'timestamp': '2022-11-14T00:00:00Z', 'score': 5.0, 'sasb': 'Physical Impacts of Climate Change - SASB', 'sdg': 'Sustainable Cities & Communities - U.N. SDG'}, {'timestamp': '2022-11-14T00:00:00Z', 'score': 15.0, 'sasb': 'Business Ethics - SASB', 'sdg': 'Climate Action - U.N. SDG'}, {'timestamp': '2022-11-14T00:00:00Z', 'score': 5.0, 'sasb': 'Business Ethics - SASB', 'sdg': 'Responsible Consumption & Production - U.N. SDG'}, {'timestamp': '2022-11-14T00:00:00Z', 'score': 1.0, 'sasb': 'Product Design & Lifecycle Management - SASB', 'sdg': 'Industry, Innovation & Infrastructure - U.N. SDG'}, {'timestamp': '2022-11-14T00:00:00Z', 'score': 20.0, 'sasb': 'Physical Impacts of Climate Change - SASB', 'sdg': 'Climate Action - U.N. SDG'}, {'timestamp': '2022-11-14T00:00:00Z', 'score': 3.0, 'sasb': 'Data Security - SASB', 'sdg': 'Responsible Consumption & Production - U.N. SDG'}, {'timestamp': '2022-11-14T00:00:00Z', 'score': 3.0, 'sasb': 'Data Security - SASB', 'sdg': 'Responsible Consumption & Production - U.N. SDG'}, {'timestamp': '2022-11-14T00:00:00Z', 'score': 5.0, 'sasb': 'Physical Impacts of Climate Change - SASB', 'sdg': 'Sustainable Cities & Communities - U.N. SDG'}, {'timestamp': '2022-11-14T00:00:00Z', 'score': 15.0, 'sasb': 'Business Ethics - SASB', 'sdg': 'Climate Action - U.N. SDG'}, {'timestamp': '2022-11-14T00:00:00Z', 'score': 5.0, 'sasb': 'Business Ethics - SASB', 'sdg': 'Responsible Consumption & Production - U.N. SDG'}, {'timestamp': '2022-11-14T00:00:00Z', 'score': 5.0, 'sasb': 'Physical Impacts of Climate Change - SASB', 'sdg': 'Climate Action - U.N. SDG'}, {'timestamp': '2022-11-14T00:00:00Z', 'score': 5.0, 'sasb': 'Physical Impacts of Climate Change - SASB', 'sdg': 'Climate Action - U.N. SDG'}, {'timestamp': '2022-11-14T00:00:00Z', 'score': 1.0, 'sasb': 'Product Design & Lifecycle Management - SASB', 'sdg': 'Industry, Innovation & Infrastructure - U.N. SDG'}, {'timestamp': '2022-11-14T00:00:00Z', 'score': 1.0, 'sasb': 'Product Design & Lifecycle Management - SASB', 'sdg': 'Industry, Innovation & Infrastructure - U.N. SDG'}, {'timestamp': '2022-11-14T00:00:00Z', 'score': 3.0, 'sasb': 'Data Security - SASB', 'sdg': 'Responsible Consumption & Production - U.N. SDG'}, {'timestamp': '2022-11-14T00:00:00Z', 'score': 3.0, 'sasb': 'Data Security - SASB', 'sdg': 'Responsible Consumption & Production - U.N. SDG'}, {'timestamp': '2022-11-14T00:00:00Z', 'score': 8.0, 'sasb': 'Employee Health & Safety - SASB', 'sdg': 'Good Health & Well-Being - U.N. SDG'}, {'timestamp': '2022-11-14T00:00:00Z', 'score': 5.0, 'sasb': 'Physical Impacts of Climate Change - SASB', 'sdg': 'Climate Action - U.N. SDG'}, {'timestamp': '2022-11-14T00:00:00Z', 'score': 5.0, 'sasb': 'Physical Impacts of Climate Change - SASB', 'sdg': 'Climate Action - U.N. SDG'}, {'timestamp': '2022-11-14T00:00:00Z', 'score': 5.0, 'sasb': 'Physical Impacts of Climate Change - SASB', 'sdg': 'Climate Action - U.N. SDG'}, {'timestamp': '2022-11-14T00:00:00Z', 'score': 5.0, 'sasb': 'Physical Impacts of Climate Change - SASB', 'sdg': 'Climate Action - U.N. SDG'}, {'timestamp': '2022-11-14T00:00:00Z', 'score': 1.0, 'sasb': 'Product Design & Lifecycle Management - SASB', 'sdg': 'Industry, Innovation & Infrastructure - U.N. SDG'}, {'timestamp': '2022-11-14T00:00:00Z', 'score': 1.0, 'sasb': 'Product Design & Lifecycle Management - SASB', 'sdg': 'Industry, Innovation & Infrastructure - U.N. SDG'}, {'timestamp': '2022-11-14T00:00:00Z', 'score': 1.0, 'sasb': 'Product Design & Lifecycle Management - SASB', 'sdg': 'Industry, Innovation & Infrastructure - U.N. SDG'}, {'timestamp': '2022-11-14T00:00:00Z', 'score': 1.0, 'sasb': 'Product Design & Lifecycle Management - SASB', 'sdg': 'Industry, Innovation & Infrastructure - U.N. SDG'}, {'timestamp': '2022-11-14T00:00:00Z', 'score': 3.0, 'sasb': 'Data Security - SASB', 'sdg': 'Responsible Consumption & Production - U.N. SDG'}, {'timestamp': '2022-11-14T00:00:00Z', 'score': 3.0, 'sasb': 'Data Security - SASB', 'sdg': 'Responsible Consumption & Production - U.N. SDG'}, {'timestamp': '2022-11-14T00:00:00Z', 'score': 8.0, 'sasb': 'Employee Health & Safety - SASB', 'sdg': 'Good Health & Well-Being - U.N. SDG'}, {'timestamp': '2022-11-14T00:00:00Z', 'score': 3.0, 'sasb': 'Data Security - SASB', 'sdg': 'Responsible Consumption & Production - U.N. SDG'}, {'timestamp': '2022-11-14T00:00:00Z', 'score': 3.0, 'sasb': 'Data Security - SASB', 'sdg': 'Responsible Consumption & Production - U.N. SDG'}, {'timestamp': '2022-11-14T00:00:00Z', 'score': 8.0, 'sasb': 'Employee Health & Safety - SASB', 'sdg': 'Good Health & Well-Being - U.N. SDG'}, {'timestamp': '2022-11-14T00:00:00Z', 'score': 5.0, 'sasb': 'Physical Impacts of Climate Change - SASB', 'sdg': 'Climate Action - U.N. SDG'}, {'timestamp': '2022-11-14T00:00:00Z', 'score': 5.0, 'sasb': 'Physical Impacts of Climate Change - SASB', 'sdg': 'Climate Action - U.N. SDG'}, {'timestamp': '2022-11-14T00:00:00Z', 'score': 5.0, 'sasb': 'Physical Impacts of Climate Change - SASB', 'sdg': 'Sustainable Cities & Communities - U.N. SDG'}, {'timestamp': '2022-11-14T00:00:00Z', 'score': 15.0, 'sasb': 'Business Ethics - SASB', 'sdg': 'Climate Action - U.N. SDG'}, {'timestamp': '2022-11-14T00:00:00Z', 'score': 5.0, 'sasb': 'Business Ethics - SASB', 'sdg': 'Responsible Consumption & Production - U.N. SDG'}, {'timestamp': '2022-11-14T00:00:00Z', 'score': 1.0, 'sasb': 'Product Design & Lifecycle Management - SASB', 'sdg': 'Industry, Innovation & Infrastructure - U.N. SDG'}, {'timestamp': '2022-11-14T00:00:00Z', 'score': 1.0, 'sasb': 'Product Design & Lifecycle Management - SASB', 'sdg': 'Industry, Innovation & Infrastructure - U.N. SDG'}, {'timestamp': '2022-11-14T00:00:00Z', 'score': 3.0, 'sasb': 'Data Security - SASB', 'sdg': 'Responsible Consumption & Production - U.N. SDG'}, {'timestamp': '2022-11-14T00:00:00Z', 'score': 3.0, 'sasb': 'Data Security - SASB', 'sdg': 'Responsible Consumption & Production - U.N. SDG'}, {'timestamp': '2022-11-14T00:00:00Z', 'score': 8.0, 'sasb': 'Employee Health & Safety - SASB', 'sdg': 'Good Health & Well-Being - U.N. SDG'}, {'timestamp': '2022-11-14T00:00:00Z', 'score': 5.0, 'sasb': 'Physical Impacts of Climate Change - SASB', 'sdg': 'Climate Action - U.N. SDG'}, {'timestamp': '2022-11-14T00:00:00Z', 'score': 5.0, 'sasb': 'Physical Impacts of Climate Change - SASB', 'sdg': 'Climate Action - U.N. SDG'}, {'timestamp': '2022-11-14T00:00:00Z', 'score': 5.0, 'sasb': 'Physical Impacts of Climate Change - SASB', 'sdg': 'Sustainable Cities & Communities - U.N. SDG'}, {'timestamp': '2022-11-14T00:00:00Z', 'score': 15.0, 'sasb': 'Business Ethics - SASB', 'sdg': 'Climate Action - U.N. SDG'}, {'timestamp': '2022-11-14T00:00:00Z', 'score': 5.0, 'sasb': 'Business Ethics - SASB', 'sdg': 'Responsible Consumption & Production - U.N. SDG'}, {'timestamp': '2022-11-14T00:00:00Z', 'score': 1.0, 'sasb': 'Product Design & Lifecycle Management - SASB', 'sdg': 'Industry, Innovation & Infrastructure - U.N. SDG'}, {'timestamp': '2022-11-14T00:00:00Z', 'score': 1.0, 'sasb': 'Product Design & Lifecycle Management - SASB', 'sdg': 'Industry, Innovation & Infrastructure - U.N. SDG'}, {'timestamp': '2022-11-14T00:00:00Z', 'score': 1.0, 'sasb': 'Product Design & Lifecycle Management - SASB', 'sdg': 'Industry, Innovation & Infrastructure - U.N. SDG'}, {'timestamp': '2022-11-14T00:00:00Z', 'score': 5.0, 'sasb': 'Physical Impacts of Climate Change - SASB', 'sdg': 'Climate Action - U.N. SDG'}, {'timestamp': '2022-11-14T00:00:00Z', 'score': 3.0, 'sasb': 'Data Security - SASB', 'sdg': 'Responsible Consumption & Production - U.N. SDG'}, {'timestamp': '2022-11-14T00:00:00Z', 'score': 5.0, 'sasb': 'Physical Impacts of Climate Change - SASB', 'sdg': 'Climate Action - U.N. SDG'}, {'timestamp': '2022-11-14T00:00:00Z', 'score': 3.0, 'sasb': 'Data Security - SASB', 'sdg': 'Responsible Consumption & Production - U.N. SDG'}, {'timestamp': '2022-11-14T00:00:00Z', 'score': 8.0, 'sasb': 'Employee Health & Safety - SASB', 'sdg': 'Good Health & Well-Being - U.N. SDG'}, {'timestamp': '2022-11-14T00:00:00Z', 'score': 5.0, 'sasb': 'Physical Impacts of Climate Change - SASB', 'sdg': 'Climate Action - U.N. SDG'}, {'timestamp': '2022-11-14T00:00:00Z', 'score': 5.0, 'sasb': 'Physical Impacts of Climate Change - SASB', 'sdg': 'Climate Action - U.N. SDG'}, {'timestamp': '2022-11-14T00:00:00Z', 'score': 1.0, 'sasb': 'Product Design & Lifecycle Management - SASB', 'sdg': 'Industry, Innovation & Infrastructure - U.N. SDG'}, {'timestamp': '2022-11-14T00:00:00Z', 'score': 1.0, 'sasb': 'Product Design & Lifecycle Management - SASB', 'sdg': 'Industry, Innovation & Infrastructure - U.N. SDG'}, {'timestamp': '2022-11-14T00:00:00Z', 'score': 1.0, 'sasb': 'Product Design & Lifecycle Management - SASB', 'sdg': 'Industry, Innovation & Infrastructure - U.N. SDG'}, {'timestamp': '2022-11-14T00:00:00Z', 'score': 1.0, 'sasb': 'Product Design & Lifecycle Management - SASB', 'sdg': 'Industry, Innovation & Infrastructure - U.N. SDG'}, {'timestamp': '2022-11-14T00:00:00Z', 'score': 3.0, 'sasb': 'Data Security - SASB', 'sdg': 'Responsible Consumption & Production - U.N. SDG'}, {'timestamp': '2022-11-14T00:00:00Z', 'score': 3.0, 'sasb': 'Data Security - SASB', 'sdg': 'Responsible Consumption & Production - U.N. SDG'}, {'timestamp': '2022-11-14T00:00:00Z', 'score': 8.0, 'sasb': 'Employee Health & Safety - SASB', 'sdg': 'Good Health & Well-Being - U.N. SDG'}, {'timestamp': '2022-11-14T00:00:00Z', 'score': 3.0, 'sasb': 'Data Security - SASB', 'sdg': 'Responsible Consumption & Production - U.N. SDG'}, {'timestamp': '2022-11-14T00:00:00Z', 'score': 3.0, 'sasb': 'Data Security - SASB', 'sdg': 'Responsible Consumption & Production - U.N. SDG'}, {'timestamp': '2022-11-14T00:00:00Z', 'score': 8.0, 'sasb': 'Employee Health & Safety - SASB', 'sdg': 'Good Health & Well-Being - U.N. SDG'}, {'timestamp': '2022-11-14T00:00:00Z', 'score': 3.0, 'sasb': 'Physical Impacts of Climate Change - SASB', 'sdg': 'Affordable & Clean Energy - U.N. SDG'}, {'timestamp': '2022-11-14T00:00:00Z', 'score': 5.0, 'sasb': 'Physical Impacts of Climate Change - SASB', 'sdg': 'Climate Action - U.N. SDG'}, {'timestamp': '2022-11-14T00:00:00Z', 'score': 5.0, 'sasb': 'Physical Impacts of Climate Change - SASB', 'sdg': 'Climate Action - U.N. SDG'}, {'timestamp': '2022-11-14T00:00:00Z', 'score': 5.0, 'sasb': 'Physical Impacts of Climate Change - SASB', 'sdg': 'Sustainable Cities & Communities - U.N. SDG'}, {'timestamp': '2022-11-14T00:00:00Z', 'score': 15.0, 'sasb': 'Business Ethics - SASB', 'sdg': 'Climate Action - U.N. SDG'}, {'timestamp': '2022-11-14T00:00:00Z', 'score': 5.0, 'sasb': 'Business Ethics - SASB', 'sdg': 'Responsible Consumption & Production - U.N. SDG'}, {'timestamp': '2022-11-14T00:00:00Z', 'score': 3.0, 'sasb': 'Data Security - SASB', 'sdg': 'Responsible Consumption & Production - U.N. SDG'}, {'timestamp': '2022-11-14T00:00:00Z', 'score': 3.0, 'sasb': 'Data Security - SASB', 'sdg': 'Responsible Consumption & Production - U.N. SDG'}, {'timestamp': '2022-11-14T00:00:00Z', 'score': 1.0, 'sasb': 'Product Design & Lifecycle Management - SASB', 'sdg': 'Industry, Innovation & Infrastructure - U.N. SDG'}, {'timestamp': '2022-11-14T00:00:00Z', 'score': 1.0, 'sasb': 'Product Design & Lifecycle Management - SASB', 'sdg': 'Industry, Innovation & Infrastructure - U.N. SDG'}, {'timestamp': '2022-11-14T00:00:00Z', 'score': 3.0, 'sasb': 'Data Security - SASB', 'sdg': 'Responsible Consumption & Production - U.N. SDG'}, {'timestamp': '2022-11-14T00:00:00Z', 'score': 3.0, 'sasb': 'Data Security - SASB', 'sdg': 'Responsible Consumption & Production - U.N. SDG'}, {'timestamp': '2022-11-14T00:00:00Z', 'score': 8.0, 'sasb': 'Employee Health & Safety - SASB', 'sdg': 'Good Health & Well-Being - U.N. SDG'}, {'timestamp': '2022-11-14T00:00:00Z', 'score': 5.0, 'sasb': 'Physical Impacts of Climate Change - SASB', 'sdg': 'Climate Action - U.N. SDG'}, {'timestamp': '2022-11-14T00:00:00Z', 'score': 5.0, 'sasb': 'Physical Impacts of Climate Change - SASB', 'sdg': 'Climate Action - U.N. SDG'}, {'timestamp': '2022-11-14T00:00:00Z', 'score': 1.0, 'sasb': 'Product Design & Lifecycle Management - SASB', 'sdg': 'Industry, Innovation & Infrastructure - U.N. SDG'}, {'timestamp': '2022-11-14T00:00:00Z', 'score': 1.0, 'sasb': 'Product Design & Lifecycle Management - SASB', 'sdg': 'Industry, Innovation & Infrastructure - U.N. SDG'}, {'timestamp': '2022-11-14T00:00:00Z', 'score': 3.0, 'sasb': 'Data Security - SASB', 'sdg': 'Responsible Consumption & Production - U.N. SDG'}, {'timestamp': '2022-11-14T00:00:00Z', 'score': 3.0, 'sasb': 'Data Security - SASB', 'sdg': 'Responsible Consumption & Production - U.N. SDG'}, {'timestamp': '2022-11-14T00:00:00Z', 'score': 8.0, 'sasb': 'Employee Health & Safety - SASB', 'sdg': 'Good Health & Well-Being - U.N. SDG'}, {'timestamp': '2022-11-14T00:00:00Z', 'score': 1.0, 'sasb': 'Product Design & Lifecycle Management - SASB', 'sdg': 'Industry, Innovation & Infrastructure - U.N. SDG'}, {'timestamp': '2022-11-14T00:00:00Z', 'score': 5.0, 'sasb': 'Employee Engagement, Diversity & Inclusion - SASB', 'sdg': 'Reduce Inequality - U.N. SDG'}, {'timestamp': '2022-11-14T00:00:00Z', 'score': 5.0, 'sasb': 'Human Rights & Community Relations - SASB', 'sdg': 'Peace, Justice & Strong Institutions - U.N. SDG'}, {'timestamp': '2022-11-14T00:00:00Z', 'score': 15.0, 'sasb': 'Employee Engagement, Diversity & Inclusion - SASB', 'sdg': 'Gender Equality - U.N. SDG'}, {'timestamp': '2022-11-14T00:00:00Z', 'score': 15.0, 'sasb': 'Employee Engagement, Diversity & Inclusion - SASB', 'sdg': 'Gender Equality - U.N. SDG'}, {'timestamp': '2022-11-14T00:00:00Z', 'score': 13.0, 'sasb': 'Human Rights & Community Relations - SASB', 'sdg': 'Sustainable Cities & Communities - U.N. SDG'}, {'timestamp': '2022-11-14T00:00:00Z', 'score': 5.0, 'sasb': 'Systemic Risk Management - SASB', 'sdg': 'Reduce Inequality - U.N. SDG'}, {'timestamp': '2022-11-14T00:00:00Z', 'score': 5.0, 'sasb': 'Employee Engagement, Diversity & Inclusion - SASB', 'sdg': 'Reduce Inequality - U.N. SDG'}, {'timestamp': '2022-11-14T00:00:00Z', 'score': 5.0, 'sasb': 'Human Rights & Community Relations - SASB', 'sdg': 'Peace, Justice & Strong Institutions - U.N. SDG'}, {'timestamp': '2022-11-14T00:00:00Z', 'score': 5.0, 'sasb': 'Physical Impacts of Climate Change - SASB', 'sdg': 'Climate Action - U.N. SDG'}, {'timestamp': '2022-11-14T00:00:00Z', 'score': 15.0, 'sasb': 'GHG Emissions - SASB', 'sdg': 'Climate Action - U.N. SDG'}, {'timestamp': '2022-11-14T00:00:00Z', 'score': 15.0, 'sasb': 'Employee Engagement, Diversity & Inclusion - SASB', 'sdg': 'Gender Equality - U.N. SDG'}, {'timestamp': '2022-11-14T00:00:00Z', 'score': 15.0, 'sasb': 'Employee Engagement, Diversity & Inclusion - SASB', 'sdg': 'Gender Equality - U.N. SDG'}, {'timestamp': '2022-11-14T00:00:00Z', 'score': 5.0, 'sasb': 'Systemic Risk Management - SASB', 'sdg': 'Reduce Inequality - U.N. SDG'}, {'timestamp': '2022-11-14T00:00:00Z', 'score': 1.0, 'sasb': 'Product Design & Lifecycle Management - SASB', 'sdg': 'Industry, Innovation & Infrastructure - U.N. SDG'}, {'timestamp': '2022-11-14T00:00:00Z', 'score': 4.0, 'sasb': 'Water & Wastewater Management - SASB', 'sdg': 'Clean Water & Sanitation - U.N. SDG'}, {'timestamp': '2022-11-14T00:00:00Z', 'score': 1.0, 'sasb': 'Product Design & Lifecycle Management - SASB', 'sdg': 'Industry, Innovation & Infrastructure - U.N. SDG'}, {'timestamp': '2022-11-14T00:00:00Z', 'score': 3.0, 'sasb': 'Air Quality - SASB', 'sdg': 'Affordable & Clean Energy - U.N. SDG'}, {'timestamp': '2022-11-14T00:00:00Z', 'score': 1.0, 'sasb': 'Product Design & Lifecycle Management - SASB', 'sdg': 'Industry, Innovation & Infrastructure - U.N. SDG'}]}]\n"
     ]
    }
   ],
   "source": [
    "import requests\n",
    "\n",
    "url = \"https://esg-environmental-social-governance-data.p.rapidapi.com/goals\"\n",
    "\n",
    "querystring = {\"q\":\"MMM\"}\n",
    "\n",
    "headers = {\n",
    "\t\"X-RapidAPI-Key\": \"a0c0b3ba5fmshdb3bf13894fd581p1552a4jsn13d994645c67\",\n",
    "\t\"X-RapidAPI-Host\": \"esg-environmental-social-governance-data.p.rapidapi.com\"\n",
    "}\n",
    "\n",
    "response = requests.request(\"GET\", url, headers=headers, params=querystring).json()\n",
    "\n",
    "print(response)"
   ]
  },
  {
   "cell_type": "code",
   "execution_count": 36,
   "id": "3327f697",
   "metadata": {},
   "outputs": [],
   "source": [
    "\n",
    "import requests\n",
    "\n",
    "url = \"https://esg-environmental-social-governance-data.p.rapidapi.com/goals\"\n",
    "\n",
    "querystring = {\"q\":\"MMM\"}\n",
    "\n",
    "headers = {\n",
    "\t\"X-RapidAPI-Key\": \"a0c0b3ba5fmshdb3bf13894fd581p1552a4jsn13d994645c67\",\n",
    "\t\"X-RapidAPI-Host\": \"esg-environmental-social-governance-data.p.rapidapi.com\"\n",
    "}\n",
    "\n",
    "response = requests.request(\"GET\", url, headers=headers, params=querystring).json()\n",
    "\n",
    "print(response)\n",
    "\n",
    "\n",
    "\n",
    "\n",
    "result = []\n",
    "\n",
    "for element in response[0][\"goals\"]: \n",
    "    \n",
    "    if element[\"sdg\"] == \"Gender Equality - U.N. SDG\":\n",
    "        result.append(element[\"score\"])\n",
    "        \n"
   ]
  },
  {
   "cell_type": "code",
   "execution_count": 41,
   "id": "ac623e3c",
   "metadata": {},
   "outputs": [
    {
     "data": {
      "text/plain": [
       "15.0"
      ]
     },
     "execution_count": 41,
     "metadata": {},
     "output_type": "execute_result"
    }
   ],
   "source": [
    "sum(result)/len(result)"
   ]
  },
  {
   "cell_type": "code",
   "execution_count": null,
   "id": "25d83ca4",
   "metadata": {},
   "outputs": [],
   "source": []
  },
  {
   "cell_type": "code",
   "execution_count": 42,
   "id": "21db9a3e",
   "metadata": {},
   "outputs": [],
   "source": [
    "def get_gender_equality(ticker): \n",
    "    \n",
    "    url = \"https://esg-environmental-social-governance-data.p.rapidapi.com/goals\"\n",
    "\n",
    "    querystring = {\"q\":ticker}\n",
    "\n",
    "    headers = {\n",
    "    \"X-RapidAPI-Key\": \"a0c0b3ba5fmshdb3bf13894fd581p1552a4jsn13d994645c67\",\n",
    "    \"X-RapidAPI-Host\": \"esg-environmental-social-governance-data.p.rapidapi.com\"\n",
    "    }\n",
    "\n",
    "    response = requests.request(\"GET\", url, headers=headers, params=querystring).json()\n",
    "\n",
    "    result = []\n",
    "\n",
    "    for element in response[0][\"goals\"]: \n",
    "    \n",
    "        if element[\"sdg\"] == \"Gender Equality - U.N. SDG\":\n",
    "            result.append(element[\"score\"])\n",
    "            \n",
    "    return sum(result)/len(result)"
   ]
  },
  {
   "cell_type": "code",
   "execution_count": 52,
   "id": "064e07b3",
   "metadata": {},
   "outputs": [
    {
     "ename": "ZeroDivisionError",
     "evalue": "division by zero",
     "output_type": "error",
     "traceback": [
      "\u001b[0;31m---------------------------------------------------------------------------\u001b[0m",
      "\u001b[0;31mZeroDivisionError\u001b[0m                         Traceback (most recent call last)",
      "Input \u001b[0;32mIn [52]\u001b[0m, in \u001b[0;36m<cell line: 1>\u001b[0;34m()\u001b[0m\n\u001b[0;32m----> 1\u001b[0m \u001b[43mget_gender_equality\u001b[49m\u001b[43m(\u001b[49m\u001b[38;5;124;43m\"\u001b[39;49m\u001b[38;5;124;43mGME\u001b[39;49m\u001b[38;5;124;43m\"\u001b[39;49m\u001b[43m)\u001b[49m\n",
      "Input \u001b[0;32mIn [42]\u001b[0m, in \u001b[0;36mget_gender_equality\u001b[0;34m(ticker)\u001b[0m\n\u001b[1;32m     18\u001b[0m     \u001b[38;5;28;01mif\u001b[39;00m element[\u001b[38;5;124m\"\u001b[39m\u001b[38;5;124msdg\u001b[39m\u001b[38;5;124m\"\u001b[39m] \u001b[38;5;241m==\u001b[39m \u001b[38;5;124m\"\u001b[39m\u001b[38;5;124mGender Equality - U.N. SDG\u001b[39m\u001b[38;5;124m\"\u001b[39m:\n\u001b[1;32m     19\u001b[0m         result\u001b[38;5;241m.\u001b[39mappend(element[\u001b[38;5;124m\"\u001b[39m\u001b[38;5;124mscore\u001b[39m\u001b[38;5;124m\"\u001b[39m])\n\u001b[0;32m---> 21\u001b[0m \u001b[38;5;28;01mreturn\u001b[39;00m \u001b[38;5;28;43msum\u001b[39;49m\u001b[43m(\u001b[49m\u001b[43mresult\u001b[49m\u001b[43m)\u001b[49m\u001b[38;5;241;43m/\u001b[39;49m\u001b[38;5;28;43mlen\u001b[39;49m\u001b[43m(\u001b[49m\u001b[43mresult\u001b[49m\u001b[43m)\u001b[49m\n",
      "\u001b[0;31mZeroDivisionError\u001b[0m: division by zero"
     ]
    }
   ],
   "source": [
    "get_gender_equality(\"GME\")"
   ]
  },
  {
   "cell_type": "code",
   "execution_count": null,
   "id": "8ffe0b97",
   "metadata": {},
   "outputs": [],
   "source": []
  }
 ],
 "metadata": {
  "kernelspec": {
   "display_name": "Python 3 (ipykernel)",
   "language": "python",
   "name": "python3"
  },
  "language_info": {
   "codemirror_mode": {
    "name": "ipython",
    "version": 3
   },
   "file_extension": ".py",
   "mimetype": "text/x-python",
   "name": "python",
   "nbconvert_exporter": "python",
   "pygments_lexer": "ipython3",
   "version": "3.8.12"
  }
 },
 "nbformat": 4,
 "nbformat_minor": 5
}

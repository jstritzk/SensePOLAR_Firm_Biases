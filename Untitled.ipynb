{
 "cells": [
  {
   "cell_type": "code",
   "execution_count": 2,
   "id": "216271fb",
   "metadata": {},
   "outputs": [],
   "source": [
    "import requests\n",
    "import json\n",
    "app_id = \"27817df8\"\n",
    "app_key = \"b06cc3abf9e998663379f9e42d23a81e\"\n",
    "language = \"en-gb\"\n",
    "word_id = \"sentimental\"\n",
    "url = \"https://od-api.oxforddictionaries.com:443/api/v2/entries/\" + language + \"/\" + word_id.lower()\n",
    "r = requests.get(url, headers={\"app_id\": app_id, \"app_key\": app_key}) "
   ]
  },
  {
   "cell_type": "code",
   "execution_count": 62,
   "id": "cbd75c56",
   "metadata": {
    "scrolled": true
   },
   "outputs": [],
   "source": [
    "d = json.loads(r.text)"
   ]
  },
  {
   "cell_type": "code",
   "execution_count": 81,
   "id": "1b36d424",
   "metadata": {},
   "outputs": [
    {
     "data": {
      "text/plain": [
       "'she felt a sentimental attachment to the place creep over her'"
      ]
     },
     "execution_count": 81,
     "metadata": {},
     "output_type": "execute_result"
    }
   ],
   "source": [
    "d[\"results\"][0][\"lexicalEntries\"][0][\"entries\"][0][\"senses\"][0][\"examples\"][0][\"text\"]"
   ]
  },
  {
   "cell_type": "code",
   "execution_count": null,
   "id": "3b8936d1",
   "metadata": {},
   "outputs": [],
   "source": []
  }
 ],
 "metadata": {
  "kernelspec": {
   "display_name": "Python 3 (ipykernel)",
   "language": "python",
   "name": "python3"
  },
  "language_info": {
   "codemirror_mode": {
    "name": "ipython",
    "version": 3
   },
   "file_extension": ".py",
   "mimetype": "text/x-python",
   "name": "python",
   "nbconvert_exporter": "python",
   "pygments_lexer": "ipython3",
   "version": "3.8.12"
  }
 },
 "nbformat": 4,
 "nbformat_minor": 5
}

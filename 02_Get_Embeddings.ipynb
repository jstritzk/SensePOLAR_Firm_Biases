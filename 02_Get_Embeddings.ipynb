{
 "cells": [
  {
   "cell_type": "markdown",
   "id": "994630de-3b61-49c1-9bcb-104ec8e2f82c",
   "metadata": {},
   "source": [
    "# 02 Getting Embeddings"
   ]
  },
  {
   "cell_type": "markdown",
   "id": "d3dc9bdf-7db0-486c-8eae-977a9737dc22",
   "metadata": {},
   "source": [
    "The script was executed individually for all Harvard action verb situations and the work situation by specifying the parameters \"context\" and \"context_list\" accordingly. "
   ]
  },
  {
   "cell_type": "markdown",
   "id": "0e437eb5-4ab0-4c2a-a450-3fee06578962",
   "metadata": {},
   "source": [
    "## Imports"
   ]
  },
  {
   "cell_type": "code",
   "execution_count": null,
   "id": "b50800e3-7575-4f92-8902-3692d5ff56d6",
   "metadata": {},
   "outputs": [],
   "source": [
    "import bertFuncs as func\n",
    "import pandas as pd\n",
    "import warnings\n",
    "warnings.filterwarnings(\"ignore\")\n",
    "from transformers import logging\n",
    "logging.set_verbosity_error()\n",
    "from tqdm.notebook import tqdm\n",
    "import numpy as np\n",
    "from scipy.stats import ttest_ind\n",
    "import math\n",
    "import pathlib\n",
    "from functools import partial\n",
    "from itertools import repeat\n",
    "from multiprocessing import Pool, freeze_support\n",
    "import multiprocess as mp\n",
    "import os\n",
    "os.environ[\"TOKENIZERS_PARALLELISM\"] = \"false\"\n",
    "import random"
   ]
  },
  {
   "cell_type": "code",
   "execution_count": 2,
   "id": "e2e677cf-ccad-4faf-97ba-cc04f93dd51b",
   "metadata": {},
   "outputs": [],
   "source": [
    "# Import company list. \n",
    "company_names = pd.read_csv(\"sp500companynames_clean.csv\", sep = \";\", index_col = 0)\n",
    "company_names.dropna(inplace = True)\n",
    "company_names.rename(columns = {\"companyname\":\"Name\"}, inplace = True)\n",
    "company_names[\"Name\"] = company_names[\"Name\"].str.lower()\n",
    "\n",
    "# Load and clean list of english nouns and generate random sample.\n",
    "nouns = pd.read_csv('nouns.csv', sep=\";\")\n",
    "nouns = nouns[nouns['nouns'].str.strip().str.split(' ').str.len().eq(1)] # Only considering single word nouns.\n",
    "nouns_sample = nouns[\"nouns\"].sample(n = 800, random_state = 42)\n",
    "nouns_sample = list(nouns_sample)\n",
    "\n",
    "# Load action verbs.\n",
    "action_verbs = pd.read_csv(\"action_verbs_final.csv\", sep = \";\", index_col = 0)\n",
    "\n",
    "# Import and prepare dictionaries. \n",
    "dictionaries = pd.read_csv(\"dimensions_matched_manual.csv\", sep = \";\", index_col = 0)\n",
    "dictionaries = dictionaries[dictionaries.Dictionary != \"Politics\"].reset_index()\n",
    "dictionaries[\"tuple\"] = list(zip(dictionaries[\"Term2\"].astype(str), dictionaries[\"Term1\"].astype(str)))\n",
    "dictionaries = dictionaries[[\"Dictionary\", \"tuple\"]]\n",
    "dictionaries[\"tuple\"] = dictionaries[\"tuple\"].astype(str)\n",
    "\n",
    "unique_dictionaries = dictionaries.drop_duplicates(subset='tuple', keep=\"last\")\n",
    "unique_dictionaries.reset_index(inplace = True)"
   ]
  },
  {
   "cell_type": "code",
   "execution_count": 13,
   "id": "adcae1e4-6159-4c9e-8528-468a628299a0",
   "metadata": {},
   "outputs": [],
   "source": [
    "# Set variables\n",
    "context = \"Work\" # Situation set name \n",
    "method = f\"Embedd_Firms/{context}_context\"\n",
    "companies = company_names[\"Name\"]\n",
    "num_of_dim = 89\n",
    "all_dimensions = dictionaries[\"tuple\"].unique()\n",
    "context_list = [\"works\", \"worked\", \"will work\", \"has worked\", \"is working\",\"is employed\", \n",
    "                \"was employed\", \"will be employed\", \"has been employed\"] # Situation set verbs "
   ]
  },
  {
   "cell_type": "markdown",
   "id": "7903d28a-8350-43c8-a27a-fe82abd0758c",
   "metadata": {
    "tags": []
   },
   "source": [
    "## 1. Create Pronoun Embeddings"
   ]
  },
  {
   "cell_type": "code",
   "execution_count": 8,
   "id": "f03034a7-7824-49d5-b112-aa28d372cf4a",
   "metadata": {},
   "outputs": [],
   "source": [
    "# Get BERT. \n",
    "tokenizer, model = func.getBert()"
   ]
  },
  {
   "cell_type": "code",
   "execution_count": 9,
   "id": "76ec4da4-e73d-4b82-be8b-89dccad71253",
   "metadata": {},
   "outputs": [],
   "source": [
    "def get_pronoun_embedding(context, embedded_word, numPolar, method): \n",
    "    \n",
    "    # Create dataframe for final embedding. \n",
    "    embedding = pd.DataFrame()\n",
    "    \n",
    "    # Create path for storing the embedding files. \n",
    "    pathlib.Path(f'./01_Embeddings/{method}/').mkdir(parents=True, exist_ok=True) \n",
    "\n",
    "    # Define full context. \n",
    "    male_context = f\"He {context} at the corporation {embedded_word}\"\n",
    "    female_context = f\"She {context} at the corporation {embedded_word}\"\n",
    "    \n",
    "    # Get embeddings for male context.\n",
    "    male_embedding = pd.DataFrame(func.analyzeWord(\"He\", male_context ,numberPolar = numPolar, model=model, tokenizer=tokenizer)).transpose()\n",
    "    male_embedding = male_embedding.rename(columns={2: 'Value_Male'})\n",
    "    male_embedding.drop([0, 1], axis = 1, inplace = True)\n",
    "\n",
    "    # Get embeddings for female context.   \n",
    "    female_embedding = pd.DataFrame(func.analyzeWord(\"She\", female_context ,numberPolar = numPolar, model=model, tokenizer=tokenizer)).transpose()\n",
    "    female_embedding = female_embedding.rename(columns={2: 'Value_Female'})\n",
    "\n",
    "    # Merge embeddings. \n",
    "    df_merged = pd.merge(male_embedding, female_embedding, left_index=True, right_index=True)\n",
    "    df_merged[\"female-male\"] = df_merged[\"Value_Female\"] - df_merged[\"Value_Male\"]\n",
    "    df_merged[\"tuple\"] = list(zip(df_merged[0], df_merged[1]))\n",
    "    \n",
    "    # Store for faster import later. \n",
    "    df_merged.sort_index(inplace=True)\n",
    "    df_merged.to_csv(f\"./01_Embeddings/{method}/{embedded_word}_{context}.csv\")"
   ]
  },
  {
   "cell_type": "code",
   "execution_count": 10,
   "id": "ac1f2e62-cb9a-4bea-9ebf-19c6c06508e8",
   "metadata": {},
   "outputs": [
    {
     "data": {
      "application/vnd.jupyter.widget-view+json": {
       "model_id": "afbd1fff399d4674b3d184876b6be1f2",
       "version_major": 2,
       "version_minor": 0
      },
      "text/plain": [
       "  0%|          | 0/800 [00:00<?, ?it/s]"
      ]
     },
     "metadata": {},
     "output_type": "display_data"
    }
   ],
   "source": [
    "# Create embeddings for random nouns. \n",
    "# Parallelized for included situation verbs.\n",
    "for noun in tqdm(nouns_sample): \n",
    "    mp.Pool().starmap(get_pronoun_embedding, zip(context_list, repeat(noun), repeat(num_of_dim), repeat(method)))"
   ]
  },
  {
   "cell_type": "code",
   "execution_count": 6,
   "id": "3b4361a1-fa77-4395-a0e7-c78a769340d8",
   "metadata": {},
   "outputs": [
    {
     "data": {
      "application/vnd.jupyter.widget-view+json": {
       "model_id": "1dab0d9feed449aea0ccecec3237f960",
       "version_major": 2,
       "version_minor": 0
      },
      "text/plain": [
       "  0%|          | 0/782 [00:00<?, ?it/s]"
      ]
     },
     "metadata": {},
     "output_type": "display_data"
    }
   ],
   "source": [
    "# Create embeddings for all companies and contexts. \n",
    "# Parallelized for included situation verbs.\n",
    "for company in tqdm(companies): \n",
    "    mp.Pool().starmap(get_pronoun_embedding, zip(context_list, repeat(company), repeat(num_of_dim), repeat(method)))"
   ]
  },
  {
   "cell_type": "code",
   "execution_count": 24,
   "id": "0b200d3e-c198-482c-986e-ad6f1a769fb6",
   "metadata": {},
   "outputs": [
    {
     "data": {
      "application/vnd.jupyter.widget-view+json": {
       "model_id": "423617d44d2145bf81144888b9265058",
       "version_major": 2,
       "version_minor": 0
      },
      "text/plain": [
       "  0%|          | 0/800 [00:00<?, ?it/s]"
      ]
     },
     "metadata": {},
     "output_type": "display_data"
    }
   ],
   "source": [
    "# Calculate average embeddings over context list for both companies and nouns. \n",
    "\n",
    "for company in tqdm(itertools.chain(companies, nouns_sample)):\n",
    "    \n",
    "    result = pd.DataFrame()\n",
    "    final_result = pd.DataFrame()\n",
    "\n",
    "    for context in context_list:\n",
    "        file = pd.read_csv(f\"./01_Embeddings/{method}/{company}_{context}.csv\")\n",
    "        file = file.iloc[: , 1:]\n",
    "        result = pd.concat([result, file], axis=1, join=\"outer\")\n",
    "\n",
    "        # Embedding for individual verb was deleted to reduce number of files. \n",
    "        # Exception was made for work situation where the correlation between the different verbs was analyzed. \n",
    "        os.remove(f\"./01_Embeddings/{method}/{company}_{context}.csv\")  \n",
    "\n",
    "    final_result[\"tuple\"] = file[\"tuple\"]\n",
    "    final_result[\"context_average_male\"] = result.loc[:, result.columns.str.startswith('Value_Male')].mean(axis=1).round(7)\n",
    "    final_result[\"context_average_female\"] = result.loc[:, result.columns.str.startswith('Value_Female')].mean(axis=1).round(7)\n",
    "    final_result[\"average_female-male\"] = final_result[\"context_average_female\"] - final_result[\"context_average_male\"]\n",
    "    final_result.to_csv(f\"./01_Embeddings/{method}/{company}_context_average.csv\")"
   ]
  },
  {
   "cell_type": "code",
   "execution_count": 4,
   "id": "e35bb9c1-4dd6-4eed-a02f-56c1ff9ee9d7",
   "metadata": {},
   "outputs": [],
   "source": [
    "# Define helper functions. \n",
    "\n",
    "def read_embedding_values(company_names, antonym_pair, method): \n",
    "    \n",
    "    result = pd.DataFrame()\n",
    "    result[\"company\"] = company_names\n",
    "    result[\"value_male\"] = 0\n",
    "    result[\"value_female\"] = 0\n",
    "    result[\"value_neutral\"] = 0 \n",
    "    result[\"difference\"] = 0\n",
    "\n",
    "    for company in company_names: \n",
    "        comparison = pd.read_csv(f\"./01_Embeddings/{method}/{company}_context_average.csv\")     \n",
    "        value_male = float(comparison[comparison[\"tuple\"] == antonym_pair][\"context_average_male\"])\n",
    "        value_female = float(comparison[comparison[\"tuple\"] == antonym_pair][\"context_average_female\"])\n",
    "        difference = value_female - value_male\n",
    "        result[\"value_male\"].loc[result[\"company\"] == company] = value_male\n",
    "        result[\"value_female\"].loc[result[\"company\"] == company] = value_female\n",
    "        result[\"difference\"].loc[result[\"company\"] == company] = difference\n",
    "    \n",
    "    return result   \n",
    "\n",
    "def check_significance(p_value): \n",
    "    if p_value < 0.05: \n",
    "        stat_res = \"Significant Difference\"\n",
    "    else: \n",
    "        stat_res = \"No Significant Difference\"\n",
    "        \n",
    "    return stat_res\n",
    "\n",
    "def round_decimals_up(number:float, decimals:int=2):\n",
    "    \"\"\"\n",
    "    Returns a value rounded up to a specific number of decimal places.\n",
    "    \"\"\"\n",
    "    if not isinstance(decimals, int):\n",
    "        raise TypeError(\"decimal places must be an integer\")\n",
    "    elif decimals < 0:\n",
    "        raise ValueError(\"decimal places has to be 0 or more\")\n",
    "    elif decimals == 0:\n",
    "        return math.ceil(number)\n",
    "\n",
    "    factor = 10 ** decimals\n",
    "    return math.ceil(number * factor) / factor"
   ]
  },
  {
   "cell_type": "code",
   "execution_count": 14,
   "id": "52672a04-2949-4ead-8bae-0b5794c0bb4c",
   "metadata": {},
   "outputs": [
    {
     "data": {
      "application/vnd.jupyter.widget-view+json": {
       "model_id": "86c02393d9db4299bfcd7806f6b16a62",
       "version_major": 2,
       "version_minor": 0
      },
      "text/plain": [
       "  0%|          | 0/89 [00:00<?, ?it/s]"
      ]
     },
     "metadata": {},
     "output_type": "display_data"
    }
   ],
   "source": [
    "# Get dimension significance scores. \n",
    "\n",
    "res_table = pd.DataFrame()\n",
    "res_table[\"Dimension\"] = all_dimensions\n",
    "res_table[\"P-Value M vs. F Firm Embedding\"] = 0 \n",
    "res_table[\"P-Value Delta Firm vs. Delta Random Embedding\"] = 0\n",
    "res_table[\"Mean Firm\"] = 0\n",
    "res_table[\"Mean Random\"] = 0\n",
    "res_table[\"Mean Male\"] = 0\n",
    "res_table[\"Mean Female\"] = 0\n",
    "\n",
    "# Loop through all unique dimensions. \n",
    "for dimension in tqdm(all_dimensions): \n",
    "\n",
    "    # Get and append p-values for dimension. \n",
    "    result = read_embedding_values(companies, dimension, method)\n",
    "    rand_result = read_embedding_values(nouns_sample, dimension, method)\n",
    "    \n",
    "    stat1, p_value1 = ttest_ind(result[\"value_male\"], result[\"value_female\"])\n",
    "    stat2, p_value2 = ttest_ind(result[\"difference\"], rand_result[\"difference\"])\n",
    "    \n",
    "    res1 = round(p_value1, 5)\n",
    "    res2 = round(p_value2, 5)\n",
    "    \n",
    "    res_table[\"P-Value M vs. F Firm Embedding\"].loc[res_table[\"Dimension\"] == dimension] = round_decimals_up(res1, 5)\n",
    "    res_table[\"P-Value Delta Firm vs. Delta Random Embedding\"].loc[res_table[\"Dimension\"] == dimension] = round_decimals_up(res2, 5)\n",
    "\n",
    "    # Get mean bias values. \n",
    "    res_table[\"Mean Male\"].loc[res_table[\"Dimension\"] == dimension] = result[\"value_male\"].mean()\n",
    "    res_table[\"Mean Female\"].loc[res_table[\"Dimension\"] == dimension] = result[\"value_female\"].mean()\n",
    "    res_table[\"Mean Firm\"].loc[res_table[\"Dimension\"] == dimension] = result[\"difference\"].mean()\n",
    "    res_table[\"Mean Random\"].loc[res_table[\"Dimension\"] == dimension] = rand_result[\"difference\"].mean()\n",
    "    res_table[\"Mean Firm vs. Mean Random\"] = res_table[\"Mean Firm\"] - res_table[\"Mean Random\"]\n",
    "    \n",
    "res_table[\"Dictionary\"] = unique_dictionaries[\"Dictionary\"]"
   ]
  },
  {
   "cell_type": "code",
   "execution_count": 18,
   "id": "0227430b-f700-45d2-a2ad-2be980d17476",
   "metadata": {},
   "outputs": [],
   "source": [
    "# Save significance table for later analysis. \n",
    "res_table.to_csv(f\"./01_Embeddings/{method}/{situation}_Significance.csv\")"
   ]
  },
  {
   "cell_type": "markdown",
   "id": "2e13cd68-df65-4d1b-8fd6-c9844e742166",
   "metadata": {},
   "source": [
    "## 1.1 Get Pronoun Embeddings for Names. "
   ]
  },
  {
   "cell_type": "markdown",
   "id": "f417a76c-2c6d-4535-b379-11947d254856",
   "metadata": {},
   "source": [
    "The following imports and function was used to generade the pronoun embeddings with real names. The subsequent processing steps were identical to the steps in 1 (calculating average embedding, etc.)"
   ]
  },
  {
   "cell_type": "code",
   "execution_count": 15,
   "id": "7c6a46b3-b2ae-4b97-8d64-fa139be56eb0",
   "metadata": {},
   "outputs": [],
   "source": [
    "names = pd.read_csv(\"name_gender_dataset.csv\")\n",
    "male_names = list(names[names[\"Gender\"] == \"M\"].head(1000).reset_index(drop = True)[\"Name\"])\n",
    "female_names = list(names[names[\"Gender\"] == \"F\"].head(1000).reset_index(drop = True)[\"Name\"])"
   ]
  },
  {
   "cell_type": "code",
   "execution_count": 6,
   "id": "2dbf371f-599d-4850-843b-c554526edff4",
   "metadata": {},
   "outputs": [],
   "source": [
    "def get_pronoun_name_embedding(context, embedded_word, numPolar, method): \n",
    "    \n",
    "    # Create dataframe for final embedding. \n",
    "    embedding = pd.DataFrame()\n",
    "    \n",
    "    # Create path for storing the embedding files. \n",
    "    pathlib.Path(f'./{method}/').mkdir(parents=True, exist_ok=True) \n",
    "\n",
    "    # Define full context. \n",
    "    male_name = random.choice(male_names)\n",
    "    female_name = random.choice(female_names)\n",
    "    \n",
    "    male_context = f\"{male_name} {context} at the corporation {embedded_word}\"\n",
    "    female_context = f\"{female_name} {context} at the corporation {embedded_word}\"\n",
    "    \n",
    "    # Get embeddings for male context.\n",
    "    male_embedding = pd.DataFrame(func.analyzeWord(male_name, male_context ,numberPolar = numPolar, model=model, tokenizer=tokenizer)).transpose()\n",
    "    male_embedding = male_embedding.rename(columns={2: 'Value_Male'})\n",
    "    male_embedding.drop([0, 1], axis = 1, inplace = True)\n",
    "\n",
    "    # Get embeddings for female context.   \n",
    "    female_embedding = pd.DataFrame(func.analyzeWord(female_name, female_context ,numberPolar = numPolar, model=model, tokenizer=tokenizer)).transpose()\n",
    "    female_embedding = female_embedding.rename(columns={2: 'Value_Female'})\n",
    "  \n",
    "    df_merged = pd.merge(male_embedding, female_embedding, left_index=True, right_index=True)  \n",
    "    df_merged[\"female-male\"] = df_merged[\"Value_Female\"] - df_merged[\"Value_Male\"]\n",
    "    \n",
    "    df_merged[\"tuple\"] = list(zip(df_merged[0], df_merged[1]))\n",
    "    \n",
    "    # Store for faster import later. \n",
    "    df_merged.sort_index(inplace=True)\n",
    "    df_merged.to_csv(f\"./01_Embeddings/{method}/{embedded_word}_{context}.csv\")"
   ]
  },
  {
   "cell_type": "markdown",
   "id": "2e109946-6ca8-4157-9cb2-494577aa170d",
   "metadata": {},
   "source": [
    "## 2. Get Firm Embeddings"
   ]
  },
  {
   "cell_type": "code",
   "execution_count": 4,
   "id": "7a436a3e-73ac-4e9f-a2a5-dc4e24d6af08",
   "metadata": {},
   "outputs": [],
   "source": [
    "def get_firm_embedding(context, embedded_word, numPolar, method): \n",
    "    \n",
    "    # Create dataframe for final embedding. \n",
    "    embedding = pd.DataFrame()\n",
    "    \n",
    "    # Create path for storing the embedding files. \n",
    "    pathlib.Path(f'./01_Embeddings/{method}/').mkdir(parents=True, exist_ok=True) \n",
    "    \n",
    "    # Split multi-word names to get average embedding. \n",
    "    all_words = embedded_word.split(\" \")\n",
    "    \n",
    "    # Define full context. \n",
    "    male_context = f\"He {context} at the corporation {embedded_word}\"\n",
    "    female_context = f\"She {context} at the corporation {embedded_word}\"\n",
    "    \n",
    "    for word in all_words: \n",
    "\n",
    "        # Get embeddings for male and female context.\n",
    "        male_embedding = pd.DataFrame(func.analyzeWord(word, male_context ,numberPolar = numPolar, model=model, tokenizer=tokenizer)).transpose()\n",
    "        male_embedding = male_embedding.rename(columns={2: 'Value_Male'})\n",
    "        male_embedding.drop([0, 1], axis = 1, inplace = True)\n",
    "\n",
    "        female_embedding = pd.DataFrame(func.analyzeWord(word, female_context ,numberPolar = numPolar, model=model, tokenizer=tokenizer)).transpose()\n",
    "        female_embedding = female_embedding.rename(columns={2: 'Value_Female'})\n",
    "\n",
    "        # Merge embeddings. \n",
    "        df_merged = pd.merge(male_embedding, female_embedding, left_index=True, right_index=True)\n",
    "        df_merged[\"female-male\"] = df_merged[\"Value_Female\"] - df_merged[\"Value_Male\"]\n",
    "        df_merged[\"tuple\"] = list(zip(df_merged[0], df_merged[1]))\n",
    "    \n",
    "        embedding[[f\"{word}_male\", f\"{word}_female\", \"tuple\"]] = df_merged[[\"Value_Male\", \"Value_Female\", \"tuple\"]]\n",
    "        \n",
    "    # Take average of different name parts. \n",
    "    embedding[\"average_male\"] = embedding.loc[:, embedding.columns.str.endswith('_male')].mean(axis=1).round(7)\n",
    "    embedding[\"average_female\"] = embedding.loc[:, embedding.columns.str.endswith('_female')].mean(axis=1).round(7)\n",
    "\n",
    "    # Calculate delta / bias. \n",
    "    embedding[\"female-male\"] = (embedding[\"average_female\"] - embedding[\"average_male\"]).round(7)\n",
    "\n",
    "    # Store for faster import later. \n",
    "    embedding.sort_index(inplace=True)\n",
    "    embedding.to_csv(f\"./01_Embeddings/{method}/{embedded_word}_{context}.csv\")"
   ]
  },
  {
   "cell_type": "markdown",
   "id": "fdd1b808-d6fc-4950-b28e-eb96d5f12738",
   "metadata": {},
   "source": [
    "#### Create Embeddings for Companies and Nouns"
   ]
  },
  {
   "cell_type": "code",
   "execution_count": 5,
   "id": "0b2b0dc9-fac1-4671-ba5b-e8d0098b7e81",
   "metadata": {},
   "outputs": [],
   "source": [
    "# Get BERT. \n",
    "tokenizer, model = func.getBert()"
   ]
  },
  {
   "cell_type": "code",
   "execution_count": null,
   "id": "aadcab0f-727d-4b5e-8765-2cf3f76fe418",
   "metadata": {},
   "outputs": [
    {
     "data": {
      "application/vnd.jupyter.widget-view+json": {
       "model_id": "f54d19841bee497289d6ce984a0e45d1",
       "version_major": 2,
       "version_minor": 0
      },
      "text/plain": [
       "  0%|          | 0/782 [00:00<?, ?it/s]"
      ]
     },
     "metadata": {},
     "output_type": "display_data"
    }
   ],
   "source": [
    "# Create company embeddings. \n",
    "# Parallelized for included situation verbs. \n",
    "for company in tqdm(companies): \n",
    "    mp.Pool().starmap(get_firm_embedding, zip(context_list, repeat(company), repeat(num_of_dim), repeat(method)))"
   ]
  },
  {
   "cell_type": "code",
   "execution_count": null,
   "id": "9f3e115d-4765-4a26-a830-2d3071c8bedb",
   "metadata": {},
   "outputs": [
    {
     "data": {
      "application/vnd.jupyter.widget-view+json": {
       "model_id": "12ff5660f8134e1f8a3c9691dc07b5df",
       "version_major": 2,
       "version_minor": 0
      },
      "text/plain": [
       "  0%|          | 0/800 [00:00<?, ?it/s]"
      ]
     },
     "metadata": {},
     "output_type": "display_data"
    }
   ],
   "source": [
    "# Create noun embeddings. \n",
    "# Parallelized for included situation verbs. \n",
    "for noun in tqdm(nouns_sample): \n",
    "    mp.Pool().starmap(get_embeget_firm_embeddingdding_method_1, zip(context_list, repeat(noun), repeat(num_of_dim), repeat(method)))"
   ]
  },
  {
   "cell_type": "code",
   "execution_count": null,
   "id": "e47a61d2-b962-4a39-a372-57a1eb3bbbf4",
   "metadata": {},
   "outputs": [],
   "source": [
    "# Calculate average embeddings over context list for both companies and nouns. \n",
    "\n",
    "for company in tqdm(itertools.chain(companies, nouns_sample)):\n",
    "    result = pd.DataFrame()\n",
    "    final_result = pd.DataFrame()\n",
    "    \n",
    "    for context in context_list:\n",
    "        file = pd.read_csv(f\"./01_Embeddings/{method}/{company}_{context}.csv\")\n",
    "        file = file.iloc[: , 1:]\n",
    "        result = pd.concat([result, file], axis=1, join=\"outer\")\n",
    "        os.remove(f\"./01_Embeddings/{method}/{company}_{context}.csv\") \n",
    "        \n",
    "    final_result[\"tuple\"] = file[\"tuple\"]\n",
    "    final_result[\"context_average_male\"] = result.loc[:, result.columns.str.startswith('average_male')].mean(axis=1).round(7)\n",
    "    final_result[\"context_average_female\"] = result.loc[:, result.columns.str.startswith('average_female')].mean(axis=1).round(7)\n",
    "    final_result[\"average_female-male\"] = final_result[\"context_average_female\"] - final_result[\"context_average_male\"]\n",
    "    final_result.to_csv(f\"./01_Embeddings/{method}/{company}_context_average.csv\")"
   ]
  },
  {
   "cell_type": "code",
   "execution_count": 38,
   "id": "2288cb33-92d5-4e83-9423-cfaf43f65b20",
   "metadata": {},
   "outputs": [],
   "source": [
    "# Define helper functions. \n",
    "\n",
    "def read_embedding_values(company_names, antonym_pair, method): \n",
    "    \n",
    "    result = pd.DataFrame()\n",
    "    result[\"company\"] = company_names\n",
    "    result[\"value_male\"] = 0\n",
    "    result[\"value_female\"] = 0\n",
    "    result[\"value_neutral\"] = 0 \n",
    "    result[\"difference\"] = 0\n",
    "\n",
    "    for company in company_names: \n",
    "        comparison = pd.read_csv(f\"./01_Embeddings/{method}/{company}_context_average.csv\")\n",
    "\n",
    "        comparison = comparison.groupby(\"tuple\", as_index = False).mean() # Account for duplicates.         \n",
    "        value_male = float(comparison[comparison[\"tuple\"] == antonym_pair][\"context_average_male\"])\n",
    "        value_female = float(comparison[comparison[\"tuple\"] == antonym_pair][\"context_average_female\"])\n",
    "        #value_neutral = float(comparison[comparison[\"tuple\"] == antonym_pair][\"context_average_neutral\"])\n",
    "        \n",
    "        difference = value_female - value_male\n",
    "        result[\"value_male\"].loc[result[\"company\"] == company] = value_male\n",
    "        result[\"value_female\"].loc[result[\"company\"] == company] = value_female\n",
    "        #result[\"value_neutral\"].loc[result[\"company\"] == company] = value_neutral\n",
    "        result[\"difference\"].loc[result[\"company\"] == company] = difference\n",
    "    \n",
    "    return result   \n",
    "\n",
    "def check_significance(p_value): \n",
    "    if p_value < 0.05: \n",
    "        stat_res = \"Significant Difference\"\n",
    "    else: \n",
    "        stat_res = \"No Significant Difference\"\n",
    "        \n",
    "    return stat_res\n",
    "\n",
    "def round_decimals_up(number:float, decimals:int=2):\n",
    "    \"\"\"\n",
    "    Returns a value rounded up to a specific number of decimal places.\n",
    "    \"\"\"\n",
    "    if not isinstance(decimals, int):\n",
    "        raise TypeError(\"decimal places must be an integer\")\n",
    "    elif decimals < 0:\n",
    "        raise ValueError(\"decimal places has to be 0 or more\")\n",
    "    elif decimals == 0:\n",
    "        return math.ceil(number)\n",
    "\n",
    "    factor = 10 ** decimals\n",
    "    return math.ceil(number * factor) / factor"
   ]
  },
  {
   "cell_type": "code",
   "execution_count": 41,
   "id": "bf17119b-c1eb-4296-97cb-c7f966628109",
   "metadata": {},
   "outputs": [
    {
     "data": {
      "application/vnd.jupyter.widget-view+json": {
       "model_id": "c9515852076d47a39c1d140322f671ba",
       "version_major": 2,
       "version_minor": 0
      },
      "text/plain": [
       "  0%|          | 0/89 [00:00<?, ?it/s]"
      ]
     },
     "metadata": {},
     "output_type": "display_data"
    }
   ],
   "source": [
    "res_table = pd.DataFrame()\n",
    "res_table[\"Dimension\"] = all_dimensions\n",
    "res_table[\"P-Value M vs. F Firm Embedding\"] = 0 \n",
    "res_table[\"P-Value Delta Firm vs. Delta Random Embedding\"] = 0\n",
    "res_table[\"Mean Firm\"] = 0\n",
    "res_table[\"Mean Random\"] = 0\n",
    "\n",
    "# Loop through all unique dimensions. \n",
    "for dimension in tqdm(all_dimensions): \n",
    "\n",
    "    # Get and append p-values for dimension. \n",
    "    result = read_embedding_values(companies, dimension, method)\n",
    "    rand_result = read_embedding_values(nouns_sample, dimension, method)\n",
    "    \n",
    "    stat1, p_value1 = ttest_ind(result[\"value_male\"], result[\"value_female\"])\n",
    "    stat2, p_value2 = ttest_ind(result[\"difference\"], rand_result[\"difference\"])\n",
    "    \n",
    "    res1 = round(p_value1, 5)\n",
    "    res2 = round(p_value2, 5)\n",
    "    \n",
    "    res_table[\"P-Value M vs. F Firm Embedding\"].loc[res_table[\"Dimension\"] == dimension] = round_decimals_up(res1, 5)\n",
    "    res_table[\"P-Value Delta Firm vs. Delta Random Embedding\"].loc[res_table[\"Dimension\"] == dimension] = round_decimals_up(res2, 5)\n",
    "\n",
    "    # Get mean bias values. \n",
    "    res_table[\"Mean Firm\"].loc[res_table[\"Dimension\"] == dimension] = result[\"difference\"].mean()\n",
    "    res_table[\"Mean Random\"].loc[res_table[\"Dimension\"] == dimension] = rand_result[\"difference\"].mean()\n",
    "    res_table[\"Mean Firm vs. Mean Random\"] = res_table[\"Mean Firm\"] - res_table[\"Mean Random\"]\n",
    "    \n",
    "res_table[\"Dictionary\"] = unique_dictionaries[\"Dictionary\"]"
   ]
  },
  {
   "cell_type": "code",
   "execution_count": 42,
   "id": "aa2a6060-e019-4c28-9d59-ec6618da1a9e",
   "metadata": {},
   "outputs": [],
   "source": [
    "res_table.to_csv(f\"./01_Embeddings/{method}/Communication_Significance.csv\")"
   ]
  },
  {
   "cell_type": "markdown",
   "id": "91f37fc5-aad3-4b64-976c-14bfc4d9f81d",
   "metadata": {},
   "source": [
    "## 2.1 Get Firm Name Embeddings"
   ]
  },
  {
   "cell_type": "markdown",
   "id": "df74e337-2639-4509-9de5-d53722647d31",
   "metadata": {},
   "source": [
    "The following imports and function was used to generade the firm embeddings with real names. The subsequent processing steps were identical to the steps in 2 (calculating average embedding, etc.)"
   ]
  },
  {
   "cell_type": "code",
   "execution_count": 15,
   "id": "44ca3ef0-0cde-4d3f-981f-434c437b9bf8",
   "metadata": {},
   "outputs": [],
   "source": [
    "names = pd.read_csv(\"name_gender_dataset.csv\")\n",
    "male_names = list(names[names[\"Gender\"] == \"M\"].head(1000).reset_index(drop = True)[\"Name\"])\n",
    "female_names = list(names[names[\"Gender\"] == \"F\"].head(1000).reset_index(drop = True)[\"Name\"])"
   ]
  },
  {
   "cell_type": "code",
   "execution_count": 6,
   "id": "55049f26-074d-452a-9135-9afa89a0881a",
   "metadata": {},
   "outputs": [],
   "source": [
    "def get_firm_name_embedding(context, embedded_word, numPolar, method): \n",
    "    \n",
    "    # Create dataframe for final embedding. \n",
    "    embedding = pd.DataFrame()\n",
    "    \n",
    "    # Create path for storing the embedding files. \n",
    "    pathlib.Path(f'./{method}/').mkdir(parents=True, exist_ok=True) \n",
    "    \n",
    "    # Split multi-word names to get average embedding. \n",
    "    all_words = embedded_word.split(\" \")\n",
    "    \n",
    "    # Define full context. \n",
    "    female_name = random.choice(female_names)\n",
    "    male_name = random.choice(male_names)\n",
    "    male_context = f\"{male_name} {context} at the corporation {embedded_word}\"\n",
    "    female_context = f\"{female_name} {context} at the corporation {embedded_word}\"\n",
    "    \n",
    "    for word in all_words: \n",
    "\n",
    "        # Get embeddings for male and female context.\n",
    "        male_embedding = pd.DataFrame(func.analyzeWord(word, male_context ,numberPolar = numPolar, model=model, tokenizer=tokenizer)).transpose()\n",
    "        male_embedding = male_embedding.rename(columns={2: 'Value_Male'})\n",
    "        male_embedding.drop([0, 1], axis = 1, inplace = True)\n",
    "\n",
    "        female_embedding = pd.DataFrame(func.analyzeWord(word, female_context ,numberPolar = numPolar, model=model, tokenizer=tokenizer)).transpose()\n",
    "        female_embedding = female_embedding.rename(columns={2: 'Value_Female'})\n",
    "\n",
    "        # Merge embeddings. \n",
    "        df_merged = pd.merge(male_embedding, female_embedding, left_index=True, right_index=True)\n",
    "        df_merged[\"female-male\"] = df_merged[\"Value_Female\"] - df_merged[\"Value_Male\"]\n",
    "        df_merged[\"tuple\"] = list(zip(df_merged[0], df_merged[1]))\n",
    "    \n",
    "        embedding[[f\"{word}_male\", f\"{word}_female\", \"tuple\"]] = df_merged[[\"Value_Male\", \"Value_Female\", \"tuple\"]]\n",
    "        \n",
    "    # Take average of different name parts. \n",
    "    embedding[\"average_male\"] = embedding.loc[:, embedding.columns.str.endswith('_male')].mean(axis=1).round(7)\n",
    "    embedding[\"average_female\"] = embedding.loc[:, embedding.columns.str.endswith('_female')].mean(axis=1).round(7)\n",
    "\n",
    "    # Calculate delta / bias. \n",
    "    embedding[\"female-male\"] = (embedding[\"average_female\"] - embedding[\"average_male\"]).round(7)\n",
    "\n",
    "    # Store for faster import later. \n",
    "    embedding.to_csv(f\"./01_Embeddings/{method}/{embedded_word}_{context}.csv\")"
   ]
  }
 ],
 "metadata": {
  "kernelspec": {
   "display_name": "Python 3 (ipykernel)",
   "language": "python",
   "name": "python3"
  },
  "language_info": {
   "codemirror_mode": {
    "name": "ipython",
    "version": 3
   },
   "file_extension": ".py",
   "mimetype": "text/x-python",
   "name": "python",
   "nbconvert_exporter": "python",
   "pygments_lexer": "ipython3",
   "version": "3.8.6"
  }
 },
 "nbformat": 4,
 "nbformat_minor": 5
}

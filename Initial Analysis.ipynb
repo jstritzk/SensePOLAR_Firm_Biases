{
 "cells": [
  {
   "cell_type": "markdown",
   "id": "6f02cc38",
   "metadata": {},
   "source": [
    "## Imports"
   ]
  },
  {
   "cell_type": "code",
   "execution_count": 1,
   "id": "cda79c48",
   "metadata": {},
   "outputs": [],
   "source": [
    "import bertFuncs as func\n",
    "from functions import *\n",
    "import pandas as pd\n",
    "import matplotlib.pyplot as plt\n",
    "from matplotlib.gridspec import GridSpec\n",
    "import seaborn as sns\n",
    "import warnings\n",
    "warnings.filterwarnings(\"ignore\")\n",
    "from sklearn.metrics.pairwise import cosine_similarity\n",
    "from transformers import logging\n",
    "logging.set_verbosity_error()\n",
    "from tqdm.notebook import tqdm\n",
    "import numpy as np\n",
    "from scipy.stats import ttest_ind\n",
    "from collections import defaultdict\n",
    "from nltk.corpus import wordnet as wn\n",
    "\n",
    "from scipy.stats import ttest_ind"
   ]
  },
  {
   "cell_type": "markdown",
   "id": "6a93ab2e",
   "metadata": {},
   "source": [
    "## 1. Get Embeddings"
   ]
  },
  {
   "cell_type": "markdown",
   "id": "44553533",
   "metadata": {},
   "source": [
    "### 1.1 Get Firm Embeddings"
   ]
  },
  {
   "cell_type": "code",
   "execution_count": 276,
   "id": "7fd302dd",
   "metadata": {
    "scrolled": true
   },
   "outputs": [],
   "source": [
    "# Read S&P500 company names.\n",
    "# Source: https://github.com/datasets/s-and-p-500-companies/blob/master/data/constituents.csv\n",
    "\n",
    "company_names = pd.read_csv(\"sp500.csv\")\n",
    "#company_names[\"Count\"] = company_names['Name'].str.split().apply(len)\n",
    "#company_names.rename(columns = {\"cleanedname\":\"Name\"}, inplace = True)"
   ]
  },
  {
   "cell_type": "code",
   "execution_count": 453,
   "id": "284a4719",
   "metadata": {},
   "outputs": [],
   "source": [
    "def get_average_embedding(target_list, context): \n",
    "    \n",
    "    for entry in target_list: \n",
    "        \n",
    "        names = entry.split(\" \")\n",
    "        \n",
    "        # Get contextual embedding for each part of the name.  \n",
    "        embeddings = pd.DataFrame()\n",
    "        for name in names: \n",
    "            embeddings[[f\"{name}_male\", f\"{name}_female\", \"tuple\"]] = get_firm_embeddings(name, context, 111, \"all\")[[\"Value 1\", \"Value 2\", \"tuple\"]]\n",
    "\n",
    "        # Take average of different name parts. \n",
    "        embeddings[\"average_male\"] = embeddings.loc[:, embeddings.columns.str.endswith('_male')].mean(axis=1).round(7)\n",
    "        embeddings[\"average_female\"] = embeddings.loc[:, embeddings.columns.str.endswith('_female')].mean(axis=1).round(7)\n",
    "\n",
    "        # Calculate delta / bias. \n",
    "        embeddings[\"female-male\"] = (embeddings[\"average_female\"] - embeddings[\"average_male\"]).round(7)\n",
    "\n",
    "        # Store for faster import later. \n",
    "        embeddings.to_csv(f\"./averaged_embeddings/{entry}.csv\")"
   ]
  },
  {
   "cell_type": "code",
   "execution_count": null,
   "id": "74c6bffe",
   "metadata": {},
   "outputs": [],
   "source": [
    "# Get embeddings for S&P 500 names. Average embeddings are calculated for multi-word firms. \n",
    "\n",
    "get_average_embedding(company_names[\"Name\"], \"works\")"
   ]
  },
  {
   "cell_type": "markdown",
   "id": "9fc4da9f",
   "metadata": {},
   "source": [
    "### 1.1 Get Random Noun Embeddings"
   ]
  },
  {
   "cell_type": "code",
   "execution_count": 326,
   "id": "936d333f",
   "metadata": {
    "scrolled": true
   },
   "outputs": [],
   "source": [
    "# Load and clean list of english nouns and generate random sample.\n",
    "\n",
    "nouns = pd.read_csv('nouns.csv', sep=\";\")\n",
    "nouns = nouns[nouns['nouns'].str.strip().str.split(' ').str.len().eq(1)] # Only considering single word nouns.\n",
    "nouns_sample = nouns[\"nouns\"].sample(n = 500, random_state = 42)\n",
    "nouns_sample = list(nouns_sample)\n",
    "\n",
    "# Make sure no overlap between nouns and companies \n",
    "company_names[\"Name_Lower\"] = company_names['Name'].str.lower()\n",
    "nouns_sample = [x for x in nouns_sample if x not in list(company_names[\"Name_Lower\"])]"
   ]
  },
  {
   "cell_type": "code",
   "execution_count": 280,
   "id": "59c989ab",
   "metadata": {
    "scrolled": false
   },
   "outputs": [
    {
     "data": {
      "application/vnd.jupyter.widget-view+json": {
       "model_id": "57c2ef6be9934692b2a635cb447f2ca8",
       "version_major": 2,
       "version_minor": 0
      },
      "text/plain": [
       "  0%|          | 0/500 [00:00<?, ?it/s]"
      ]
     },
     "metadata": {},
     "output_type": "display_data"
    }
   ],
   "source": [
    "# Get embeddings for random nouns. \n",
    "\n",
    "get_average_embedding(nouns_sample, \"works\")"
   ]
  },
  {
   "cell_type": "markdown",
   "id": "0c6d3bbb",
   "metadata": {},
   "source": [
    "## 2. Initial analysis"
   ]
  },
  {
   "cell_type": "code",
   "execution_count": 329,
   "id": "85b24c9c",
   "metadata": {},
   "outputs": [],
   "source": [
    "# Get all considered dimensions. \n",
    "\n",
    "dimensions = get_firm_embeddings(\"amazon\", \"works\", 111, \"all\")\n",
    "\n",
    "all_dimensions = dimensions[\"tuple\"]"
   ]
  },
  {
   "cell_type": "code",
   "execution_count": 282,
   "id": "99f7e55d",
   "metadata": {
    "scrolled": true
   },
   "outputs": [
    {
     "data": {
      "text/plain": [
       "101"
      ]
     },
     "execution_count": 282,
     "metadata": {},
     "output_type": "execute_result"
    }
   ],
   "source": [
    "len(all_dimensions)"
   ]
  },
  {
   "cell_type": "code",
   "execution_count": 489,
   "id": "ce5e05d4",
   "metadata": {},
   "outputs": [
    {
     "data": {
      "text/plain": [
       "101"
      ]
     },
     "execution_count": 489,
     "metadata": {},
     "output_type": "execute_result"
    }
   ],
   "source": [
    "len(all_dimensions.unique())"
   ]
  },
  {
   "cell_type": "code",
   "execution_count": null,
   "id": "ae2d580b",
   "metadata": {},
   "outputs": [],
   "source": []
  },
  {
   "cell_type": "markdown",
   "id": "84d10d6e",
   "metadata": {},
   "source": [
    "### 2.1 Distribution Plots"
   ]
  },
  {
   "cell_type": "code",
   "execution_count": 470,
   "id": "27126ba1",
   "metadata": {},
   "outputs": [],
   "source": [
    "def get_dimension_distribution(considered_companies, antonym_pair, nouns_sample): \n",
    "    \n",
    "    result = read_embedding_values(considered_companies, antonym_pair)\n",
    "    rand_result = read_embedding_values(nouns_sample, antonym_pair)\n",
    "    \n",
    "\n",
    "    fig = plt.figure(constrained_layout=True, figsize=(12, 6))\n",
    "    \n",
    "    gs = GridSpec(2, 1, figure=fig)\n",
    "    fig.suptitle(f\"Distributions for {str(antonym_pair)}\", weight=\"bold\")\n",
    "\n",
    "    # Plot male and female distribution \n",
    "    stat, p_value = ttest_ind(result[\"value_male\"], result[\"value_female\"])\n",
    "    ax1 = fig.add_subplot(gs[0, :])\n",
    "    ax1.set_title(f\"Male vs. Female Firm Distribution ({check_significance(p_value)}, p-value = {round(p_value, 5)})\", fontsize=9)\n",
    "    sns.distplot(result[\"value_male\"], ax = ax1, label = \"Male Context\", color = '#3AA8F3')\n",
    "    sns.distplot(result[\"value_female\"], ax = ax1, label = \"Female Context\", color = 'fuchsia')\n",
    "    plt.axvline(0, color = \"black\", ls = \"--\")\n",
    "    plt.axvline(result[\"value_male\"].mean(), color = \"#3AA8F3\")\n",
    "    plt.axvline(result[\"value_female\"].mean(), color = \"fuchsia\")\n",
    "    plt.legend() \n",
    "    \n",
    "    # Plot difference\n",
    "    stat, p_value = ttest_ind(result[\"difference\"], rand_result[\"difference\"])\n",
    "    ax4 = fig.add_subplot(gs[1, :])\n",
    "    ax4.set_title(f\"Corporate vs. Random Difference ({check_significance(p_value)}, p-value = {round(p_value, 5)})\", fontsize=9)\n",
    "    sns.distplot(result[\"difference\"], ax = ax4, label = \"Firm difference\", color = \"cyan\")\n",
    "    sns.distplot(rand_result[\"difference\"], ax = ax4, label = \"random difference\", color = \"grey\")\n",
    "    plt.axvline(0, color = \"black\", ls = \"--\")\n",
    "    plt.axvline(rand_result[\"difference\"].mean(), color = \"grey\")\n",
    "    plt.axvline(result[\"difference\"].mean(), color = \"cyan\")\n",
    "    plt.legend()\n",
    "    \n",
    "    plt.savefig(f'./distribution_plots/{antonym_pair}.png', bbox_inches = \"tight\")"
   ]
  },
  {
   "cell_type": "code",
   "execution_count": 468,
   "id": "93818367",
   "metadata": {},
   "outputs": [],
   "source": [
    "def read_embedding_values(embedding_names, antonym_pair): \n",
    "    \n",
    "    result = pd.DataFrame()\n",
    "    result[\"companies\"] = embedding_names\n",
    "    result[\"value_male\"] = 0\n",
    "    result[\"value_female\"] = 0\n",
    "    result[\"difference\"] = 0\n",
    "\n",
    "    for embedding in embedding_names: \n",
    "        comparison = pd.read_csv(f\"./averaged_embeddings/{embedding}.csv\")\n",
    "\n",
    "        comparison = comparison.groupby(\"tuple\", as_index = False).mean() # Account for duplicates.         \n",
    "        value_male = float(comparison[comparison[\"tuple\"] == antonym_pair][\"average_male\"])\n",
    "        value_female = float(comparison[comparison[\"tuple\"] == antonym_pair][\"average_female\"])\n",
    "        difference = value_female - value_male\n",
    "        result[\"value_male\"].loc[result[\"companies\"] == embedding] = value_male\n",
    "        result[\"value_female\"].loc[result[\"companies\"] == embedding] = value_female\n",
    "        result[\"difference\"].loc[result[\"companies\"] == embedding] = difference\n",
    "    \n",
    "    return result    "
   ]
  },
  {
   "cell_type": "code",
   "execution_count": null,
   "id": "1b81a165",
   "metadata": {
    "scrolled": true
   },
   "outputs": [],
   "source": [
    "# Create and save plots for all dimensions. \n",
    "\n",
    "for dimension in all_dimensions: \n",
    "    get_dimension_distribution(company_names[\"Name\"], str(dimension), nouns_sample)"
   ]
  },
  {
   "cell_type": "markdown",
   "id": "e305ebaa",
   "metadata": {},
   "source": [
    "### 2.2 P-Values"
   ]
  },
  {
   "cell_type": "code",
   "execution_count": 472,
   "id": "92119f37",
   "metadata": {},
   "outputs": [],
   "source": [
    "def get_dimension_pvalues(considered_companies, antonym_pair, nouns_sample): \n",
    "    \n",
    "    result = read_embedding_values(considered_companies, antonym_pair)\n",
    "    rand_result = read_embedding_values(nouns_sample, antonym_pair)\n",
    "    \n",
    "    stat1, p_value1 = ttest_ind(result[\"value_male\"], result[\"value_female\"])\n",
    "    stat2, p_value2 = ttest_ind(result[\"difference\"], rand_result[\"difference\"])\n",
    "    \n",
    "    res1 = round(p_value1, 5)\n",
    "    res2 = round(p_value2, 5)\n",
    "    \n",
    "    return [res1, res2]"
   ]
  },
  {
   "cell_type": "markdown",
   "id": "1c8c13b4",
   "metadata": {},
   "source": [
    "### Get Complete Table"
   ]
  },
  {
   "cell_type": "code",
   "execution_count": 516,
   "id": "6f5d25db",
   "metadata": {},
   "outputs": [
    {
     "name": "stdout",
     "output_type": "stream",
     "text": [
      "5\n"
     ]
    }
   ],
   "source": [
    "import math\n",
    "print(math.ceil(4.2))"
   ]
  },
  {
   "cell_type": "code",
   "execution_count": 521,
   "id": "72a844cb",
   "metadata": {},
   "outputs": [],
   "source": [
    "\n",
    "def round_decimals_up(number:float, decimals:int=2):\n",
    "    \"\"\"\n",
    "    Returns a value rounded up to a specific number of decimal places.\n",
    "    \"\"\"\n",
    "    if not isinstance(decimals, int):\n",
    "        raise TypeError(\"decimal places must be an integer\")\n",
    "    elif decimals < 0:\n",
    "        raise ValueError(\"decimal places has to be 0 or more\")\n",
    "    elif decimals == 0:\n",
    "        return math.ceil(number)\n",
    "\n",
    "    factor = 10 ** decimals\n",
    "    return math.ceil(number * factor) / factor"
   ]
  },
  {
   "cell_type": "code",
   "execution_count": null,
   "id": "dea32053",
   "metadata": {},
   "outputs": [],
   "source": [
    "print(math.ceil(4.2, ))"
   ]
  },
  {
   "cell_type": "code",
   "execution_count": 520,
   "id": "b8ed7ebb",
   "metadata": {},
   "outputs": [
    {
     "name": "stdout",
     "output_type": "stream",
     "text": [
      "0.0001\n"
     ]
    }
   ],
   "source": [
    "print(round_decimals_up(0.00000000001, 4))"
   ]
  },
  {
   "cell_type": "code",
   "execution_count": null,
   "id": "079d2559",
   "metadata": {},
   "outputs": [],
   "source": []
  },
  {
   "cell_type": "code",
   "execution_count": null,
   "id": "dd0e1ef1",
   "metadata": {},
   "outputs": [],
   "source": [
    "considered_companies = company_names[\"Name\"].unique()\n",
    "\n",
    "# also tested for single-word company names \n",
    "#considered_companies = company_names[company_names[\"Count\"] == 1][\"Name\"]"
   ]
  },
  {
   "cell_type": "code",
   "execution_count": 527,
   "id": "8e773006",
   "metadata": {},
   "outputs": [
    {
     "data": {
      "application/vnd.jupyter.widget-view+json": {
       "model_id": "a311f20efe2d46fc841fe0ffc20b7146",
       "version_major": 2,
       "version_minor": 0
      },
      "text/plain": [
       "  0%|          | 0/101 [00:00<?, ?it/s]"
      ]
     },
     "metadata": {},
     "output_type": "display_data"
    }
   ],
   "source": [
    "res_table = pd.DataFrame()\n",
    "res_table[\"Dimension\"] = all_dimensions.unique()\n",
    "res_table[\"M vs. F Firm Embedding\"] = 0 \n",
    "res_table[\"Delta Firm vs. Delta Random Embedding\"] = 0\n",
    "res_table[\"Mean Firm\"] = 0\n",
    "res_table[\"Mean Random\"] = 0\n",
    "\n",
    "\n",
    "# Loop through all unique dimensions. \n",
    "for dimension in tqdm(all_dimensions.unique()): \n",
    "    \n",
    "    \n",
    "    # Get and append p-values for dimension. \n",
    "    res = get_dimension_pvalues(considered_companies, str(dimension), nouns_sample)\n",
    "    \n",
    "    res_table[\"M vs. F Firm Embedding\"].loc[res_table[\"Dimension\"] == dimension] = round_decimals_up(res[0], 5)\n",
    "    res_table[\"Delta Firm vs. Delta Random Embedding\"].loc[res_table[\"Dimension\"] == dimension] = round_decimals_up(res[1], 5)\n",
    "    \n",
    "\n",
    "    # Get mean bias values for companies. \n",
    "    company_res = []\n",
    "    \n",
    "    for company in considered_companies: \n",
    "        comparison = pd.read_csv(f\"./averaged_embeddings/{company}.csv\")\n",
    "        comparison = comparison.groupby(\"tuple\", as_index = False).mean()\n",
    "        company_res.append(float(comparison[comparison[\"tuple\"] == str(dimension)][\"female-male\"]))\n",
    "        \n",
    "    res_table[\"Mean Firm\"].loc[res_table[\"Dimension\"] == dimension] = (sum(company_res) / len(company_res))\n",
    "    \n",
    "    \n",
    "    \n",
    "    # Get mean bias values for random nouns. \n",
    "    noun_res = []\n",
    "    \n",
    "    for noun in nouns_sample: \n",
    "        comparison = pd.read_csv(f\"./averaged_embeddings/{noun}.csv\")\n",
    "        comparison = comparison.groupby(\"tuple\", as_index = False).mean()\n",
    "        noun_res.append(float(comparison[comparison[\"tuple\"] == str(dimension)][\"female-male\"]))\n",
    "        \n",
    "    res_table[\"Mean Random\"].loc[res_table[\"Dimension\"] == dimension] = (sum(noun_res) / len(noun_res))\n",
    "    \n",
    "    res_table[\"Mean Firm vs. Mean Random\"] = res_table[\"Mean Firm\"] - res_table[\"Mean Random\"]"
   ]
  },
  {
   "cell_type": "code",
   "execution_count": 528,
   "id": "8fc2a173",
   "metadata": {},
   "outputs": [
    {
     "data": {
      "text/html": [
       "<div>\n",
       "<style scoped>\n",
       "    .dataframe tbody tr th:only-of-type {\n",
       "        vertical-align: middle;\n",
       "    }\n",
       "\n",
       "    .dataframe tbody tr th {\n",
       "        vertical-align: top;\n",
       "    }\n",
       "\n",
       "    .dataframe thead th {\n",
       "        text-align: right;\n",
       "    }\n",
       "</style>\n",
       "<table border=\"1\" class=\"dataframe\">\n",
       "  <thead>\n",
       "    <tr style=\"text-align: right;\">\n",
       "      <th></th>\n",
       "      <th>Dimension</th>\n",
       "      <th>M vs. F Firm Embedding</th>\n",
       "      <th>Delta Firm vs. Delta Random Embedding</th>\n",
       "      <th>Mean Firm</th>\n",
       "      <th>Mean Random</th>\n",
       "      <th>Mean Firm vs. Mean Random</th>\n",
       "    </tr>\n",
       "  </thead>\n",
       "  <tbody>\n",
       "    <tr>\n",
       "      <th>0</th>\n",
       "      <td>(confident, shy)</td>\n",
       "      <td>0.70249</td>\n",
       "      <td>0.53047</td>\n",
       "      <td>-0.036353</td>\n",
       "      <td>-0.048086</td>\n",
       "      <td>0.011733</td>\n",
       "    </tr>\n",
       "    <tr>\n",
       "      <th>1</th>\n",
       "      <td>(open, distant)</td>\n",
       "      <td>0.00006</td>\n",
       "      <td>0.54879</td>\n",
       "      <td>-0.220173</td>\n",
       "      <td>-0.230553</td>\n",
       "      <td>0.010380</td>\n",
       "    </tr>\n",
       "    <tr>\n",
       "      <th>2</th>\n",
       "      <td>(creative, uncreative)</td>\n",
       "      <td>0.44179</td>\n",
       "      <td>0.20987</td>\n",
       "      <td>0.030286</td>\n",
       "      <td>0.016643</td>\n",
       "      <td>0.013643</td>\n",
       "    </tr>\n",
       "    <tr>\n",
       "      <th>3</th>\n",
       "      <td>(aggressive, submissive)</td>\n",
       "      <td>0.22253</td>\n",
       "      <td>0.00054</td>\n",
       "      <td>0.062463</td>\n",
       "      <td>0.005635</td>\n",
       "      <td>0.056828</td>\n",
       "    </tr>\n",
       "    <tr>\n",
       "      <th>4</th>\n",
       "      <td>(sincere, insincere)</td>\n",
       "      <td>0.52709</td>\n",
       "      <td>0.00000</td>\n",
       "      <td>0.075201</td>\n",
       "      <td>-0.034869</td>\n",
       "      <td>0.110070</td>\n",
       "    </tr>\n",
       "  </tbody>\n",
       "</table>\n",
       "</div>"
      ],
      "text/plain": [
       "                  Dimension  M vs. F Firm Embedding  \\\n",
       "0          (confident, shy)                 0.70249   \n",
       "1           (open, distant)                 0.00006   \n",
       "2    (creative, uncreative)                 0.44179   \n",
       "3  (aggressive, submissive)                 0.22253   \n",
       "4      (sincere, insincere)                 0.52709   \n",
       "\n",
       "   Delta Firm vs. Delta Random Embedding  Mean Firm  Mean Random  \\\n",
       "0                                0.53047  -0.036353    -0.048086   \n",
       "1                                0.54879  -0.220173    -0.230553   \n",
       "2                                0.20987   0.030286     0.016643   \n",
       "3                                0.00054   0.062463     0.005635   \n",
       "4                                0.00000   0.075201    -0.034869   \n",
       "\n",
       "   Mean Firm vs. Mean Random  \n",
       "0                   0.011733  \n",
       "1                   0.010380  \n",
       "2                   0.013643  \n",
       "3                   0.056828  \n",
       "4                   0.110070  "
      ]
     },
     "execution_count": 528,
     "metadata": {},
     "output_type": "execute_result"
    }
   ],
   "source": [
    "res_table.head()"
   ]
  },
  {
   "cell_type": "code",
   "execution_count": 533,
   "id": "d92c1c62",
   "metadata": {},
   "outputs": [
    {
     "data": {
      "text/plain": [
       "51"
      ]
     },
     "execution_count": 533,
     "metadata": {},
     "output_type": "execute_result"
    }
   ],
   "source": [
    "len(res_table[res_table[\"M vs. F Firm Embedding\"] < 0.05])"
   ]
  },
  {
   "cell_type": "code",
   "execution_count": 479,
   "id": "77e69ac9",
   "metadata": {},
   "outputs": [],
   "source": [
    "# Filter p-values. \n",
    "\n",
    "sign_level = 0.05\n",
    "\n",
    "res_all_df_filtered = res_all_df.loc[\n",
    "                    (res_all_df[\"Male vs. Female Corporate Embedding\"] < sign_level) \n",
    "                     &(res_all_df[\"Difference Firm vs. Difference Random\"] < sign_level) \n",
    "                    ]"
   ]
  },
  {
   "cell_type": "code",
   "execution_count": null,
   "id": "4854a71a",
   "metadata": {},
   "outputs": [],
   "source": []
  },
  {
   "cell_type": "code",
   "execution_count": null,
   "id": "7b9d116d",
   "metadata": {},
   "outputs": [],
   "source": []
  },
  {
   "cell_type": "markdown",
   "id": "21358049",
   "metadata": {},
   "source": [
    "### Get Dictionary Results for Companies"
   ]
  },
  {
   "cell_type": "code",
   "execution_count": 624,
   "id": "12812099",
   "metadata": {},
   "outputs": [],
   "source": [
    "# Read and prepare dictionaries. \n",
    "\n",
    "dictionaries = pd.read_csv(\"dimensions_matched_manual.csv\", sep = \";\", index_col = 0)\n",
    "dictionaries[\"tuple\"] = list(zip(dictionaries[\"Term1\"].astype(str), dictionaries[\"Term2\"].astype(str)))\n",
    "dictionaries = dictionaries[[\"Dictionary\", \"tuple\"]]\n",
    "dictionaries[\"tuple\"] = dictionaries[\"tuple\"].astype(str)\n",
    "\n",
    "unique_dictionaries = dictionaries[\"Dictionary\"].unique()\n",
    "unique_dictionaries.sort()"
   ]
  },
  {
   "cell_type": "code",
   "execution_count": 627,
   "id": "4d0e3c44",
   "metadata": {
    "scrolled": true
   },
   "outputs": [],
   "source": [
    "def get_dictionary_average(target_list, scope):\n",
    "    \n",
    "    result_dict = {}\n",
    "    result_dict[\"Name\"] = []\n",
    "\n",
    "    for dictionary in unique_dictionaries: \n",
    "        result_dict[f\"{dictionary}_Male\"] = []\n",
    "        result_dict[f\"{dictionary}_Female\"] = []\n",
    "        result_dict[f\"{dictionary}_Female-Male\"] = []\n",
    "\n",
    "    result = pd.DataFrame(result_dict)\n",
    "    \n",
    "    for name in target_list: \n",
    "        comparison = pd.read_csv(f\"./averaged_embeddings/{name}.csv\", index_col = 0)\n",
    "        comparison = comparison.sort_index()\n",
    "        comparison = pd.concat([comparison, dictionaries], axis=1) \n",
    "\n",
    "        comparison = comparison.groupby(\"Dictionary\", as_index = False, ).mean()\n",
    "        comparison = comparison.iloc[:,-3:]\n",
    "        values = [item for sublist in comparison.values for item in sublist]\n",
    "        values.insert(0, name)\n",
    "        result.loc[len(result)] = values \n",
    "           \n",
    "    if scope == \"full\":\n",
    "        return result \n",
    "    \n",
    "    if scope == \"limited\":\n",
    "        return result.loc[:, x.columns.str.endswith('Female-Male')]"
   ]
  },
  {
   "cell_type": "code",
   "execution_count": 628,
   "id": "e3fca8cb",
   "metadata": {},
   "outputs": [],
   "source": [
    "x = get_dictionary_average(company_names[\"Name\"], \"full\")"
   ]
  },
  {
   "cell_type": "code",
   "execution_count": 629,
   "id": "3583a215",
   "metadata": {},
   "outputs": [
    {
     "data": {
      "text/html": [
       "<div>\n",
       "<style scoped>\n",
       "    .dataframe tbody tr th:only-of-type {\n",
       "        vertical-align: middle;\n",
       "    }\n",
       "\n",
       "    .dataframe tbody tr th {\n",
       "        vertical-align: top;\n",
       "    }\n",
       "\n",
       "    .dataframe thead th {\n",
       "        text-align: right;\n",
       "    }\n",
       "</style>\n",
       "<table border=\"1\" class=\"dataframe\">\n",
       "  <thead>\n",
       "    <tr style=\"text-align: right;\">\n",
       "      <th></th>\n",
       "      <th>Name</th>\n",
       "      <th>Ability_Male</th>\n",
       "      <th>Ability_Female</th>\n",
       "      <th>Ability_Female-Male</th>\n",
       "      <th>Agency_Male</th>\n",
       "      <th>Agency_Female</th>\n",
       "      <th>Agency_Female-Male</th>\n",
       "      <th>Morality_Male</th>\n",
       "      <th>Morality_Female</th>\n",
       "      <th>Morality_Female-Male</th>\n",
       "      <th>Politics_Male</th>\n",
       "      <th>Politics_Female</th>\n",
       "      <th>Politics_Female-Male</th>\n",
       "      <th>Sociability_Male</th>\n",
       "      <th>Sociability_Female</th>\n",
       "      <th>Sociability_Female-Male</th>\n",
       "      <th>Status_Male</th>\n",
       "      <th>Status_Female</th>\n",
       "      <th>Status_Female-Male</th>\n",
       "    </tr>\n",
       "  </thead>\n",
       "  <tbody>\n",
       "    <tr>\n",
       "      <th>0</th>\n",
       "      <td>3M</td>\n",
       "      <td>-0.607757</td>\n",
       "      <td>-0.546584</td>\n",
       "      <td>0.061173</td>\n",
       "      <td>0.417957</td>\n",
       "      <td>0.361829</td>\n",
       "      <td>-0.056129</td>\n",
       "      <td>-0.181350</td>\n",
       "      <td>-0.175099</td>\n",
       "      <td>0.006251</td>\n",
       "      <td>-0.352764</td>\n",
       "      <td>-0.142683</td>\n",
       "      <td>0.210082</td>\n",
       "      <td>0.077821</td>\n",
       "      <td>0.066283</td>\n",
       "      <td>-0.011538</td>\n",
       "      <td>-0.441600</td>\n",
       "      <td>-0.531530</td>\n",
       "      <td>-0.089930</td>\n",
       "    </tr>\n",
       "    <tr>\n",
       "      <th>1</th>\n",
       "      <td>A. O. Smith</td>\n",
       "      <td>-0.357621</td>\n",
       "      <td>-0.401136</td>\n",
       "      <td>-0.043515</td>\n",
       "      <td>0.285714</td>\n",
       "      <td>0.248434</td>\n",
       "      <td>-0.037280</td>\n",
       "      <td>-0.386449</td>\n",
       "      <td>-0.402828</td>\n",
       "      <td>-0.016379</td>\n",
       "      <td>-0.143279</td>\n",
       "      <td>-0.058412</td>\n",
       "      <td>0.084867</td>\n",
       "      <td>-0.000117</td>\n",
       "      <td>-0.040032</td>\n",
       "      <td>-0.039915</td>\n",
       "      <td>-0.284705</td>\n",
       "      <td>-0.267932</td>\n",
       "      <td>0.016773</td>\n",
       "    </tr>\n",
       "    <tr>\n",
       "      <th>2</th>\n",
       "      <td>Abbott Laboratories</td>\n",
       "      <td>-0.408981</td>\n",
       "      <td>-0.333446</td>\n",
       "      <td>0.075534</td>\n",
       "      <td>0.517473</td>\n",
       "      <td>0.497338</td>\n",
       "      <td>-0.020134</td>\n",
       "      <td>-0.394815</td>\n",
       "      <td>-0.369533</td>\n",
       "      <td>0.025282</td>\n",
       "      <td>0.330587</td>\n",
       "      <td>0.418945</td>\n",
       "      <td>0.088358</td>\n",
       "      <td>-0.129281</td>\n",
       "      <td>-0.121090</td>\n",
       "      <td>0.008190</td>\n",
       "      <td>-1.159615</td>\n",
       "      <td>-1.086047</td>\n",
       "      <td>0.073568</td>\n",
       "    </tr>\n",
       "    <tr>\n",
       "      <th>3</th>\n",
       "      <td>AbbVie</td>\n",
       "      <td>0.243949</td>\n",
       "      <td>0.194015</td>\n",
       "      <td>-0.049933</td>\n",
       "      <td>0.250758</td>\n",
       "      <td>0.162561</td>\n",
       "      <td>-0.088197</td>\n",
       "      <td>0.000696</td>\n",
       "      <td>0.010913</td>\n",
       "      <td>0.010217</td>\n",
       "      <td>0.225046</td>\n",
       "      <td>0.276468</td>\n",
       "      <td>0.051422</td>\n",
       "      <td>0.406887</td>\n",
       "      <td>0.371426</td>\n",
       "      <td>-0.035461</td>\n",
       "      <td>-0.055647</td>\n",
       "      <td>-0.098102</td>\n",
       "      <td>-0.042455</td>\n",
       "    </tr>\n",
       "    <tr>\n",
       "      <th>4</th>\n",
       "      <td>Abiomed</td>\n",
       "      <td>-0.142519</td>\n",
       "      <td>-0.124384</td>\n",
       "      <td>0.018136</td>\n",
       "      <td>0.382069</td>\n",
       "      <td>0.292538</td>\n",
       "      <td>-0.089531</td>\n",
       "      <td>-0.180102</td>\n",
       "      <td>-0.110071</td>\n",
       "      <td>0.070031</td>\n",
       "      <td>-0.109082</td>\n",
       "      <td>-0.026302</td>\n",
       "      <td>0.082780</td>\n",
       "      <td>0.477749</td>\n",
       "      <td>0.491906</td>\n",
       "      <td>0.014157</td>\n",
       "      <td>-0.352472</td>\n",
       "      <td>-0.290540</td>\n",
       "      <td>0.061932</td>\n",
       "    </tr>\n",
       "  </tbody>\n",
       "</table>\n",
       "</div>"
      ],
      "text/plain": [
       "                  Name  Ability_Male  Ability_Female  Ability_Female-Male  \\\n",
       "0                   3M     -0.607757       -0.546584             0.061173   \n",
       "1          A. O. Smith     -0.357621       -0.401136            -0.043515   \n",
       "2  Abbott Laboratories     -0.408981       -0.333446             0.075534   \n",
       "3               AbbVie      0.243949        0.194015            -0.049933   \n",
       "4              Abiomed     -0.142519       -0.124384             0.018136   \n",
       "\n",
       "   Agency_Male  Agency_Female  Agency_Female-Male  Morality_Male  \\\n",
       "0     0.417957       0.361829           -0.056129      -0.181350   \n",
       "1     0.285714       0.248434           -0.037280      -0.386449   \n",
       "2     0.517473       0.497338           -0.020134      -0.394815   \n",
       "3     0.250758       0.162561           -0.088197       0.000696   \n",
       "4     0.382069       0.292538           -0.089531      -0.180102   \n",
       "\n",
       "   Morality_Female  Morality_Female-Male  Politics_Male  Politics_Female  \\\n",
       "0        -0.175099              0.006251      -0.352764        -0.142683   \n",
       "1        -0.402828             -0.016379      -0.143279        -0.058412   \n",
       "2        -0.369533              0.025282       0.330587         0.418945   \n",
       "3         0.010913              0.010217       0.225046         0.276468   \n",
       "4        -0.110071              0.070031      -0.109082        -0.026302   \n",
       "\n",
       "   Politics_Female-Male  Sociability_Male  Sociability_Female  \\\n",
       "0              0.210082          0.077821            0.066283   \n",
       "1              0.084867         -0.000117           -0.040032   \n",
       "2              0.088358         -0.129281           -0.121090   \n",
       "3              0.051422          0.406887            0.371426   \n",
       "4              0.082780          0.477749            0.491906   \n",
       "\n",
       "   Sociability_Female-Male  Status_Male  Status_Female  Status_Female-Male  \n",
       "0                -0.011538    -0.441600      -0.531530           -0.089930  \n",
       "1                -0.039915    -0.284705      -0.267932            0.016773  \n",
       "2                 0.008190    -1.159615      -1.086047            0.073568  \n",
       "3                -0.035461    -0.055647      -0.098102           -0.042455  \n",
       "4                 0.014157    -0.352472      -0.290540            0.061932  "
      ]
     },
     "execution_count": 629,
     "metadata": {},
     "output_type": "execute_result"
    }
   ],
   "source": [
    "x.head()"
   ]
  },
  {
   "cell_type": "code",
   "execution_count": null,
   "id": "8a245514",
   "metadata": {},
   "outputs": [],
   "source": []
  },
  {
   "cell_type": "markdown",
   "id": "380392f2",
   "metadata": {},
   "source": [
    "### Get Dictionary Table"
   ]
  },
  {
   "cell_type": "code",
   "execution_count": 636,
   "id": "c9867431",
   "metadata": {},
   "outputs": [
    {
     "data": {
      "application/vnd.jupyter.widget-view+json": {
       "model_id": "d12db8d697d44bb4ae1bc4de3d1bae85",
       "version_major": 2,
       "version_minor": 0
      },
      "text/plain": [
       "  0%|          | 0/6 [00:00<?, ?it/s]"
      ]
     },
     "metadata": {},
     "output_type": "display_data"
    }
   ],
   "source": [
    "dictionary_table = pd.DataFrame()\n",
    "\n",
    "dictionary_table[\"Dictionary\"] = unique_dictionaries\n",
    "dictionary_table[\"M vs. F Firm Embedding\"] = 0 \n",
    "dictionary_table[\"Delta Firm vs. Delta Random Embedding\"] = 0\n",
    "dictionary_table[\"Mean Firm\"] = 0\n",
    "dictionary_table[\"Mean Random\"] = 0\n",
    "\n",
    "dictionary_results_firm = get_dictionary_average(company_names[\"Name\"], \"full\")\n",
    "dictionary_results_nouns = get_dictionary_average(nouns_sample, \"full\")\n",
    "\n",
    "\n",
    "\n",
    "for dictionary in tqdm(unique_dictionaries): \n",
    "    \n",
    "    # Get M vs. F Firm Embedding. \n",
    "    \n",
    "    stat1, p_value1 = ttest_ind(dictionary_results_firm[f\"{dictionary}_Male\"], dictionary_results_firm[f\"{dictionary}_Female\"])\n",
    "    dictionary_table[\"M vs. F Firm Embedding\"].loc[dictionary_table[\"Dictionary\"] == dictionary] = round_decimals_up(p_value1, 5)\n",
    "    \n",
    "    # Get Delta Firm vs. Delta Random Embedding. \n",
    "    stat2, p_value2 = ttest_ind(dictionary_results_firm[f\"{dictionary}_Female-Male\"], dictionary_results_nouns[f\"{dictionary}_Female-Male\"])\n",
    "    dictionary_table[\"Delta Firm vs. Delta Random Embedding\"].loc[dictionary_table[\"Dictionary\"] == dictionary] = round_decimals_up(p_value2, 5)\n",
    "    \n",
    "    # Get Mean Firm. \n",
    "    mean_firm = dictionary_results_firm[f\"{dictionary}_Female-Male\"].mean()\n",
    "    dictionary_table[\"Mean Firm\"].loc[dictionary_table[\"Dictionary\"] == dictionary] = mean_firm\n",
    "    \n",
    "    \n",
    "    \n",
    "    \n",
    "    # Get Mean Random.  \n",
    "    mean_random = dictionary_results_nouns[f\"{dictionary}_Female-Male\"].mean()\n",
    "    dictionary_table[\"Mean Random\"].loc[dictionary_table[\"Dictionary\"] == dictionary] = mean_random\n",
    "    \n",
    "    "
   ]
  },
  {
   "cell_type": "code",
   "execution_count": 637,
   "id": "6028d0ab",
   "metadata": {},
   "outputs": [
    {
     "data": {
      "text/html": [
       "<div>\n",
       "<style scoped>\n",
       "    .dataframe tbody tr th:only-of-type {\n",
       "        vertical-align: middle;\n",
       "    }\n",
       "\n",
       "    .dataframe tbody tr th {\n",
       "        vertical-align: top;\n",
       "    }\n",
       "\n",
       "    .dataframe thead th {\n",
       "        text-align: right;\n",
       "    }\n",
       "</style>\n",
       "<table border=\"1\" class=\"dataframe\">\n",
       "  <thead>\n",
       "    <tr style=\"text-align: right;\">\n",
       "      <th></th>\n",
       "      <th>Dictionary</th>\n",
       "      <th>M vs. F Firm Embedding</th>\n",
       "      <th>Delta Firm vs. Delta Random Embedding</th>\n",
       "      <th>Mean Firm</th>\n",
       "      <th>Mean Random</th>\n",
       "    </tr>\n",
       "  </thead>\n",
       "  <tbody>\n",
       "    <tr>\n",
       "      <th>0</th>\n",
       "      <td>Ability</td>\n",
       "      <td>0.47293</td>\n",
       "      <td>0.00001</td>\n",
       "      <td>0.014930</td>\n",
       "      <td>-0.021861</td>\n",
       "    </tr>\n",
       "    <tr>\n",
       "      <th>1</th>\n",
       "      <td>Agency</td>\n",
       "      <td>0.05905</td>\n",
       "      <td>0.00306</td>\n",
       "      <td>-0.022251</td>\n",
       "      <td>-0.031733</td>\n",
       "    </tr>\n",
       "    <tr>\n",
       "      <th>2</th>\n",
       "      <td>Morality</td>\n",
       "      <td>0.01877</td>\n",
       "      <td>0.00072</td>\n",
       "      <td>0.031983</td>\n",
       "      <td>0.021651</td>\n",
       "    </tr>\n",
       "    <tr>\n",
       "      <th>3</th>\n",
       "      <td>Politics</td>\n",
       "      <td>0.00127</td>\n",
       "      <td>0.21759</td>\n",
       "      <td>0.048346</td>\n",
       "      <td>0.042153</td>\n",
       "    </tr>\n",
       "    <tr>\n",
       "      <th>4</th>\n",
       "      <td>Sociability</td>\n",
       "      <td>0.07265</td>\n",
       "      <td>0.00001</td>\n",
       "      <td>0.024093</td>\n",
       "      <td>0.002779</td>\n",
       "    </tr>\n",
       "    <tr>\n",
       "      <th>5</th>\n",
       "      <td>Status</td>\n",
       "      <td>0.01687</td>\n",
       "      <td>0.87172</td>\n",
       "      <td>0.057136</td>\n",
       "      <td>0.057933</td>\n",
       "    </tr>\n",
       "  </tbody>\n",
       "</table>\n",
       "</div>"
      ],
      "text/plain": [
       "    Dictionary  M vs. F Firm Embedding  Delta Firm vs. Delta Random Embedding  \\\n",
       "0      Ability                 0.47293                                0.00001   \n",
       "1       Agency                 0.05905                                0.00306   \n",
       "2     Morality                 0.01877                                0.00072   \n",
       "3     Politics                 0.00127                                0.21759   \n",
       "4  Sociability                 0.07265                                0.00001   \n",
       "5       Status                 0.01687                                0.87172   \n",
       "\n",
       "   Mean Firm  Mean Random  \n",
       "0   0.014930    -0.021861  \n",
       "1  -0.022251    -0.031733  \n",
       "2   0.031983     0.021651  \n",
       "3   0.048346     0.042153  \n",
       "4   0.024093     0.002779  \n",
       "5   0.057136     0.057933  "
      ]
     },
     "execution_count": 637,
     "metadata": {},
     "output_type": "execute_result"
    }
   ],
   "source": [
    "dictionary_table"
   ]
  },
  {
   "cell_type": "code",
   "execution_count": null,
   "id": "8191d963",
   "metadata": {},
   "outputs": [],
   "source": []
  },
  {
   "cell_type": "code",
   "execution_count": null,
   "id": "0ebb1cd6",
   "metadata": {},
   "outputs": [],
   "source": []
  },
  {
   "cell_type": "code",
   "execution_count": null,
   "id": "745fb5aa",
   "metadata": {},
   "outputs": [],
   "source": []
  },
  {
   "cell_type": "code",
   "execution_count": null,
   "id": "6f01b9dc",
   "metadata": {},
   "outputs": [],
   "source": []
  },
  {
   "cell_type": "code",
   "execution_count": null,
   "id": "5c519122",
   "metadata": {},
   "outputs": [],
   "source": []
  },
  {
   "cell_type": "code",
   "execution_count": null,
   "id": "84d7e9cd",
   "metadata": {},
   "outputs": [],
   "source": [
    "from scipy.stats import ttest_ind"
   ]
  },
  {
   "cell_type": "code",
   "execution_count": 411,
   "id": "e1996b62",
   "metadata": {},
   "outputs": [
    {
     "data": {
      "text/plain": [
       "array(['Sociability', 'Morality', 'Ability', 'Agency', 'Status',\n",
       "       'Politics'], dtype=object)"
      ]
     },
     "execution_count": 411,
     "metadata": {},
     "output_type": "execute_result"
    }
   ],
   "source": [
    "dictionaries[\"Dictionary\"].unique()"
   ]
  },
  {
   "cell_type": "code",
   "execution_count": 416,
   "id": "c75d9790",
   "metadata": {},
   "outputs": [],
   "source": [
    "def check_significance(p_value): \n",
    "    if p_value < 0.05: \n",
    "        stat_res = \"Significant Difference\"\n",
    "    else: \n",
    "        stat_res = \"No Significant Difference\"\n",
    "        \n",
    "    return stat_res"
   ]
  },
  {
   "cell_type": "code",
   "execution_count": null,
   "id": "daef2de4",
   "metadata": {},
   "outputs": [],
   "source": []
  },
  {
   "cell_type": "code",
   "execution_count": 417,
   "id": "b2ff7d43",
   "metadata": {},
   "outputs": [],
   "source": [
    "dictionary_comparison_results = {}\n",
    "\n",
    "for dictionary in dictionaries[\"Dictionary\"].unique(): \n",
    "    stat, p_value = ttest_ind(company_names[dictionary], nouns[dictionary])\n",
    "    sign = check_significance(p_value)\n",
    "    dictionary_comparison_results[dictionary] = [p_value, sign]"
   ]
  },
  {
   "cell_type": "code",
   "execution_count": null,
   "id": "06b18c5f",
   "metadata": {},
   "outputs": [],
   "source": []
  },
  {
   "cell_type": "code",
   "execution_count": 418,
   "id": "10e5a2bc",
   "metadata": {},
   "outputs": [
    {
     "data": {
      "text/plain": [
       "{'Sociability': [1.7542309017501916e-08, 'Significant Difference'],\n",
       " 'Morality': [0.000715323341723173, 'Significant Difference'],\n",
       " 'Ability': [4.025130446503094e-15, 'Significant Difference'],\n",
       " 'Agency': [0.0030512677772062233, 'Significant Difference'],\n",
       " 'Status': [0.8717194895530588, 'No Significant Difference'],\n",
       " 'Politics': [0.2175867107228613, 'No Significant Difference']}"
      ]
     },
     "execution_count": 418,
     "metadata": {},
     "output_type": "execute_result"
    }
   ],
   "source": [
    "dictionary_comparison_results"
   ]
  },
  {
   "cell_type": "code",
   "execution_count": null,
   "id": "4a50242e",
   "metadata": {},
   "outputs": [],
   "source": []
  },
  {
   "cell_type": "code",
   "execution_count": null,
   "id": "f3e75ec4",
   "metadata": {},
   "outputs": [],
   "source": [
    "Goal\n",
    "\n",
    "\n",
    "\n",
    "        Difference Male Female     Difference to Random      Mean Firm    Mean Random\n",
    "Dict1\n",
    "Dict2\n",
    "Dict2"
   ]
  },
  {
   "cell_type": "code",
   "execution_count": null,
   "id": "4713ff07",
   "metadata": {},
   "outputs": [],
   "source": []
  },
  {
   "cell_type": "code",
   "execution_count": null,
   "id": "5c44aa71",
   "metadata": {},
   "outputs": [],
   "source": []
  },
  {
   "cell_type": "code",
   "execution_count": null,
   "id": "567acbf3",
   "metadata": {},
   "outputs": [],
   "source": []
  },
  {
   "cell_type": "code",
   "execution_count": null,
   "id": "0ce3def9",
   "metadata": {},
   "outputs": [],
   "source": []
  },
  {
   "cell_type": "code",
   "execution_count": null,
   "id": "63e49c24",
   "metadata": {},
   "outputs": [],
   "source": []
  },
  {
   "cell_type": "code",
   "execution_count": null,
   "id": "bb088112",
   "metadata": {},
   "outputs": [],
   "source": []
  },
  {
   "cell_type": "markdown",
   "id": "9e663614",
   "metadata": {},
   "source": [
    "### 2.3 Average over all dimensions"
   ]
  },
  {
   "cell_type": "code",
   "execution_count": 363,
   "id": "692d8bf9",
   "metadata": {},
   "outputs": [
    {
     "data": {
      "application/vnd.jupyter.widget-view+json": {
       "model_id": "1111a55a7aef4e7a848323287c7fab31",
       "version_major": 2,
       "version_minor": 0
      },
      "text/plain": [
       "  0%|          | 0/505 [00:00<?, ?it/s]"
      ]
     },
     "metadata": {},
     "output_type": "display_data"
    }
   ],
   "source": [
    "# Get delta for selected antonyms between male and female vector. \n",
    "\n",
    "company_names[\"Selected_Mean_Delta\"] = 0\n",
    "\n",
    "for name in tqdm(company_names[\"Name\"].unique()):\n",
    "    comparison = pd.read_csv(f\"./averaged_embeddings/{name}.csv\")\n",
    "    company_names[\"Selected_Mean_Delta\"].loc[company_names[\"Name\"] == name] = (comparison[\"female-male\"].mean())*10000"
   ]
  },
  {
   "cell_type": "code",
   "execution_count": 364,
   "id": "99577e95",
   "metadata": {
    "scrolled": true
   },
   "outputs": [
    {
     "data": {
      "image/png": "[encoded data removed]",
      "text/plain": [
       "<Figure size 432x288 with 1 Axes>"
      ]
     },
     "metadata": {
      "needs_background": "light"
     },
     "output_type": "display_data"
    }
   ],
   "source": [
    "# Plot difference between selected dimensions for firms. \n",
    "\n",
    "fig, ax = plt.subplots(1, 1, figsize=(6, 4))\n",
    "\n",
    "g1 = sns.scatterplot(data = company_names.sort_values(by=[\"Selected_Mean_Delta\"], ascending=True), x = \"Name\", y = \"Selected_Mean_Delta\", color = \"black\", ax = ax)\n",
    "g1.set(xticklabels=[]) \n",
    "g1.set(xlabel=\"S&P 500 Firms\") \n",
    "g1.axhline(0, color = \"black\")\n",
    "g1.tick_params(bottom=False)  "
   ]
  },
  {
   "cell_type": "code",
   "execution_count": 365,
   "id": "4b925ba7",
   "metadata": {},
   "outputs": [
    {
     "data": {
      "text/plain": [
       "0.7465346534653465"
      ]
     },
     "execution_count": 365,
     "metadata": {},
     "output_type": "execute_result"
    }
   ],
   "source": [
    "len(company_names[company_names[\"Selected_Mean_Delta\"] > 0])/len(company_names)"
   ]
  },
  {
   "cell_type": "code",
   "execution_count": 366,
   "id": "e1a24dcd",
   "metadata": {},
   "outputs": [
    {
     "data": {
      "text/html": [
       "<div>\n",
       "<style scoped>\n",
       "    .dataframe tbody tr th:only-of-type {\n",
       "        vertical-align: middle;\n",
       "    }\n",
       "\n",
       "    .dataframe tbody tr th {\n",
       "        vertical-align: top;\n",
       "    }\n",
       "\n",
       "    .dataframe thead th {\n",
       "        text-align: right;\n",
       "    }\n",
       "</style>\n",
       "<table border=\"1\" class=\"dataframe\">\n",
       "  <thead>\n",
       "    <tr style=\"text-align: right;\">\n",
       "      <th></th>\n",
       "      <th>Symbol</th>\n",
       "      <th>Name</th>\n",
       "      <th>Sector</th>\n",
       "      <th>Name_Lower</th>\n",
       "      <th>Selected_Mean_Delta</th>\n",
       "    </tr>\n",
       "  </thead>\n",
       "  <tbody>\n",
       "    <tr>\n",
       "      <th>499</th>\n",
       "      <td>XYL</td>\n",
       "      <td>Xylem</td>\n",
       "      <td>Industrials</td>\n",
       "      <td>xylem</td>\n",
       "      <td>1584.96573</td>\n",
       "    </tr>\n",
       "  </tbody>\n",
       "</table>\n",
       "</div>"
      ],
      "text/plain": [
       "    Symbol   Name       Sector Name_Lower  Selected_Mean_Delta\n",
       "499    XYL  Xylem  Industrials      xylem           1584.96573"
      ]
     },
     "execution_count": 366,
     "metadata": {},
     "output_type": "execute_result"
    }
   ],
   "source": [
    "company_names[company_names[\"Selected_Mean_Delta\"] == company_names[\"Selected_Mean_Delta\"].max()]"
   ]
  },
  {
   "cell_type": "code",
   "execution_count": 367,
   "id": "a165cfa2",
   "metadata": {},
   "outputs": [
    {
     "data": {
      "text/html": [
       "<div>\n",
       "<style scoped>\n",
       "    .dataframe tbody tr th:only-of-type {\n",
       "        vertical-align: middle;\n",
       "    }\n",
       "\n",
       "    .dataframe tbody tr th {\n",
       "        vertical-align: top;\n",
       "    }\n",
       "\n",
       "    .dataframe thead th {\n",
       "        text-align: right;\n",
       "    }\n",
       "</style>\n",
       "<table border=\"1\" class=\"dataframe\">\n",
       "  <thead>\n",
       "    <tr style=\"text-align: right;\">\n",
       "      <th></th>\n",
       "      <th>Symbol</th>\n",
       "      <th>Name</th>\n",
       "      <th>Sector</th>\n",
       "      <th>Name_Lower</th>\n",
       "      <th>Selected_Mean_Delta</th>\n",
       "    </tr>\n",
       "  </thead>\n",
       "  <tbody>\n",
       "    <tr>\n",
       "      <th>0</th>\n",
       "      <td>XYL</td>\n",
       "      <td>Xylem</td>\n",
       "      <td>Industrials</td>\n",
       "      <td>xylem</td>\n",
       "      <td>1584.965730</td>\n",
       "    </tr>\n",
       "    <tr>\n",
       "      <th>1</th>\n",
       "      <td>INTU</td>\n",
       "      <td>Intuit</td>\n",
       "      <td>Information Technology</td>\n",
       "      <td>intuit</td>\n",
       "      <td>1158.537293</td>\n",
       "    </tr>\n",
       "    <tr>\n",
       "      <th>2</th>\n",
       "      <td>NUE</td>\n",
       "      <td>Nucor</td>\n",
       "      <td>Materials</td>\n",
       "      <td>nucor</td>\n",
       "      <td>1030.015237</td>\n",
       "    </tr>\n",
       "    <tr>\n",
       "      <th>3</th>\n",
       "      <td>ADI</td>\n",
       "      <td>Analog Devices</td>\n",
       "      <td>Information Technology</td>\n",
       "      <td>analog devices</td>\n",
       "      <td>1009.555233</td>\n",
       "    </tr>\n",
       "    <tr>\n",
       "      <th>4</th>\n",
       "      <td>AMAT</td>\n",
       "      <td>Applied Materials</td>\n",
       "      <td>Information Technology</td>\n",
       "      <td>applied materials</td>\n",
       "      <td>993.592642</td>\n",
       "    </tr>\n",
       "    <tr>\n",
       "      <th>5</th>\n",
       "      <td>WM</td>\n",
       "      <td>Waste Management</td>\n",
       "      <td>Industrials</td>\n",
       "      <td>waste management</td>\n",
       "      <td>991.190863</td>\n",
       "    </tr>\n",
       "    <tr>\n",
       "      <th>6</th>\n",
       "      <td>AIZ</td>\n",
       "      <td>Assurant</td>\n",
       "      <td>Financials</td>\n",
       "      <td>assurant</td>\n",
       "      <td>978.845559</td>\n",
       "    </tr>\n",
       "    <tr>\n",
       "      <th>7</th>\n",
       "      <td>ALLE</td>\n",
       "      <td>Allegion</td>\n",
       "      <td>Industrials</td>\n",
       "      <td>allegion</td>\n",
       "      <td>934.488695</td>\n",
       "    </tr>\n",
       "    <tr>\n",
       "      <th>8</th>\n",
       "      <td>INTC</td>\n",
       "      <td>Intel</td>\n",
       "      <td>Information Technology</td>\n",
       "      <td>intel</td>\n",
       "      <td>921.404741</td>\n",
       "    </tr>\n",
       "    <tr>\n",
       "      <th>9</th>\n",
       "      <td>SYK</td>\n",
       "      <td>Stryker Corporation</td>\n",
       "      <td>Health Care</td>\n",
       "      <td>stryker corporation</td>\n",
       "      <td>876.317985</td>\n",
       "    </tr>\n",
       "  </tbody>\n",
       "</table>\n",
       "</div>"
      ],
      "text/plain": [
       "  Symbol                 Name                  Sector           Name_Lower  \\\n",
       "0    XYL                Xylem             Industrials                xylem   \n",
       "1   INTU               Intuit  Information Technology               intuit   \n",
       "2    NUE                Nucor               Materials                nucor   \n",
       "3    ADI       Analog Devices  Information Technology       analog devices   \n",
       "4   AMAT    Applied Materials  Information Technology    applied materials   \n",
       "5     WM     Waste Management             Industrials     waste management   \n",
       "6    AIZ             Assurant              Financials             assurant   \n",
       "7   ALLE             Allegion             Industrials             allegion   \n",
       "8   INTC                Intel  Information Technology                intel   \n",
       "9    SYK  Stryker Corporation             Health Care  stryker corporation   \n",
       "\n",
       "   Selected_Mean_Delta  \n",
       "0          1584.965730  \n",
       "1          1158.537293  \n",
       "2          1030.015237  \n",
       "3          1009.555233  \n",
       "4           993.592642  \n",
       "5           991.190863  \n",
       "6           978.845559  \n",
       "7           934.488695  \n",
       "8           921.404741  \n",
       "9           876.317985  "
      ]
     },
     "execution_count": 367,
     "metadata": {},
     "output_type": "execute_result"
    }
   ],
   "source": [
    "# Analyze companies with highest difference meaning highest bias toward female embedding. \n",
    "\n",
    "company_names.sort_values(by=[\"Selected_Mean_Delta\"], ascending=False).head(10).reset_index(drop = True)"
   ]
  },
  {
   "cell_type": "code",
   "execution_count": 368,
   "id": "2dab6f82",
   "metadata": {
    "scrolled": true
   },
   "outputs": [
    {
     "data": {
      "text/plain": [
       "<AxesSubplot:xlabel='Selected_Mean_Delta', ylabel='Sector'>"
      ]
     },
     "execution_count": 368,
     "metadata": {},
     "output_type": "execute_result"
    },
    {
     "data": {
      "image/png": "[encoded data removed]",
      "text/plain": [
       "<Figure size 432x288 with 1 Axes>"
      ]
     },
     "metadata": {
      "needs_background": "light"
     },
     "output_type": "display_data"
    }
   ],
   "source": [
    "# Check for difference between sectors. \n",
    "\n",
    "sp_500_groupedby_industry = company_names.groupby(\"Sector\").mean().sort_values(by=[\"Selected_Mean_Delta\"], \n",
    "                                                                        ascending=False)\n",
    "sns.barplot(data = sp_500_groupedby_industry, y = sp_500_groupedby_industry.index, \n",
    "            x= \"Selected_Mean_Delta\", color = \"black\")"
   ]
  },
  {
   "cell_type": "code",
   "execution_count": null,
   "id": "9f4eeda6",
   "metadata": {},
   "outputs": [],
   "source": []
  }
 ],
 "metadata": {
  "kernelspec": {
   "display_name": "Python 3 (ipykernel)",
   "language": "python",
   "name": "python3"
  },
  "language_info": {
   "codemirror_mode": {
    "name": "ipython",
    "version": 3
   },
   "file_extension": ".py",
   "mimetype": "text/x-python",
   "name": "python",
   "nbconvert_exporter": "python",
   "pygments_lexer": "ipython3",
   "version": "3.8.12"
  }
 },
 "nbformat": 4,
 "nbformat_minor": 5
}

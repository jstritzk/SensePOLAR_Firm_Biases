{
 "cells": [
  {
   "cell_type": "markdown",
   "id": "6f02cc38",
   "metadata": {},
   "source": [
    "## Imports"
   ]
  },
  {
   "cell_type": "code",
   "execution_count": 1,
   "id": "cda79c48",
   "metadata": {},
   "outputs": [],
   "source": [
    "import bertFuncs as func\n",
    "from functions import *\n",
    "import pandas as pd\n",
    "import matplotlib.pyplot as plt\n",
    "from matplotlib.gridspec import GridSpec\n",
    "import seaborn as sns\n",
    "import warnings\n",
    "warnings.filterwarnings(\"ignore\")\n",
    "from sklearn.metrics.pairwise import cosine_similarity\n",
    "from transformers import logging\n",
    "logging.set_verbosity_error()\n",
    "from tqdm.notebook import tqdm\n",
    "import numpy as np\n",
    "from scipy.stats import ttest_ind\n",
    "from collections import defaultdict\n",
    "from nltk.corpus import wordnet as wn"
   ]
  },
  {
   "cell_type": "code",
   "execution_count": 2,
   "id": "f16c28ad",
   "metadata": {},
   "outputs": [],
   "source": [
    "test = get_firm_embeddings(\"amazon\", \"works\", 111, \"all\")"
   ]
  },
  {
   "cell_type": "markdown",
   "id": "6a93ab2e",
   "metadata": {},
   "source": [
    "## 1. Get Embeddings"
   ]
  },
  {
   "cell_type": "markdown",
   "id": "44553533",
   "metadata": {},
   "source": [
    "### 1.1 Get Firm Embeddings"
   ]
  },
  {
   "cell_type": "code",
   "execution_count": 276,
   "id": "7fd302dd",
   "metadata": {
    "scrolled": true
   },
   "outputs": [],
   "source": [
    "# Read S&P500 company names.\n",
    "# Source: https://github.com/datasets/s-and-p-500-companies/blob/master/data/constituents.csv\n",
    "\n",
    "company_names = pd.read_csv(\"sp500.csv\")\n",
    "#company_names[\"Count\"] = company_names['Name'].str.split().apply(len)\n",
    "#company_names.rename(columns = {\"cleanedname\":\"Name\"}, inplace = True)"
   ]
  },
  {
   "cell_type": "code",
   "execution_count": 328,
   "id": "66caf0eb",
   "metadata": {},
   "outputs": [
    {
     "data": {
      "application/vnd.jupyter.widget-view+json": {
       "model_id": "ce7875bc720d419aa7903ecbbd102d44",
       "version_major": 2,
       "version_minor": 0
      },
      "text/plain": [
       "  0%|          | 0/1 [00:00<?, ?it/s]"
      ]
     },
     "metadata": {},
     "output_type": "display_data"
    }
   ],
   "source": [
    "# Get embeddings for S&P 500 names. Average embeddings are calculated for multi-word firms. \n",
    "# Stored for faster import later. \n",
    "\n",
    "context = \"works\"\n",
    "\n",
    "for company in tqdm(company_names[\"Name\"]):\n",
    "    name_list = company.split(\" \")\n",
    "    \n",
    "    # Get contextual embedding for each part of the name.  \n",
    "    embeddings = pd.DataFrame()\n",
    "    for name in name_list: \n",
    "        embeddings[[f\"{name}_male\", f\"{name}_female\", \"tuple\"]] = get_firm_embeddings(name, context, 111, \"all\")[[\"Value 1\", \"Value 2\", \"tuple\"]]\n",
    "    \n",
    "    # Take average of different name parts. \n",
    "    embeddings[\"average_male\"] = embeddings.loc[:, embeddings.columns.str.endswith('_male')].mean(axis=1)\n",
    "    embeddings[\"average_female\"] = embeddings.loc[:, embeddings.columns.str.endswith('_female')].mean(axis=1)\n",
    "    \n",
    "    # Calculate delta / bias. \n",
    "    embeddings[\"female-male\"] = embeddings[\"average_female\"] - embeddings[\"average_male\"]\n",
    "    \n",
    "    # Store for faster import later. \n",
    "    embeddings.to_csv(f\"./averaged_embeddings/{company}.csv\")"
   ]
  },
  {
   "cell_type": "markdown",
   "id": "9fc4da9f",
   "metadata": {},
   "source": [
    "### 1.1 Get Random Noun Embeddings"
   ]
  },
  {
   "cell_type": "code",
   "execution_count": 326,
   "id": "936d333f",
   "metadata": {
    "scrolled": true
   },
   "outputs": [],
   "source": [
    "# Load and clean list of english nouns and generate random sample.\n",
    "\n",
    "nouns = pd.read_csv('nouns.csv', sep=\";\")\n",
    "nouns = nouns[nouns['nouns'].str.strip().str.split(' ').str.len().eq(1)] # Only considering single word nouns.\n",
    "nouns_sample = nouns[\"nouns\"].sample(n = 500, random_state = 42)\n",
    "nouns_sample = list(nouns_sample)\n",
    "\n",
    "# Make sure no overlap between nouns and companies \n",
    "company_names[\"Name_Lower\"] = company_names['Name'].str.lower()\n",
    "nouns_sample = [x for x in nouns_sample if x not in list(company_names[\"Name_Lower\"])]"
   ]
  },
  {
   "cell_type": "code",
   "execution_count": 280,
   "id": "59c989ab",
   "metadata": {
    "scrolled": false
   },
   "outputs": [
    {
     "data": {
      "application/vnd.jupyter.widget-view+json": {
       "model_id": "57c2ef6be9934692b2a635cb447f2ca8",
       "version_major": 2,
       "version_minor": 0
      },
      "text/plain": [
       "  0%|          | 0/500 [00:00<?, ?it/s]"
      ]
     },
     "metadata": {},
     "output_type": "display_data"
    }
   ],
   "source": [
    "# Get embeddings for random nouns. \n",
    "# Stored for faster import later. \n",
    "\n",
    "context = \"works\"\n",
    "\n",
    "for noun in tqdm(nouns_sample):\n",
    "    comparison = get_firm_embeddings(noun, context, 111, \"all\")\n",
    "    comparison.to_csv(f\"./averaged_embeddings/{noun}.csv\")"
   ]
  },
  {
   "cell_type": "markdown",
   "id": "0c6d3bbb",
   "metadata": {},
   "source": [
    "## 2. Initial analysis"
   ]
  },
  {
   "cell_type": "code",
   "execution_count": 329,
   "id": "85b24c9c",
   "metadata": {},
   "outputs": [],
   "source": [
    "# Get all considered dimensions. \n",
    "\n",
    "dimensions = get_firm_embeddings(\"amazon\", \"works\", 111, \"all\")\n",
    "\n",
    "all_dimensions = dimensions[\"tuple\"]"
   ]
  },
  {
   "cell_type": "code",
   "execution_count": 282,
   "id": "ccef3c30",
   "metadata": {
    "scrolled": true
   },
   "outputs": [
    {
     "data": {
      "text/plain": [
       "101"
      ]
     },
     "execution_count": 282,
     "metadata": {},
     "output_type": "execute_result"
    }
   ],
   "source": [
    "len(all_dimensions)"
   ]
  },
  {
   "cell_type": "markdown",
   "id": "84d10d6e",
   "metadata": {},
   "source": [
    "### 2.1 Distribution Plots"
   ]
  },
  {
   "cell_type": "code",
   "execution_count": null,
   "id": "57c74e71",
   "metadata": {},
   "outputs": [],
   "source": [
    "def get_dimension_distribution(considered_companies, antonym_pair, nouns_sample): \n",
    "    \n",
    "    result = pd.DataFrame()\n",
    "    result[\"companies\"] = considered_companies\n",
    "    result[\"value_male\"] = 0\n",
    "    result[\"value_female\"] = 0\n",
    "    result[\"difference\"] = 0\n",
    "\n",
    "    for company in considered_companies: \n",
    "        \n",
    "\n",
    "        comparison = pd.read_csv(f\"./averaged_embeddings/{company}.csv\")\n",
    "        comparison = comparison.groupby(\"tuple\", as_index = False).mean() # Account for duplicates. \n",
    "\n",
    "        value_male = float(comparison[comparison[\"tuple\"] == antonym_pair][\"average_male\"])\n",
    "\n",
    "        value_female = float(comparison[comparison[\"tuple\"] == antonym_pair][\"average_female\"])\n",
    "        difference = value_female - value_male\n",
    "\n",
    "        result[\"value_male\"].loc[result[\"companies\"] == company] = value_male\n",
    "        result[\"value_female\"].loc[result[\"companies\"] == company] = value_female\n",
    "        result[\"difference\"].loc[result[\"companies\"] == company] = difference\n",
    "\n",
    "    rand_result = pd.DataFrame()\n",
    "    rand_result[\"nouns\"] = nouns_sample\n",
    "    rand_result[\"rand_value_male\"] = 0\n",
    "    rand_result[\"rand_value_female\"] = 0\n",
    "    rand_result[\"rand_difference\"] = 0\n",
    "    \n",
    "    for noun in nouns_sample: \n",
    "        rand_comparison = pd.read_csv(f\"./averaged_embeddings/{noun}.csv\")\n",
    "        #rand_comparison[\"tuple\"] = list(zip(rand_comparison[\"0\"], rand_comparison[\"1\"]))\n",
    "        rand_comparison = rand_comparison.groupby(\"tuple\", as_index = False).mean() # Account for duplicates. \n",
    "        rand_value_male = float(rand_comparison[rand_comparison[\"tuple\"] == antonym_pair][\"Value 1\"])\n",
    "        rand_value_female = float(rand_comparison[rand_comparison[\"tuple\"] == antonym_pair][\"Value 2\"])\n",
    "        rand_difference = rand_value_female - rand_value_male\n",
    "        \n",
    "        rand_result[\"rand_value_male\"].loc[rand_result[\"nouns\"] == noun] = rand_value_male\n",
    "        rand_result[\"rand_value_female\"].loc[rand_result[\"nouns\"] == noun] = rand_value_female\n",
    "        rand_result[\"rand_difference\"].loc[rand_result[\"nouns\"] == noun] = rand_difference\n",
    "    \n",
    "    \n",
    "    fig = plt.figure(constrained_layout=True, figsize=(12, 6))\n",
    "    \n",
    "    gs = GridSpec(2, 1, figure=fig)\n",
    "    fig.suptitle(f\"Distributions for {str(antonym_pair)}\", weight=\"bold\")\n",
    "\n",
    "    # Plot male and female distribution \n",
    "    stat, p_value = ttest_ind(result[\"value_male\"], result[\"value_female\"])\n",
    "    ax1 = fig.add_subplot(gs[0, :])\n",
    "    ax1.set_title(f\"Male vs. Female Firm Distribution ({check_significance(p_value)}, p-value = {round(p_value, 5)})\", fontsize=9)\n",
    "    sns.distplot(result[\"value_male\"], ax = ax1, label = \"Male Context\", color = '#3AA8F3')\n",
    "    sns.distplot(result[\"value_female\"], ax = ax1, label = \"Female Context\", color = 'fuchsia')\n",
    "    plt.axvline(0, color = \"black\", ls = \"--\")\n",
    "    plt.axvline(result[\"value_male\"].mean(), color = \"#3AA8F3\")\n",
    "    plt.axvline(result[\"value_female\"].mean(), color = \"fuchsia\")\n",
    "    plt.legend() \n",
    "    \n",
    "    # Plot difference\n",
    "    stat, p_value = ttest_ind(result[\"difference\"], rand_result[\"rand_difference\"])\n",
    "    ax4 = fig.add_subplot(gs[1, :])\n",
    "    ax4.set_title(f\"Corporate vs. Random Difference ({check_significance(p_value)}, p-value = {round(p_value, 5)})\", fontsize=9)\n",
    "    sns.distplot(result[\"difference\"], ax = ax4, label = \"Firm difference\", color = \"cyan\")\n",
    "    sns.distplot(rand_result[\"rand_difference\"], ax = ax4, label = \"random difference\", color = \"grey\")\n",
    "    plt.axvline(0, color = \"black\", ls = \"--\")\n",
    "    plt.axvline(rand_result[\"rand_difference\"].mean(), color = \"grey\")\n",
    "    plt.axvline(result[\"difference\"].mean(), color = \"cyan\")\n",
    "    plt.legend()\n",
    "    \n",
    "    plt.savefig(f'{antonym_pair}.png', bbox_inches = \"tight\")"
   ]
  },
  {
   "cell_type": "code",
   "execution_count": null,
   "id": "d22749cc",
   "metadata": {},
   "outputs": [],
   "source": []
  },
  {
   "cell_type": "code",
   "execution_count": null,
   "id": "d505911e",
   "metadata": {},
   "outputs": [],
   "source": [
    "def get_dimension_pvalues(considered_companies, antonym_pair, nouns_sample): \n",
    "    \n",
    "    result = pd.DataFrame()\n",
    "    result[\"companies\"] = considered_companies\n",
    "    result[\"value_male\"] = 0\n",
    "    result[\"value_female\"] = 0\n",
    "    result[\"difference\"] = 0\n",
    "\n",
    "    for company in considered_companies: \n",
    "        comparison = pd.read_csv(f\"./averaged_embeddings/{company}.csv\")\n",
    "        #comparison[\"tuple\"] = list(zip(comparison[\"0\"], comparison[\"1\"]))\n",
    "        comparison = comparison.groupby(\"tuple\", as_index = False).mean() # Account for duplicates. \n",
    "        \n",
    "        value_male = float(comparison[comparison[\"tuple\"] == antonym_pair][\"average_male\"])\n",
    "        value_female = float(comparison[comparison[\"tuple\"] == antonym_pair][\"average_female\"])\n",
    "        difference = value_female - value_male\n",
    "        \n",
    "        result[\"value_male\"].loc[result[\"companies\"] == company] = value_male\n",
    "        result[\"value_female\"].loc[result[\"companies\"] == company] = value_female\n",
    "        result[\"difference\"].loc[result[\"companies\"] == company] = difference\n",
    "    \n",
    "    rand_result = pd.DataFrame()\n",
    "    rand_result[\"nouns\"] = nouns_sample\n",
    "    rand_result[\"rand_value_male\"] = 0\n",
    "    rand_result[\"rand_value_female\"] = 0\n",
    "    rand_result[\"rand_difference\"] = 0\n",
    "    \n",
    "    for noun in nouns_sample: \n",
    "        rand_comparison = pd.read_csv(f\"./averaged_embeddings/{noun}.csv\")\n",
    "        #rand_comparison[\"tuple\"] = list(zip(rand_comparison[\"0\"], rand_comparison[\"1\"]))\n",
    "        rand_comparison = rand_comparison.groupby(\"tuple\", as_index = False).mean() # Account for duplicates. \n",
    "        rand_value_male = float(rand_comparison[rand_comparison[\"tuple\"] == antonym_pair][\"Value 1\"])\n",
    "        rand_value_female = float(rand_comparison[rand_comparison[\"tuple\"] == antonym_pair][\"Value 2\"])\n",
    "        rand_difference = rand_value_female - rand_value_male\n",
    "        \n",
    "        rand_result[\"rand_value_male\"].loc[rand_result[\"nouns\"] == noun] = rand_value_male\n",
    "        rand_result[\"rand_value_female\"].loc[rand_result[\"nouns\"] == noun] = rand_value_female\n",
    "        rand_result[\"rand_difference\"].loc[rand_result[\"nouns\"] == noun] = rand_difference\n",
    "    \n",
    "    stat1, p_value1 = ttest_ind(result[\"value_male\"], result[\"value_female\"])\n",
    "    stat2, p_value2 = ttest_ind(result[\"difference\"], rand_result[\"rand_difference\"])\n",
    "    \n",
    "    res1 = round(p_value1, 5)\n",
    "    res2 = round(p_value2, 5)\n",
    "    \n",
    "    return [res1, res2]"
   ]
  },
  {
   "cell_type": "code",
   "execution_count": null,
   "id": "05ca3e37",
   "metadata": {},
   "outputs": [],
   "source": []
  },
  {
   "cell_type": "code",
   "execution_count": null,
   "id": "a25f6b75",
   "metadata": {},
   "outputs": [],
   "source": []
  },
  {
   "cell_type": "code",
   "execution_count": null,
   "id": "1b4f9bbe",
   "metadata": {},
   "outputs": [],
   "source": []
  },
  {
   "cell_type": "code",
   "execution_count": null,
   "id": "312ee8d4",
   "metadata": {},
   "outputs": [],
   "source": []
  },
  {
   "cell_type": "code",
   "execution_count": null,
   "id": "9a22d796",
   "metadata": {},
   "outputs": [],
   "source": []
  },
  {
   "cell_type": "code",
   "execution_count": 445,
   "id": "957c9384",
   "metadata": {},
   "outputs": [],
   "source": [
    "def get_dimension_distribution(considered_companies, antonym_pair, nouns_sample): \n",
    "    \n",
    "    result = read_embedding_values(considered_companies, antonym_pair)\n",
    "    rand_result = read_embedding_values(nouns_sample, antonym_pair)\n",
    "    \n",
    "\n",
    "    fig = plt.figure(constrained_layout=True, figsize=(12, 6))\n",
    "    \n",
    "    gs = GridSpec(2, 1, figure=fig)\n",
    "    fig.suptitle(f\"Distributions for {str(antonym_pair)}\", weight=\"bold\")\n",
    "\n",
    "    # Plot male and female distribution \n",
    "    stat, p_value = ttest_ind(result[\"value_male\"], result[\"value_female\"])\n",
    "    ax1 = fig.add_subplot(gs[0, :])\n",
    "    ax1.set_title(f\"Male vs. Female Firm Distribution ({check_significance(p_value)}, p-value = {round(p_value, 5)})\", fontsize=9)\n",
    "    sns.distplot(result[\"value_male\"], ax = ax1, label = \"Male Context\", color = '#3AA8F3')\n",
    "    sns.distplot(result[\"value_female\"], ax = ax1, label = \"Female Context\", color = 'fuchsia')\n",
    "    plt.axvline(0, color = \"black\", ls = \"--\")\n",
    "    plt.axvline(result[\"value_male\"].mean(), color = \"#3AA8F3\")\n",
    "    plt.axvline(result[\"value_female\"].mean(), color = \"fuchsia\")\n",
    "    plt.legend() \n",
    "    \n",
    "    # Plot difference\n",
    "    stat, p_value = ttest_ind(result[\"difference\"], rand_result[\"rand_difference\"])\n",
    "    ax4 = fig.add_subplot(gs[1, :])\n",
    "    ax4.set_title(f\"Corporate vs. Random Difference ({check_significance(p_value)}, p-value = {round(p_value, 5)})\", fontsize=9)\n",
    "    sns.distplot(result[\"difference\"], ax = ax4, label = \"Firm difference\", color = \"cyan\")\n",
    "    sns.distplot(rand_result[\"rand_difference\"], ax = ax4, label = \"random difference\", color = \"grey\")\n",
    "    plt.axvline(0, color = \"black\", ls = \"--\")\n",
    "    plt.axvline(rand_result[\"rand_difference\"].mean(), color = \"grey\")\n",
    "    plt.axvline(result[\"difference\"].mean(), color = \"cyan\")\n",
    "    plt.legend()\n",
    "    \n",
    "    plt.savefig(f'{antonym_pair}.png', bbox_inches = \"tight\")"
   ]
  },
  {
   "cell_type": "code",
   "execution_count": 444,
   "id": "83f207bc",
   "metadata": {},
   "outputs": [],
   "source": [
    "def read_embedding_values(embedding_names, antonym_pair): \n",
    "    \n",
    "    result = pd.DataFrame()\n",
    "    result[\"companies\"] = embedding_names\n",
    "    result[\"value_male\"] = 0\n",
    "    result[\"value_female\"] = 0\n",
    "    result[\"difference\"] = 0\n",
    "\n",
    "    for embedding in embedding_names: \n",
    "        comparison = pd.read_csv(f\"./averaged_embeddings/{embedding}.csv\")\n",
    "\n",
    "        comparison = comparison.groupby(\"tuple\", as_index = False).mean() # Account for duplicates.         \n",
    "        value_male = float(comparison[comparison[\"tuple\"] == antonym_pair][\"average_male\"])\n",
    "        value_female = float(comparison[comparison[\"tuple\"] == antonym_pair][\"average_female\"])\n",
    "        difference = value_female - value_male\n",
    "        result[\"value_male\"].loc[result[\"companies\"] == company] = value_male\n",
    "        result[\"value_female\"].loc[result[\"companies\"] == company] = value_female\n",
    "        result[\"difference\"].loc[result[\"companies\"] == company] = difference\n",
    "    \n",
    "    return result    "
   ]
  },
  {
   "cell_type": "code",
   "execution_count": null,
   "id": "11eeaac1",
   "metadata": {},
   "outputs": [],
   "source": []
  },
  {
   "cell_type": "code",
   "execution_count": null,
   "id": "4c27b058",
   "metadata": {},
   "outputs": [],
   "source": []
  },
  {
   "cell_type": "code",
   "execution_count": null,
   "id": "d9e78ad7",
   "metadata": {},
   "outputs": [],
   "source": []
  },
  {
   "cell_type": "code",
   "execution_count": 446,
   "id": "1b81a165",
   "metadata": {
    "scrolled": true
   },
   "outputs": [
    {
     "ename": "KeyError",
     "evalue": "'average_male'",
     "output_type": "error",
     "traceback": [
      "\u001b[0;31m---------------------------------------------------------------------------\u001b[0m",
      "\u001b[0;31mKeyError\u001b[0m                                  Traceback (most recent call last)",
      "File \u001b[0;32m/opt/anaconda3/lib/python3.8/site-packages/pandas/core/indexes/base.py:3621\u001b[0m, in \u001b[0;36mIndex.get_loc\u001b[0;34m(self, key, method, tolerance)\u001b[0m\n\u001b[1;32m   3620\u001b[0m \u001b[38;5;28;01mtry\u001b[39;00m:\n\u001b[0;32m-> 3621\u001b[0m     \u001b[38;5;28;01mreturn\u001b[39;00m \u001b[38;5;28;43mself\u001b[39;49m\u001b[38;5;241;43m.\u001b[39;49m\u001b[43m_engine\u001b[49m\u001b[38;5;241;43m.\u001b[39;49m\u001b[43mget_loc\u001b[49m\u001b[43m(\u001b[49m\u001b[43mcasted_key\u001b[49m\u001b[43m)\u001b[49m\n\u001b[1;32m   3622\u001b[0m \u001b[38;5;28;01mexcept\u001b[39;00m \u001b[38;5;167;01mKeyError\u001b[39;00m \u001b[38;5;28;01mas\u001b[39;00m err:\n",
      "File \u001b[0;32m/opt/anaconda3/lib/python3.8/site-packages/pandas/_libs/index.pyx:136\u001b[0m, in \u001b[0;36mpandas._libs.index.IndexEngine.get_loc\u001b[0;34m()\u001b[0m\n",
      "File \u001b[0;32m/opt/anaconda3/lib/python3.8/site-packages/pandas/_libs/index.pyx:163\u001b[0m, in \u001b[0;36mpandas._libs.index.IndexEngine.get_loc\u001b[0;34m()\u001b[0m\n",
      "File \u001b[0;32mpandas/_libs/hashtable_class_helper.pxi:5198\u001b[0m, in \u001b[0;36mpandas._libs.hashtable.PyObjectHashTable.get_item\u001b[0;34m()\u001b[0m\n",
      "File \u001b[0;32mpandas/_libs/hashtable_class_helper.pxi:5206\u001b[0m, in \u001b[0;36mpandas._libs.hashtable.PyObjectHashTable.get_item\u001b[0;34m()\u001b[0m\n",
      "\u001b[0;31mKeyError\u001b[0m: 'average_male'",
      "\nThe above exception was the direct cause of the following exception:\n",
      "\u001b[0;31mKeyError\u001b[0m                                  Traceback (most recent call last)",
      "Input \u001b[0;32mIn [446]\u001b[0m, in \u001b[0;36m<cell line: 3>\u001b[0;34m()\u001b[0m\n\u001b[1;32m      1\u001b[0m \u001b[38;5;66;03m# Create plots for all 8 dimensions. \u001b[39;00m\n\u001b[1;32m      3\u001b[0m \u001b[38;5;28;01mfor\u001b[39;00m dimension \u001b[38;5;129;01min\u001b[39;00m all_dimensions: \n\u001b[0;32m----> 4\u001b[0m     \u001b[43mget_dimension_distribution\u001b[49m\u001b[43m(\u001b[49m\u001b[43mcompany_names\u001b[49m\u001b[43m[\u001b[49m\u001b[38;5;124;43m\"\u001b[39;49m\u001b[38;5;124;43mName\u001b[39;49m\u001b[38;5;124;43m\"\u001b[39;49m\u001b[43m]\u001b[49m\u001b[43m,\u001b[49m\u001b[43m \u001b[49m\u001b[38;5;28;43mstr\u001b[39;49m\u001b[43m(\u001b[49m\u001b[43mdimension\u001b[49m\u001b[43m)\u001b[49m\u001b[43m,\u001b[49m\u001b[43m \u001b[49m\u001b[43mnouns_sample\u001b[49m\u001b[43m)\u001b[49m\n",
      "Input \u001b[0;32mIn [445]\u001b[0m, in \u001b[0;36mget_dimension_distribution\u001b[0;34m(considered_companies, antonym_pair, nouns_sample)\u001b[0m\n\u001b[1;32m      1\u001b[0m \u001b[38;5;28;01mdef\u001b[39;00m \u001b[38;5;21mget_dimension_distribution\u001b[39m(considered_companies, antonym_pair, nouns_sample): \n\u001b[1;32m      3\u001b[0m     result \u001b[38;5;241m=\u001b[39m read_embedding_values(considered_companies, antonym_pair)\n\u001b[0;32m----> 4\u001b[0m     rand_result \u001b[38;5;241m=\u001b[39m \u001b[43mread_embedding_values\u001b[49m\u001b[43m(\u001b[49m\u001b[43mnouns_sample\u001b[49m\u001b[43m,\u001b[49m\u001b[43m \u001b[49m\u001b[43mantonym_pair\u001b[49m\u001b[43m)\u001b[49m\n\u001b[1;32m      7\u001b[0m     fig \u001b[38;5;241m=\u001b[39m plt\u001b[38;5;241m.\u001b[39mfigure(constrained_layout\u001b[38;5;241m=\u001b[39m\u001b[38;5;28;01mTrue\u001b[39;00m, figsize\u001b[38;5;241m=\u001b[39m(\u001b[38;5;241m12\u001b[39m, \u001b[38;5;241m6\u001b[39m))\n\u001b[1;32m      9\u001b[0m     gs \u001b[38;5;241m=\u001b[39m GridSpec(\u001b[38;5;241m2\u001b[39m, \u001b[38;5;241m1\u001b[39m, figure\u001b[38;5;241m=\u001b[39mfig)\n",
      "Input \u001b[0;32mIn [444]\u001b[0m, in \u001b[0;36mread_embedding_values\u001b[0;34m(embedding_names, antonym_pair)\u001b[0m\n\u001b[1;32m     10\u001b[0m comparison \u001b[38;5;241m=\u001b[39m pd\u001b[38;5;241m.\u001b[39mread_csv(\u001b[38;5;124mf\u001b[39m\u001b[38;5;124m\"\u001b[39m\u001b[38;5;124m./averaged_embeddings/\u001b[39m\u001b[38;5;132;01m{\u001b[39;00membedding\u001b[38;5;132;01m}\u001b[39;00m\u001b[38;5;124m.csv\u001b[39m\u001b[38;5;124m\"\u001b[39m)\n\u001b[1;32m     12\u001b[0m comparison \u001b[38;5;241m=\u001b[39m comparison\u001b[38;5;241m.\u001b[39mgroupby(\u001b[38;5;124m\"\u001b[39m\u001b[38;5;124mtuple\u001b[39m\u001b[38;5;124m\"\u001b[39m, as_index \u001b[38;5;241m=\u001b[39m \u001b[38;5;28;01mFalse\u001b[39;00m)\u001b[38;5;241m.\u001b[39mmean() \u001b[38;5;66;03m# Account for duplicates.         \u001b[39;00m\n\u001b[0;32m---> 13\u001b[0m value_male \u001b[38;5;241m=\u001b[39m \u001b[38;5;28mfloat\u001b[39m(\u001b[43mcomparison\u001b[49m\u001b[43m[\u001b[49m\u001b[43mcomparison\u001b[49m\u001b[43m[\u001b[49m\u001b[38;5;124;43m\"\u001b[39;49m\u001b[38;5;124;43mtuple\u001b[39;49m\u001b[38;5;124;43m\"\u001b[39;49m\u001b[43m]\u001b[49m\u001b[43m \u001b[49m\u001b[38;5;241;43m==\u001b[39;49m\u001b[43m \u001b[49m\u001b[43mantonym_pair\u001b[49m\u001b[43m]\u001b[49m\u001b[43m[\u001b[49m\u001b[38;5;124;43m\"\u001b[39;49m\u001b[38;5;124;43maverage_male\u001b[39;49m\u001b[38;5;124;43m\"\u001b[39;49m\u001b[43m]\u001b[49m)\n\u001b[1;32m     14\u001b[0m value_female \u001b[38;5;241m=\u001b[39m \u001b[38;5;28mfloat\u001b[39m(comparison[comparison[\u001b[38;5;124m\"\u001b[39m\u001b[38;5;124mtuple\u001b[39m\u001b[38;5;124m\"\u001b[39m] \u001b[38;5;241m==\u001b[39m antonym_pair][\u001b[38;5;124m\"\u001b[39m\u001b[38;5;124maverage_female\u001b[39m\u001b[38;5;124m\"\u001b[39m])\n\u001b[1;32m     15\u001b[0m difference \u001b[38;5;241m=\u001b[39m value_female \u001b[38;5;241m-\u001b[39m value_male\n",
      "File \u001b[0;32m/opt/anaconda3/lib/python3.8/site-packages/pandas/core/frame.py:3505\u001b[0m, in \u001b[0;36mDataFrame.__getitem__\u001b[0;34m(self, key)\u001b[0m\n\u001b[1;32m   3503\u001b[0m \u001b[38;5;28;01mif\u001b[39;00m \u001b[38;5;28mself\u001b[39m\u001b[38;5;241m.\u001b[39mcolumns\u001b[38;5;241m.\u001b[39mnlevels \u001b[38;5;241m>\u001b[39m \u001b[38;5;241m1\u001b[39m:\n\u001b[1;32m   3504\u001b[0m     \u001b[38;5;28;01mreturn\u001b[39;00m \u001b[38;5;28mself\u001b[39m\u001b[38;5;241m.\u001b[39m_getitem_multilevel(key)\n\u001b[0;32m-> 3505\u001b[0m indexer \u001b[38;5;241m=\u001b[39m \u001b[38;5;28;43mself\u001b[39;49m\u001b[38;5;241;43m.\u001b[39;49m\u001b[43mcolumns\u001b[49m\u001b[38;5;241;43m.\u001b[39;49m\u001b[43mget_loc\u001b[49m\u001b[43m(\u001b[49m\u001b[43mkey\u001b[49m\u001b[43m)\u001b[49m\n\u001b[1;32m   3506\u001b[0m \u001b[38;5;28;01mif\u001b[39;00m is_integer(indexer):\n\u001b[1;32m   3507\u001b[0m     indexer \u001b[38;5;241m=\u001b[39m [indexer]\n",
      "File \u001b[0;32m/opt/anaconda3/lib/python3.8/site-packages/pandas/core/indexes/base.py:3623\u001b[0m, in \u001b[0;36mIndex.get_loc\u001b[0;34m(self, key, method, tolerance)\u001b[0m\n\u001b[1;32m   3621\u001b[0m     \u001b[38;5;28;01mreturn\u001b[39;00m \u001b[38;5;28mself\u001b[39m\u001b[38;5;241m.\u001b[39m_engine\u001b[38;5;241m.\u001b[39mget_loc(casted_key)\n\u001b[1;32m   3622\u001b[0m \u001b[38;5;28;01mexcept\u001b[39;00m \u001b[38;5;167;01mKeyError\u001b[39;00m \u001b[38;5;28;01mas\u001b[39;00m err:\n\u001b[0;32m-> 3623\u001b[0m     \u001b[38;5;28;01mraise\u001b[39;00m \u001b[38;5;167;01mKeyError\u001b[39;00m(key) \u001b[38;5;28;01mfrom\u001b[39;00m \u001b[38;5;21;01merr\u001b[39;00m\n\u001b[1;32m   3624\u001b[0m \u001b[38;5;28;01mexcept\u001b[39;00m \u001b[38;5;167;01mTypeError\u001b[39;00m:\n\u001b[1;32m   3625\u001b[0m     \u001b[38;5;66;03m# If we have a listlike key, _check_indexing_error will raise\u001b[39;00m\n\u001b[1;32m   3626\u001b[0m     \u001b[38;5;66;03m#  InvalidIndexError. Otherwise we fall through and re-raise\u001b[39;00m\n\u001b[1;32m   3627\u001b[0m     \u001b[38;5;66;03m#  the TypeError.\u001b[39;00m\n\u001b[1;32m   3628\u001b[0m     \u001b[38;5;28mself\u001b[39m\u001b[38;5;241m.\u001b[39m_check_indexing_error(key)\n",
      "\u001b[0;31mKeyError\u001b[0m: 'average_male'"
     ]
    }
   ],
   "source": [
    "# Create plots for all 8 dimensions. \n",
    "\n",
    "for dimension in all_dimensions: \n",
    "    get_dimension_distribution(company_names[\"Name\"], str(dimension), nouns_sample)"
   ]
  },
  {
   "cell_type": "code",
   "execution_count": null,
   "id": "b994f4f7",
   "metadata": {},
   "outputs": [],
   "source": []
  },
  {
   "cell_type": "code",
   "execution_count": null,
   "id": "174bb226",
   "metadata": {},
   "outputs": [],
   "source": []
  },
  {
   "cell_type": "markdown",
   "id": "e305ebaa",
   "metadata": {},
   "source": [
    "### 2.2 P-Values"
   ]
  },
  {
   "cell_type": "code",
   "execution_count": 392,
   "id": "faee8622",
   "metadata": {},
   "outputs": [],
   "source": [
    "considered_companies = company_names[\"Name\"].unique()"
   ]
  },
  {
   "cell_type": "code",
   "execution_count": 374,
   "id": "fff2e254",
   "metadata": {
    "scrolled": true
   },
   "outputs": [
    {
     "data": {
      "application/vnd.jupyter.widget-view+json": {
       "model_id": "c8e5ea7dd4bc4adfad1d385331bacbca",
       "version_major": 2,
       "version_minor": 0
      },
      "text/plain": [
       "  0%|          | 0/111 [00:00<?, ?it/s]"
      ]
     },
     "metadata": {},
     "output_type": "display_data"
    }
   ],
   "source": [
    "# also tested for single-word company names \n",
    "#considered_companies = company_names[company_names[\"Count\"] == 1][\"Name\"]\n",
    "\n",
    "res_all = defaultdict()\n",
    "\n",
    "for dimension in tqdm(all_dimensions): \n",
    "    res = get_dimension_pvalues(considered_companies, str(dimension), nouns_sample)\n",
    "    res_all[dimension] = res\n",
    "    \n",
    "res_all_df = pd.DataFrame(res_all).transpose()\n",
    "res_all_df.rename(columns = {0:\"Male vs. Female Corporate Embedding\", 1:\"Male Firm vs. Male Random\", \n",
    "                         2:\"Female Firm vs. Female Random\", 3:\"Difference Firm vs. Difference Random\",\n",
    "                        4:\"Male vs. Female Random Embedding\"}, \n",
    "              inplace = True)"
   ]
  },
  {
   "cell_type": "code",
   "execution_count": 375,
   "id": "80c9a936",
   "metadata": {
    "scrolled": false
   },
   "outputs": [
    {
     "data": {
      "text/html": [
       "<div>\n",
       "<style scoped>\n",
       "    .dataframe tbody tr th:only-of-type {\n",
       "        vertical-align: middle;\n",
       "    }\n",
       "\n",
       "    .dataframe tbody tr th {\n",
       "        vertical-align: top;\n",
       "    }\n",
       "\n",
       "    .dataframe thead th {\n",
       "        text-align: right;\n",
       "    }\n",
       "</style>\n",
       "<table border=\"1\" class=\"dataframe\">\n",
       "  <thead>\n",
       "    <tr style=\"text-align: right;\">\n",
       "      <th></th>\n",
       "      <th></th>\n",
       "      <th>Male vs. Female Corporate Embedding</th>\n",
       "      <th>Male Firm vs. Male Random</th>\n",
       "      <th>Female Firm vs. Female Random</th>\n",
       "      <th>Difference Firm vs. Difference Random</th>\n",
       "      <th>Male vs. Female Random Embedding</th>\n",
       "    </tr>\n",
       "  </thead>\n",
       "  <tbody>\n",
       "    <tr>\n",
       "      <th>confident</th>\n",
       "      <th>shy</th>\n",
       "      <td>0.46729</td>\n",
       "      <td>0.00000</td>\n",
       "      <td>0.00000</td>\n",
       "      <td>0.02167</td>\n",
       "      <td>0.70568</td>\n",
       "    </tr>\n",
       "    <tr>\n",
       "      <th>open</th>\n",
       "      <th>distant</th>\n",
       "      <td>0.17615</td>\n",
       "      <td>0.00000</td>\n",
       "      <td>0.00000</td>\n",
       "      <td>0.00175</td>\n",
       "      <td>0.00027</td>\n",
       "    </tr>\n",
       "    <tr>\n",
       "      <th>creative</th>\n",
       "      <th>uncreative</th>\n",
       "      <td>0.34979</td>\n",
       "      <td>0.71484</td>\n",
       "      <td>0.51188</td>\n",
       "      <td>0.00008</td>\n",
       "      <td>0.70763</td>\n",
       "    </tr>\n",
       "    <tr>\n",
       "      <th>aggressive</th>\n",
       "      <th>submissive</th>\n",
       "      <td>0.63803</td>\n",
       "      <td>0.00000</td>\n",
       "      <td>0.00000</td>\n",
       "      <td>0.10382</td>\n",
       "      <td>0.92587</td>\n",
       "    </tr>\n",
       "    <tr>\n",
       "      <th>sincere</th>\n",
       "      <th>insincere</th>\n",
       "      <td>0.51510</td>\n",
       "      <td>0.00000</td>\n",
       "      <td>0.00000</td>\n",
       "      <td>0.00000</td>\n",
       "      <td>0.82049</td>\n",
       "    </tr>\n",
       "    <tr>\n",
       "      <th>...</th>\n",
       "      <th>...</th>\n",
       "      <td>...</td>\n",
       "      <td>...</td>\n",
       "      <td>...</td>\n",
       "      <td>...</td>\n",
       "      <td>...</td>\n",
       "    </tr>\n",
       "    <tr>\n",
       "      <th>tolerant</th>\n",
       "      <th>intolerant</th>\n",
       "      <td>0.76308</td>\n",
       "      <td>0.00000</td>\n",
       "      <td>0.00000</td>\n",
       "      <td>0.00007</td>\n",
       "      <td>0.20267</td>\n",
       "    </tr>\n",
       "    <tr>\n",
       "      <th>resilient</th>\n",
       "      <th>nonresilient</th>\n",
       "      <td>0.51331</td>\n",
       "      <td>0.00004</td>\n",
       "      <td>0.00000</td>\n",
       "      <td>0.04054</td>\n",
       "      <td>0.02387</td>\n",
       "    </tr>\n",
       "    <tr>\n",
       "      <th>funny</th>\n",
       "      <th>boring</th>\n",
       "      <td>0.00816</td>\n",
       "      <td>0.00032</td>\n",
       "      <td>0.00052</td>\n",
       "      <td>0.78369</td>\n",
       "      <td>0.00034</td>\n",
       "    </tr>\n",
       "    <tr>\n",
       "      <th>able</th>\n",
       "      <th>clumsy</th>\n",
       "      <td>0.09915</td>\n",
       "      <td>0.00000</td>\n",
       "      <td>0.00000</td>\n",
       "      <td>0.72608</td>\n",
       "      <td>0.02124</td>\n",
       "    </tr>\n",
       "    <tr>\n",
       "      <th>sensitive</th>\n",
       "      <th>insensitive</th>\n",
       "      <td>0.72180</td>\n",
       "      <td>0.00000</td>\n",
       "      <td>0.00000</td>\n",
       "      <td>0.00000</td>\n",
       "      <td>0.01485</td>\n",
       "    </tr>\n",
       "  </tbody>\n",
       "</table>\n",
       "<p>101 rows × 5 columns</p>\n",
       "</div>"
      ],
      "text/plain": [
       "                         Male vs. Female Corporate Embedding  \\\n",
       "confident  shy                                       0.46729   \n",
       "open       distant                                   0.17615   \n",
       "creative   uncreative                                0.34979   \n",
       "aggressive submissive                                0.63803   \n",
       "sincere    insincere                                 0.51510   \n",
       "...                                                      ...   \n",
       "tolerant   intolerant                                0.76308   \n",
       "resilient  nonresilient                              0.51331   \n",
       "funny      boring                                    0.00816   \n",
       "able       clumsy                                    0.09915   \n",
       "sensitive  insensitive                               0.72180   \n",
       "\n",
       "                         Male Firm vs. Male Random  \\\n",
       "confident  shy                             0.00000   \n",
       "open       distant                         0.00000   \n",
       "creative   uncreative                      0.71484   \n",
       "aggressive submissive                      0.00000   \n",
       "sincere    insincere                       0.00000   \n",
       "...                                            ...   \n",
       "tolerant   intolerant                      0.00000   \n",
       "resilient  nonresilient                    0.00004   \n",
       "funny      boring                          0.00032   \n",
       "able       clumsy                          0.00000   \n",
       "sensitive  insensitive                     0.00000   \n",
       "\n",
       "                         Female Firm vs. Female Random  \\\n",
       "confident  shy                                 0.00000   \n",
       "open       distant                             0.00000   \n",
       "creative   uncreative                          0.51188   \n",
       "aggressive submissive                          0.00000   \n",
       "sincere    insincere                           0.00000   \n",
       "...                                                ...   \n",
       "tolerant   intolerant                          0.00000   \n",
       "resilient  nonresilient                        0.00000   \n",
       "funny      boring                              0.00052   \n",
       "able       clumsy                              0.00000   \n",
       "sensitive  insensitive                         0.00000   \n",
       "\n",
       "                         Difference Firm vs. Difference Random  \\\n",
       "confident  shy                                         0.02167   \n",
       "open       distant                                     0.00175   \n",
       "creative   uncreative                                  0.00008   \n",
       "aggressive submissive                                  0.10382   \n",
       "sincere    insincere                                   0.00000   \n",
       "...                                                        ...   \n",
       "tolerant   intolerant                                  0.00007   \n",
       "resilient  nonresilient                                0.04054   \n",
       "funny      boring                                      0.78369   \n",
       "able       clumsy                                      0.72608   \n",
       "sensitive  insensitive                                 0.00000   \n",
       "\n",
       "                         Male vs. Female Random Embedding  \n",
       "confident  shy                                    0.70568  \n",
       "open       distant                                0.00027  \n",
       "creative   uncreative                             0.70763  \n",
       "aggressive submissive                             0.92587  \n",
       "sincere    insincere                              0.82049  \n",
       "...                                                   ...  \n",
       "tolerant   intolerant                             0.20267  \n",
       "resilient  nonresilient                           0.02387  \n",
       "funny      boring                                 0.00034  \n",
       "able       clumsy                                 0.02124  \n",
       "sensitive  insensitive                            0.01485  \n",
       "\n",
       "[101 rows x 5 columns]"
      ]
     },
     "execution_count": 375,
     "metadata": {},
     "output_type": "execute_result"
    }
   ],
   "source": [
    "# Show all p-values. \n",
    "\n",
    "res_all_df"
   ]
  },
  {
   "cell_type": "code",
   "execution_count": 388,
   "id": "77e69ac9",
   "metadata": {},
   "outputs": [],
   "source": [
    "# Filter p-values. \n",
    "\n",
    "sign_level = 0.05\n",
    "\n",
    "res_all_df_filtered = res_all_df.loc[\n",
    "                    (res_all_df[\"Male vs. Female Corporate Embedding\"] < sign_level) \n",
    "                    #& (res_all_df[\"Male Firm vs. Male Random\"] < sign_level) \n",
    "                    #& (res_all_df[\"Female Firm vs. Female Random\"] < sign_level) \n",
    "                     #(res_all_df[\"Difference Firm vs. Difference Random\"] < sign_level) \n",
    "                    #& (res_all_df[\"Male vs. Female Random Embedding\"] < sign_level) \n",
    "                    ]"
   ]
  },
  {
   "cell_type": "code",
   "execution_count": 389,
   "id": "c0c3a1e4",
   "metadata": {},
   "outputs": [
    {
     "data": {
      "text/plain": [
       "18"
      ]
     },
     "execution_count": 389,
     "metadata": {},
     "output_type": "execute_result"
    }
   ],
   "source": [
    "len(res_all_df_filtered)"
   ]
  },
  {
   "cell_type": "code",
   "execution_count": null,
   "id": "4854a71a",
   "metadata": {},
   "outputs": [],
   "source": []
  },
  {
   "cell_type": "code",
   "execution_count": 338,
   "id": "2b32403b",
   "metadata": {},
   "outputs": [
    {
     "data": {
      "text/html": [
       "<div>\n",
       "<style scoped>\n",
       "    .dataframe tbody tr th:only-of-type {\n",
       "        vertical-align: middle;\n",
       "    }\n",
       "\n",
       "    .dataframe tbody tr th {\n",
       "        vertical-align: top;\n",
       "    }\n",
       "\n",
       "    .dataframe thead th {\n",
       "        text-align: right;\n",
       "    }\n",
       "</style>\n",
       "<table border=\"1\" class=\"dataframe\">\n",
       "  <thead>\n",
       "    <tr style=\"text-align: right;\">\n",
       "      <th></th>\n",
       "      <th>tuple</th>\n",
       "      <th>average</th>\n",
       "    </tr>\n",
       "  </thead>\n",
       "  <tbody>\n",
       "    <tr>\n",
       "      <th>75</th>\n",
       "      <td>(confident, shy)</td>\n",
       "      <td>0</td>\n",
       "    </tr>\n",
       "    <tr>\n",
       "      <th>8</th>\n",
       "      <td>(open, distant)</td>\n",
       "      <td>0</td>\n",
       "    </tr>\n",
       "    <tr>\n",
       "      <th>62</th>\n",
       "      <td>(creative, uncreative)</td>\n",
       "      <td>0</td>\n",
       "    </tr>\n",
       "    <tr>\n",
       "      <th>94</th>\n",
       "      <td>(aggressive, submissive)</td>\n",
       "      <td>0</td>\n",
       "    </tr>\n",
       "    <tr>\n",
       "      <th>27</th>\n",
       "      <td>(sincere, insincere)</td>\n",
       "      <td>0</td>\n",
       "    </tr>\n",
       "    <tr>\n",
       "      <th>...</th>\n",
       "      <td>...</td>\n",
       "      <td>...</td>\n",
       "    </tr>\n",
       "    <tr>\n",
       "      <th>30</th>\n",
       "      <td>(honest, dishonest)</td>\n",
       "      <td>0</td>\n",
       "    </tr>\n",
       "    <tr>\n",
       "      <th>19</th>\n",
       "      <td>(funny, boring)</td>\n",
       "      <td>0</td>\n",
       "    </tr>\n",
       "    <tr>\n",
       "      <th>58</th>\n",
       "      <td>(able, clumsy)</td>\n",
       "      <td>0</td>\n",
       "    </tr>\n",
       "    <tr>\n",
       "      <th>54</th>\n",
       "      <td>(smart, stupid)</td>\n",
       "      <td>0</td>\n",
       "    </tr>\n",
       "    <tr>\n",
       "      <th>9</th>\n",
       "      <td>(sensitive, insensitive)</td>\n",
       "      <td>0</td>\n",
       "    </tr>\n",
       "  </tbody>\n",
       "</table>\n",
       "<p>111 rows × 2 columns</p>\n",
       "</div>"
      ],
      "text/plain": [
       "                       tuple  average\n",
       "75          (confident, shy)        0\n",
       "8            (open, distant)        0\n",
       "62    (creative, uncreative)        0\n",
       "94  (aggressive, submissive)        0\n",
       "27      (sincere, insincere)        0\n",
       "..                       ...      ...\n",
       "30       (honest, dishonest)        0\n",
       "19           (funny, boring)        0\n",
       "58            (able, clumsy)        0\n",
       "54           (smart, stupid)        0\n",
       "9   (sensitive, insensitive)        0\n",
       "\n",
       "[111 rows x 2 columns]"
      ]
     },
     "execution_count": 338,
     "metadata": {},
     "output_type": "execute_result"
    }
   ],
   "source": [
    "dimensions_df"
   ]
  },
  {
   "cell_type": "code",
   "execution_count": 390,
   "id": "9668e9c9",
   "metadata": {},
   "outputs": [
    {
     "data": {
      "application/vnd.jupyter.widget-view+json": {
       "model_id": "e801f8a1d0fb4c619ac007e5ba8b92c2",
       "version_major": 2,
       "version_minor": 0
      },
      "text/plain": [
       "  0%|          | 0/111 [00:00<?, ?it/s]"
      ]
     },
     "metadata": {},
     "output_type": "display_data"
    }
   ],
   "source": [
    "# Get dimension average to see if it favours male or female\n",
    "\n",
    "dimensions_df = pd.DataFrame(all_dimensions)\n",
    "dimensions_df[\"average\"] = 0\n",
    "\n",
    "for dimension in tqdm(all_dimensions): \n",
    "    \n",
    "    company_res = []\n",
    "    \n",
    "    for company in considered_companies: \n",
    "        comparison = pd.read_csv(f\"./averaged_embeddings/{company}.csv\")\n",
    "        comparison = comparison.groupby(\"tuple\", as_index = False).mean()\n",
    "        company_res.append(float(comparison[comparison[\"tuple\"] == str(dimension)][\"female-male\"]))\n",
    "        \n",
    "    dimensions_df[\"average\"].loc[dimensions_df[\"tuple\"] == dimension] = (sum(company_res) / len(company_res))*100"
   ]
  },
  {
   "cell_type": "code",
   "execution_count": 391,
   "id": "61b54deb",
   "metadata": {},
   "outputs": [
    {
     "data": {
      "text/plain": [
       "0.6486486486486487"
      ]
     },
     "execution_count": 391,
     "metadata": {},
     "output_type": "execute_result"
    }
   ],
   "source": [
    "len(dimensions_df[dimensions_df[\"average\"] >0]) / len(dimensions_df)"
   ]
  },
  {
   "cell_type": "code",
   "execution_count": null,
   "id": "8ad9a6da",
   "metadata": {},
   "outputs": [],
   "source": []
  },
  {
   "cell_type": "code",
   "execution_count": null,
   "id": "db48df84",
   "metadata": {},
   "outputs": [],
   "source": []
  },
  {
   "cell_type": "code",
   "execution_count": null,
   "id": "549bb343",
   "metadata": {},
   "outputs": [],
   "source": []
  },
  {
   "cell_type": "markdown",
   "id": "3dded6dc",
   "metadata": {},
   "source": [
    "### Get Values for Company"
   ]
  },
  {
   "cell_type": "code",
   "execution_count": 393,
   "id": "6a47fa27",
   "metadata": {},
   "outputs": [],
   "source": [
    "# Read and prepare dictionaries. \n",
    "\n",
    "dictionaries = pd.read_csv(\"dimensions_matched_manual.csv\", sep = \";\", index_col = 0)\n",
    "dictionaries[\"tuple\"] = list(zip(dictionaries[\"Term1\"].astype(str), dictionaries[\"Term2\"].astype(str)))\n",
    "dictionaries = dictionaries[[\"Dictionary\", \"tuple\"]]\n",
    "dictionaries[\"tuple\"] = dictionaries[\"tuple\"].astype(str)"
   ]
  },
  {
   "cell_type": "code",
   "execution_count": 412,
   "id": "adf2e749",
   "metadata": {
    "scrolled": true
   },
   "outputs": [
    {
     "data": {
      "application/vnd.jupyter.widget-view+json": {
       "model_id": "64196383255b49bab2d0d5276f30de5c",
       "version_major": 2,
       "version_minor": 0
      },
      "text/plain": [
       "  0%|          | 0/505 [00:00<?, ?it/s]"
      ]
     },
     "metadata": {},
     "output_type": "display_data"
    }
   ],
   "source": [
    "company_names[\"Ability\"] = 0\n",
    "company_names[\"Agency\"] = 0\n",
    "company_names[\"Morality\"] = 0\n",
    "company_names[\"Politics\"] = 0\n",
    "company_names[\"Sociability\"] = 0\n",
    "company_names[\"Status\"] = 0\n",
    "\n",
    "for name in tqdm(company_names[\"Name\"]):\n",
    "    comparison = pd.read_csv(f\"./averaged_embeddings/{name}.csv\", index_col = 0)\n",
    "    comparison = comparison.sort_index()\n",
    "    comparison = pd.concat([comparison, dictionaries], axis=1) \n",
    "    \n",
    "    comparison = comparison.groupby(\"Dictionary\", as_index = True).mean()\n",
    "    comparison = comparison.transpose()\n",
    "    comparison = comparison.iloc[-1:]\n",
    "    \n",
    "    company_names[\"Ability\"].loc[company_names[\"Name\"] == name] = float(comparison[\"Ability\"])\n",
    "    company_names[\"Agency\"].loc[company_names[\"Name\"] == name] = float(comparison[\"Agency\"])\n",
    "    company_names[\"Morality\"].loc[company_names[\"Name\"] == name] = float(comparison[\"Morality\"])\n",
    "    company_names[\"Politics\"].loc[company_names[\"Name\"] == name] = float(comparison[\"Politics\"])\n",
    "    company_names[\"Sociability\"].loc[company_names[\"Name\"] == name] = float(comparison[\"Sociability\"])\n",
    "    company_names[\"Status\"].loc[company_names[\"Name\"] == name] = float(comparison[\"Status\"])\n",
    "    \n",
    "\n",
    "company_names.to_csv(\"041122_gender_biases_results_v1.csv\")"
   ]
  },
  {
   "cell_type": "code",
   "execution_count": 405,
   "id": "5296cca6",
   "metadata": {},
   "outputs": [],
   "source": [
    "nouns = pd.DataFrame(nouns_sample).rename(columns = {0:\"Name\"})"
   ]
  },
  {
   "cell_type": "code",
   "execution_count": null,
   "id": "29029420",
   "metadata": {},
   "outputs": [],
   "source": []
  },
  {
   "cell_type": "code",
   "execution_count": null,
   "id": "f3ee7a9a",
   "metadata": {},
   "outputs": [],
   "source": []
  },
  {
   "cell_type": "code",
   "execution_count": 408,
   "id": "a0b37a85",
   "metadata": {},
   "outputs": [
    {
     "data": {
      "application/vnd.jupyter.widget-view+json": {
       "model_id": "7633aff7bdd84beb8f00703547034674",
       "version_major": 2,
       "version_minor": 0
      },
      "text/plain": [
       "  0%|          | 0/499 [00:00<?, ?it/s]"
      ]
     },
     "metadata": {},
     "output_type": "display_data"
    }
   ],
   "source": [
    "nouns = pd.DataFrame(nouns_sample).rename(columns = {0:\"Name\"})\n",
    "\n",
    "nouns[\"Ability\"] = 0\n",
    "nouns[\"Agency\"] = 0\n",
    "nouns[\"Morality\"] = 0\n",
    "nouns[\"Politics\"] = 0\n",
    "nouns[\"Sociability\"] = 0\n",
    "nouns[\"Status\"] = 0\n",
    "\n",
    "for name in tqdm(nouns_sample):\n",
    "    comparison = pd.read_csv(f\"./averaged_embeddings/{name}.csv\", index_col = 0)\n",
    "    comparison = comparison.sort_index()\n",
    "    comparison = pd.concat([comparison, dictionaries], axis=1) \n",
    "    \n",
    "    comparison = comparison.groupby(\"Dictionary\", as_index = True).mean()\n",
    "    comparison = comparison.transpose()\n",
    "    comparison = comparison.iloc[-1:]\n",
    "    \n",
    "    nouns[\"Ability\"].loc[nouns[\"Name\"] == name] = float(comparison[\"Ability\"])\n",
    "    nouns[\"Agency\"].loc[nouns[\"Name\"] == name] = float(comparison[\"Agency\"])\n",
    "    nouns[\"Morality\"].loc[nouns[\"Name\"] == name] = float(comparison[\"Morality\"])\n",
    "    nouns[\"Politics\"].loc[nouns[\"Name\"] == name] = float(comparison[\"Politics\"])\n",
    "    nouns[\"Sociability\"].loc[nouns[\"Name\"] == name] = float(comparison[\"Sociability\"])\n",
    "    nouns[\"Status\"].loc[nouns[\"Name\"] == name] = float(comparison[\"Status\"])\n",
    "    \n"
   ]
  },
  {
   "cell_type": "code",
   "execution_count": 409,
   "id": "4922cbcb",
   "metadata": {},
   "outputs": [
    {
     "data": {
      "text/html": [
       "<div>\n",
       "<style scoped>\n",
       "    .dataframe tbody tr th:only-of-type {\n",
       "        vertical-align: middle;\n",
       "    }\n",
       "\n",
       "    .dataframe tbody tr th {\n",
       "        vertical-align: top;\n",
       "    }\n",
       "\n",
       "    .dataframe thead th {\n",
       "        text-align: right;\n",
       "    }\n",
       "</style>\n",
       "<table border=\"1\" class=\"dataframe\">\n",
       "  <thead>\n",
       "    <tr style=\"text-align: right;\">\n",
       "      <th></th>\n",
       "      <th>Name</th>\n",
       "      <th>Ability</th>\n",
       "      <th>Agency</th>\n",
       "      <th>Morality</th>\n",
       "      <th>Politics</th>\n",
       "      <th>Sociability</th>\n",
       "      <th>Status</th>\n",
       "    </tr>\n",
       "  </thead>\n",
       "  <tbody>\n",
       "    <tr>\n",
       "      <th>0</th>\n",
       "      <td>solution</td>\n",
       "      <td>-0.090357</td>\n",
       "      <td>-0.029000</td>\n",
       "      <td>-0.042225</td>\n",
       "      <td>0.129782</td>\n",
       "      <td>-0.033643</td>\n",
       "      <td>-0.030341</td>\n",
       "    </tr>\n",
       "    <tr>\n",
       "      <th>1</th>\n",
       "      <td>cancer</td>\n",
       "      <td>0.010701</td>\n",
       "      <td>-0.016409</td>\n",
       "      <td>0.022930</td>\n",
       "      <td>0.056731</td>\n",
       "      <td>0.008393</td>\n",
       "      <td>0.019863</td>\n",
       "    </tr>\n",
       "    <tr>\n",
       "      <th>2</th>\n",
       "      <td>example</td>\n",
       "      <td>-0.246358</td>\n",
       "      <td>-0.044295</td>\n",
       "      <td>-0.105618</td>\n",
       "      <td>0.168893</td>\n",
       "      <td>-0.152824</td>\n",
       "      <td>-0.070918</td>\n",
       "    </tr>\n",
       "    <tr>\n",
       "      <th>3</th>\n",
       "      <td>stopwatch</td>\n",
       "      <td>-0.094973</td>\n",
       "      <td>-0.080667</td>\n",
       "      <td>-0.080657</td>\n",
       "      <td>0.012849</td>\n",
       "      <td>-0.097793</td>\n",
       "      <td>0.042927</td>\n",
       "    </tr>\n",
       "    <tr>\n",
       "      <th>4</th>\n",
       "      <td>sparerib</td>\n",
       "      <td>-0.056609</td>\n",
       "      <td>-0.023163</td>\n",
       "      <td>-0.022589</td>\n",
       "      <td>0.131126</td>\n",
       "      <td>-0.040100</td>\n",
       "      <td>-0.063857</td>\n",
       "    </tr>\n",
       "    <tr>\n",
       "      <th>...</th>\n",
       "      <td>...</td>\n",
       "      <td>...</td>\n",
       "      <td>...</td>\n",
       "      <td>...</td>\n",
       "      <td>...</td>\n",
       "      <td>...</td>\n",
       "      <td>...</td>\n",
       "    </tr>\n",
       "    <tr>\n",
       "      <th>494</th>\n",
       "      <td>lion</td>\n",
       "      <td>-0.067541</td>\n",
       "      <td>-0.061056</td>\n",
       "      <td>0.005211</td>\n",
       "      <td>0.028581</td>\n",
       "      <td>-0.031119</td>\n",
       "      <td>0.010869</td>\n",
       "    </tr>\n",
       "    <tr>\n",
       "      <th>495</th>\n",
       "      <td>quantity</td>\n",
       "      <td>-0.115656</td>\n",
       "      <td>-0.136533</td>\n",
       "      <td>-0.003656</td>\n",
       "      <td>0.012055</td>\n",
       "      <td>-0.103291</td>\n",
       "      <td>-0.051888</td>\n",
       "    </tr>\n",
       "    <tr>\n",
       "      <th>496</th>\n",
       "      <td>saxophone</td>\n",
       "      <td>-0.057382</td>\n",
       "      <td>-0.026515</td>\n",
       "      <td>0.010485</td>\n",
       "      <td>0.023334</td>\n",
       "      <td>0.009261</td>\n",
       "      <td>0.115998</td>\n",
       "    </tr>\n",
       "    <tr>\n",
       "      <th>497</th>\n",
       "      <td>basketball</td>\n",
       "      <td>0.013045</td>\n",
       "      <td>-0.041934</td>\n",
       "      <td>0.003194</td>\n",
       "      <td>0.054072</td>\n",
       "      <td>-0.008607</td>\n",
       "      <td>0.185398</td>\n",
       "    </tr>\n",
       "    <tr>\n",
       "      <th>498</th>\n",
       "      <td>motive</td>\n",
       "      <td>-0.065341</td>\n",
       "      <td>0.009330</td>\n",
       "      <td>0.099326</td>\n",
       "      <td>0.093678</td>\n",
       "      <td>0.075505</td>\n",
       "      <td>0.008227</td>\n",
       "    </tr>\n",
       "  </tbody>\n",
       "</table>\n",
       "<p>499 rows × 7 columns</p>\n",
       "</div>"
      ],
      "text/plain": [
       "           Name   Ability    Agency  Morality  Politics  Sociability    Status\n",
       "0      solution -0.090357 -0.029000 -0.042225  0.129782    -0.033643 -0.030341\n",
       "1        cancer  0.010701 -0.016409  0.022930  0.056731     0.008393  0.019863\n",
       "2       example -0.246358 -0.044295 -0.105618  0.168893    -0.152824 -0.070918\n",
       "3     stopwatch -0.094973 -0.080667 -0.080657  0.012849    -0.097793  0.042927\n",
       "4      sparerib -0.056609 -0.023163 -0.022589  0.131126    -0.040100 -0.063857\n",
       "..          ...       ...       ...       ...       ...          ...       ...\n",
       "494        lion -0.067541 -0.061056  0.005211  0.028581    -0.031119  0.010869\n",
       "495    quantity -0.115656 -0.136533 -0.003656  0.012055    -0.103291 -0.051888\n",
       "496   saxophone -0.057382 -0.026515  0.010485  0.023334     0.009261  0.115998\n",
       "497  basketball  0.013045 -0.041934  0.003194  0.054072    -0.008607  0.185398\n",
       "498      motive -0.065341  0.009330  0.099326  0.093678     0.075505  0.008227\n",
       "\n",
       "[499 rows x 7 columns]"
      ]
     },
     "execution_count": 409,
     "metadata": {},
     "output_type": "execute_result"
    }
   ],
   "source": [
    "nouns"
   ]
  },
  {
   "cell_type": "code",
   "execution_count": null,
   "id": "591637be",
   "metadata": {},
   "outputs": [],
   "source": [
    "from scipy.stats import ttest_ind"
   ]
  },
  {
   "cell_type": "code",
   "execution_count": 411,
   "id": "1bfeadcc",
   "metadata": {},
   "outputs": [
    {
     "data": {
      "text/plain": [
       "array(['Sociability', 'Morality', 'Ability', 'Agency', 'Status',\n",
       "       'Politics'], dtype=object)"
      ]
     },
     "execution_count": 411,
     "metadata": {},
     "output_type": "execute_result"
    }
   ],
   "source": [
    "dictionaries[\"Dictionary\"].unique()"
   ]
  },
  {
   "cell_type": "code",
   "execution_count": 416,
   "id": "ff110cb4",
   "metadata": {},
   "outputs": [],
   "source": [
    "def check_significance(p_value): \n",
    "    if p_value < 0.05: \n",
    "        stat_res = \"Significant Difference\"\n",
    "    else: \n",
    "        stat_res = \"No Significant Difference\"\n",
    "        \n",
    "    return stat_res"
   ]
  },
  {
   "cell_type": "code",
   "execution_count": null,
   "id": "cc2f784d",
   "metadata": {},
   "outputs": [],
   "source": []
  },
  {
   "cell_type": "code",
   "execution_count": 417,
   "id": "d46f1d18",
   "metadata": {},
   "outputs": [],
   "source": [
    "dictionary_comparison_results = {}\n",
    "\n",
    "for dictionary in dictionaries[\"Dictionary\"].unique(): \n",
    "    stat, p_value = ttest_ind(company_names[dictionary], nouns[dictionary])\n",
    "    sign = check_significance(p_value)\n",
    "    dictionary_comparison_results[dictionary] = [p_value, sign]"
   ]
  },
  {
   "cell_type": "code",
   "execution_count": null,
   "id": "296b6702",
   "metadata": {},
   "outputs": [],
   "source": []
  },
  {
   "cell_type": "code",
   "execution_count": 418,
   "id": "cffb1201",
   "metadata": {},
   "outputs": [
    {
     "data": {
      "text/plain": [
       "{'Sociability': [1.7542309017501916e-08, 'Significant Difference'],\n",
       " 'Morality': [0.000715323341723173, 'Significant Difference'],\n",
       " 'Ability': [4.025130446503094e-15, 'Significant Difference'],\n",
       " 'Agency': [0.0030512677772062233, 'Significant Difference'],\n",
       " 'Status': [0.8717194895530588, 'No Significant Difference'],\n",
       " 'Politics': [0.2175867107228613, 'No Significant Difference']}"
      ]
     },
     "execution_count": 418,
     "metadata": {},
     "output_type": "execute_result"
    }
   ],
   "source": [
    "dictionary_comparison_results"
   ]
  },
  {
   "cell_type": "code",
   "execution_count": null,
   "id": "404a0efe",
   "metadata": {},
   "outputs": [],
   "source": []
  },
  {
   "cell_type": "code",
   "execution_count": null,
   "id": "b71b04b4",
   "metadata": {},
   "outputs": [],
   "source": []
  },
  {
   "cell_type": "code",
   "execution_count": null,
   "id": "6ebb6899",
   "metadata": {},
   "outputs": [],
   "source": []
  },
  {
   "cell_type": "code",
   "execution_count": null,
   "id": "a9527cbd",
   "metadata": {},
   "outputs": [],
   "source": []
  },
  {
   "cell_type": "markdown",
   "id": "9e663614",
   "metadata": {},
   "source": [
    "### 2.3 Average over all dimensions"
   ]
  },
  {
   "cell_type": "code",
   "execution_count": 363,
   "id": "692d8bf9",
   "metadata": {},
   "outputs": [
    {
     "data": {
      "application/vnd.jupyter.widget-view+json": {
       "model_id": "1111a55a7aef4e7a848323287c7fab31",
       "version_major": 2,
       "version_minor": 0
      },
      "text/plain": [
       "  0%|          | 0/505 [00:00<?, ?it/s]"
      ]
     },
     "metadata": {},
     "output_type": "display_data"
    }
   ],
   "source": [
    "# Get delta for selected antonyms between male and female vector. \n",
    "\n",
    "company_names[\"Selected_Mean_Delta\"] = 0\n",
    "\n",
    "for name in tqdm(company_names[\"Name\"].unique()):\n",
    "    comparison = pd.read_csv(f\"./averaged_embeddings/{name}.csv\")\n",
    "    company_names[\"Selected_Mean_Delta\"].loc[company_names[\"Name\"] == name] = (comparison[\"female-male\"].mean())*10000"
   ]
  },
  {
   "cell_type": "code",
   "execution_count": 364,
   "id": "99577e95",
   "metadata": {
    "scrolled": true
   },
   "outputs": [
    {
     "data": {
      "image/png": "[encoded data removed]",
      "text/plain": [
       "<Figure size 432x288 with 1 Axes>"
      ]
     },
     "metadata": {
      "needs_background": "light"
     },
     "output_type": "display_data"
    }
   ],
   "source": [
    "# Plot difference between selected dimensions for firms. \n",
    "\n",
    "fig, ax = plt.subplots(1, 1, figsize=(6, 4))\n",
    "\n",
    "g1 = sns.scatterplot(data = company_names.sort_values(by=[\"Selected_Mean_Delta\"], ascending=True), x = \"Name\", y = \"Selected_Mean_Delta\", color = \"black\", ax = ax)\n",
    "g1.set(xticklabels=[]) \n",
    "g1.set(xlabel=\"S&P 500 Firms\") \n",
    "g1.axhline(0, color = \"black\")\n",
    "g1.tick_params(bottom=False)  "
   ]
  },
  {
   "cell_type": "code",
   "execution_count": 365,
   "id": "4b925ba7",
   "metadata": {},
   "outputs": [
    {
     "data": {
      "text/plain": [
       "0.7465346534653465"
      ]
     },
     "execution_count": 365,
     "metadata": {},
     "output_type": "execute_result"
    }
   ],
   "source": [
    "len(company_names[company_names[\"Selected_Mean_Delta\"] > 0])/len(company_names)"
   ]
  },
  {
   "cell_type": "code",
   "execution_count": 366,
   "id": "e1a24dcd",
   "metadata": {},
   "outputs": [
    {
     "data": {
      "text/html": [
       "<div>\n",
       "<style scoped>\n",
       "    .dataframe tbody tr th:only-of-type {\n",
       "        vertical-align: middle;\n",
       "    }\n",
       "\n",
       "    .dataframe tbody tr th {\n",
       "        vertical-align: top;\n",
       "    }\n",
       "\n",
       "    .dataframe thead th {\n",
       "        text-align: right;\n",
       "    }\n",
       "</style>\n",
       "<table border=\"1\" class=\"dataframe\">\n",
       "  <thead>\n",
       "    <tr style=\"text-align: right;\">\n",
       "      <th></th>\n",
       "      <th>Symbol</th>\n",
       "      <th>Name</th>\n",
       "      <th>Sector</th>\n",
       "      <th>Name_Lower</th>\n",
       "      <th>Selected_Mean_Delta</th>\n",
       "    </tr>\n",
       "  </thead>\n",
       "  <tbody>\n",
       "    <tr>\n",
       "      <th>499</th>\n",
       "      <td>XYL</td>\n",
       "      <td>Xylem</td>\n",
       "      <td>Industrials</td>\n",
       "      <td>xylem</td>\n",
       "      <td>1584.96573</td>\n",
       "    </tr>\n",
       "  </tbody>\n",
       "</table>\n",
       "</div>"
      ],
      "text/plain": [
       "    Symbol   Name       Sector Name_Lower  Selected_Mean_Delta\n",
       "499    XYL  Xylem  Industrials      xylem           1584.96573"
      ]
     },
     "execution_count": 366,
     "metadata": {},
     "output_type": "execute_result"
    }
   ],
   "source": [
    "company_names[company_names[\"Selected_Mean_Delta\"] == company_names[\"Selected_Mean_Delta\"].max()]"
   ]
  },
  {
   "cell_type": "code",
   "execution_count": 367,
   "id": "a165cfa2",
   "metadata": {},
   "outputs": [
    {
     "data": {
      "text/html": [
       "<div>\n",
       "<style scoped>\n",
       "    .dataframe tbody tr th:only-of-type {\n",
       "        vertical-align: middle;\n",
       "    }\n",
       "\n",
       "    .dataframe tbody tr th {\n",
       "        vertical-align: top;\n",
       "    }\n",
       "\n",
       "    .dataframe thead th {\n",
       "        text-align: right;\n",
       "    }\n",
       "</style>\n",
       "<table border=\"1\" class=\"dataframe\">\n",
       "  <thead>\n",
       "    <tr style=\"text-align: right;\">\n",
       "      <th></th>\n",
       "      <th>Symbol</th>\n",
       "      <th>Name</th>\n",
       "      <th>Sector</th>\n",
       "      <th>Name_Lower</th>\n",
       "      <th>Selected_Mean_Delta</th>\n",
       "    </tr>\n",
       "  </thead>\n",
       "  <tbody>\n",
       "    <tr>\n",
       "      <th>0</th>\n",
       "      <td>XYL</td>\n",
       "      <td>Xylem</td>\n",
       "      <td>Industrials</td>\n",
       "      <td>xylem</td>\n",
       "      <td>1584.965730</td>\n",
       "    </tr>\n",
       "    <tr>\n",
       "      <th>1</th>\n",
       "      <td>INTU</td>\n",
       "      <td>Intuit</td>\n",
       "      <td>Information Technology</td>\n",
       "      <td>intuit</td>\n",
       "      <td>1158.537293</td>\n",
       "    </tr>\n",
       "    <tr>\n",
       "      <th>2</th>\n",
       "      <td>NUE</td>\n",
       "      <td>Nucor</td>\n",
       "      <td>Materials</td>\n",
       "      <td>nucor</td>\n",
       "      <td>1030.015237</td>\n",
       "    </tr>\n",
       "    <tr>\n",
       "      <th>3</th>\n",
       "      <td>ADI</td>\n",
       "      <td>Analog Devices</td>\n",
       "      <td>Information Technology</td>\n",
       "      <td>analog devices</td>\n",
       "      <td>1009.555233</td>\n",
       "    </tr>\n",
       "    <tr>\n",
       "      <th>4</th>\n",
       "      <td>AMAT</td>\n",
       "      <td>Applied Materials</td>\n",
       "      <td>Information Technology</td>\n",
       "      <td>applied materials</td>\n",
       "      <td>993.592642</td>\n",
       "    </tr>\n",
       "    <tr>\n",
       "      <th>5</th>\n",
       "      <td>WM</td>\n",
       "      <td>Waste Management</td>\n",
       "      <td>Industrials</td>\n",
       "      <td>waste management</td>\n",
       "      <td>991.190863</td>\n",
       "    </tr>\n",
       "    <tr>\n",
       "      <th>6</th>\n",
       "      <td>AIZ</td>\n",
       "      <td>Assurant</td>\n",
       "      <td>Financials</td>\n",
       "      <td>assurant</td>\n",
       "      <td>978.845559</td>\n",
       "    </tr>\n",
       "    <tr>\n",
       "      <th>7</th>\n",
       "      <td>ALLE</td>\n",
       "      <td>Allegion</td>\n",
       "      <td>Industrials</td>\n",
       "      <td>allegion</td>\n",
       "      <td>934.488695</td>\n",
       "    </tr>\n",
       "    <tr>\n",
       "      <th>8</th>\n",
       "      <td>INTC</td>\n",
       "      <td>Intel</td>\n",
       "      <td>Information Technology</td>\n",
       "      <td>intel</td>\n",
       "      <td>921.404741</td>\n",
       "    </tr>\n",
       "    <tr>\n",
       "      <th>9</th>\n",
       "      <td>SYK</td>\n",
       "      <td>Stryker Corporation</td>\n",
       "      <td>Health Care</td>\n",
       "      <td>stryker corporation</td>\n",
       "      <td>876.317985</td>\n",
       "    </tr>\n",
       "  </tbody>\n",
       "</table>\n",
       "</div>"
      ],
      "text/plain": [
       "  Symbol                 Name                  Sector           Name_Lower  \\\n",
       "0    XYL                Xylem             Industrials                xylem   \n",
       "1   INTU               Intuit  Information Technology               intuit   \n",
       "2    NUE                Nucor               Materials                nucor   \n",
       "3    ADI       Analog Devices  Information Technology       analog devices   \n",
       "4   AMAT    Applied Materials  Information Technology    applied materials   \n",
       "5     WM     Waste Management             Industrials     waste management   \n",
       "6    AIZ             Assurant              Financials             assurant   \n",
       "7   ALLE             Allegion             Industrials             allegion   \n",
       "8   INTC                Intel  Information Technology                intel   \n",
       "9    SYK  Stryker Corporation             Health Care  stryker corporation   \n",
       "\n",
       "   Selected_Mean_Delta  \n",
       "0          1584.965730  \n",
       "1          1158.537293  \n",
       "2          1030.015237  \n",
       "3          1009.555233  \n",
       "4           993.592642  \n",
       "5           991.190863  \n",
       "6           978.845559  \n",
       "7           934.488695  \n",
       "8           921.404741  \n",
       "9           876.317985  "
      ]
     },
     "execution_count": 367,
     "metadata": {},
     "output_type": "execute_result"
    }
   ],
   "source": [
    "# Analyze companies with highest difference meaning highest bias toward female embedding. \n",
    "\n",
    "company_names.sort_values(by=[\"Selected_Mean_Delta\"], ascending=False).head(10).reset_index(drop = True)"
   ]
  },
  {
   "cell_type": "code",
   "execution_count": 368,
   "id": "2dab6f82",
   "metadata": {
    "scrolled": true
   },
   "outputs": [
    {
     "data": {
      "text/plain": [
       "<AxesSubplot:xlabel='Selected_Mean_Delta', ylabel='Sector'>"
      ]
     },
     "execution_count": 368,
     "metadata": {},
     "output_type": "execute_result"
    },
    {
     "data": {
      "image/png": "[encoded data removed]",
      "text/plain": [
       "<Figure size 432x288 with 1 Axes>"
      ]
     },
     "metadata": {
      "needs_background": "light"
     },
     "output_type": "display_data"
    }
   ],
   "source": [
    "# Check for difference between sectors. \n",
    "\n",
    "sp_500_groupedby_industry = company_names.groupby(\"Sector\").mean().sort_values(by=[\"Selected_Mean_Delta\"], \n",
    "                                                                        ascending=False)\n",
    "sns.barplot(data = sp_500_groupedby_industry, y = sp_500_groupedby_industry.index, \n",
    "            x= \"Selected_Mean_Delta\", color = \"black\")"
   ]
  },
  {
   "cell_type": "code",
   "execution_count": null,
   "id": "14d2fc84",
   "metadata": {},
   "outputs": [],
   "source": []
  }
 ],
 "metadata": {
  "kernelspec": {
   "display_name": "Python 3 (ipykernel)",
   "language": "python",
   "name": "python3"
  },
  "language_info": {
   "codemirror_mode": {
    "name": "ipython",
    "version": 3
   },
   "file_extension": ".py",
   "mimetype": "text/x-python",
   "name": "python",
   "nbconvert_exporter": "python",
   "pygments_lexer": "ipython3",
   "version": "3.8.12"
  }
 },
 "nbformat": 4,
 "nbformat_minor": 5
}
